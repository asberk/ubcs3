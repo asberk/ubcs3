{
 "cells": [
  {
   "cell_type": "markdown",
   "metadata": {
    "toc": "true"
   },
   "source": [
    "# Table of Contents\n",
    " <p><div class=\"lev1 toc-item\"><a href=\"#Introduction-&amp;-Set-up\" data-toc-modified-id=\"Introduction-&amp;-Set-up-1\"><span class=\"toc-item-num\">1&nbsp;&nbsp;</span>Introduction &amp; Set-up</a></div><div class=\"lev2 toc-item\"><a href=\"#Note-on-code-included\" data-toc-modified-id=\"Note-on-code-included-11\"><span class=\"toc-item-num\">1.1&nbsp;&nbsp;</span>Note on code included</a></div><div class=\"lev2 toc-item\"><a href=\"#Re-cap-from-last-time\" data-toc-modified-id=\"Re-cap-from-last-time-12\"><span class=\"toc-item-num\">1.2&nbsp;&nbsp;</span>Re-cap from last time</a></div><div class=\"lev2 toc-item\"><a href=\"#Model-assumptions\" data-toc-modified-id=\"Model-assumptions-13\"><span class=\"toc-item-num\">1.3&nbsp;&nbsp;</span>Model assumptions</a></div><div class=\"lev2 toc-item\"><a href=\"#Create-fake-data\" data-toc-modified-id=\"Create-fake-data-14\"><span class=\"toc-item-num\">1.4&nbsp;&nbsp;</span>Create fake data</a></div><div class=\"lev2 toc-item\"><a href=\"#Writing-a-basic-Logistic-Regressor-class\" data-toc-modified-id=\"Writing-a-basic-Logistic-Regressor-class-15\"><span class=\"toc-item-num\">1.5&nbsp;&nbsp;</span>Writing a basic Logistic Regressor class</a></div><div class=\"lev3 toc-item\"><a href=\"#A-black-box\" data-toc-modified-id=\"A-black-box-151\"><span class=\"toc-item-num\">1.5.1&nbsp;&nbsp;</span>A black box</a></div><div class=\"lev3 toc-item\"><a href=\"#Logistic-Regressor-shell-class\" data-toc-modified-id=\"Logistic-Regressor-shell-class-152\"><span class=\"toc-item-num\">1.5.2&nbsp;&nbsp;</span>Logistic Regressor shell class</a></div><div class=\"lev2 toc-item\"><a href=\"#Test-run\" data-toc-modified-id=\"Test-run-16\"><span class=\"toc-item-num\">1.6&nbsp;&nbsp;</span>Test run</a></div><div class=\"lev2 toc-item\"><a href=\"#Visualizing-Progress\" data-toc-modified-id=\"Visualizing-Progress-17\"><span class=\"toc-item-num\">1.7&nbsp;&nbsp;</span>Visualizing Progress</a></div><div class=\"lev1 toc-item\"><a href=\"#Setting-alpha\" data-toc-modified-id=\"Setting-alpha-2\"><span class=\"toc-item-num\">2&nbsp;&nbsp;</span>Setting alpha</a></div><div class=\"lev2 toc-item\"><a href=\"#From-above/last-time\" data-toc-modified-id=\"From-above/last-time-21\"><span class=\"toc-item-num\">2.1&nbsp;&nbsp;</span>From above/last time</a></div><div class=\"lev2 toc-item\"><a href=\"#Lipschitz-constant\" data-toc-modified-id=\"Lipschitz-constant-22\"><span class=\"toc-item-num\">2.2&nbsp;&nbsp;</span>Lipschitz constant</a></div><div class=\"lev2 toc-item\"><a href=\"#Adaptive-step-size\" data-toc-modified-id=\"Adaptive-step-size-23\"><span class=\"toc-item-num\">2.3&nbsp;&nbsp;</span>Adaptive step-size</a></div><div class=\"lev2 toc-item\"><a href=\"#Backtracking-line-search\" data-toc-modified-id=\"Backtracking-line-search-24\"><span class=\"toc-item-num\">2.4&nbsp;&nbsp;</span>Backtracking line-search</a></div><div class=\"lev2 toc-item\"><a href=\"#Comparison-of-the-three\" data-toc-modified-id=\"Comparison-of-the-three-25\"><span class=\"toc-item-num\">2.5&nbsp;&nbsp;</span>Comparison of the three</a></div><div class=\"lev1 toc-item\"><a href=\"#Coordinate-optimization\" data-toc-modified-id=\"Coordinate-optimization-3\"><span class=\"toc-item-num\">3&nbsp;&nbsp;</span>Coordinate optimization</a></div><div class=\"lev2 toc-item\"><a href=\"#Lipschitz-and-Uniform-Sampling\" data-toc-modified-id=\"Lipschitz-and-Uniform-Sampling-31\"><span class=\"toc-item-num\">3.1&nbsp;&nbsp;</span>Lipschitz and Uniform Sampling</a></div><div class=\"lev2 toc-item\"><a href=\"#So-which-is-better?\" data-toc-modified-id=\"So-which-is-better?-32\"><span class=\"toc-item-num\">3.2&nbsp;&nbsp;</span>So which is better?</a></div><div class=\"lev1 toc-item\"><a href=\"#Exercises\" data-toc-modified-id=\"Exercises-4\"><span class=\"toc-item-num\">4&nbsp;&nbsp;</span>Exercises</a></div><div class=\"lev2 toc-item\"><a href=\"#Compare-run-time-on-larger-data-sets\" data-toc-modified-id=\"Compare-run-time-on-larger-data-sets-41\"><span class=\"toc-item-num\">4.1&nbsp;&nbsp;</span>Compare run time on larger data sets</a></div><div class=\"lev2 toc-item\"><a href=\"#UMass-Amherst-smoking-data-set-for-logistic-regression\" data-toc-modified-id=\"UMass-Amherst-smoking-data-set-for-logistic-regression-42\"><span class=\"toc-item-num\">4.2&nbsp;&nbsp;</span>UMass Amherst smoking data set for logistic regression</a></div><div class=\"lev1 toc-item\"><a href=\"#Stochastic-Gradient-Descent\" data-toc-modified-id=\"Stochastic-Gradient-Descent-5\"><span class=\"toc-item-num\">5&nbsp;&nbsp;</span>Stochastic Gradient Descent</a></div><div class=\"lev2 toc-item\"><a href=\"#Mini-batch-SGD\" data-toc-modified-id=\"Mini-batch-SGD-51\"><span class=\"toc-item-num\">5.1&nbsp;&nbsp;</span>Mini-batch SGD</a></div><div class=\"lev2 toc-item\"><a href=\"#Stochastic-Average-Gradient\" data-toc-modified-id=\"Stochastic-Average-Gradient-52\"><span class=\"toc-item-num\">5.2&nbsp;&nbsp;</span>Stochastic Average Gradient</a></div><div class=\"lev3 toc-item\"><a href=\"#References\" data-toc-modified-id=\"References-521\"><span class=\"toc-item-num\">5.2.1&nbsp;&nbsp;</span>References</a></div><div class=\"lev2 toc-item\"><a href=\"#SVRG\" data-toc-modified-id=\"SVRG-53\"><span class=\"toc-item-num\">5.3&nbsp;&nbsp;</span>SVRG</a></div><div class=\"lev3 toc-item\"><a href=\"#References\" data-toc-modified-id=\"References-531\"><span class=\"toc-item-num\">5.3.1&nbsp;&nbsp;</span>References</a></div><div class=\"lev1 toc-item\"><a href=\"#Further-reading\" data-toc-modified-id=\"Further-reading-6\"><span class=\"toc-item-num\">6&nbsp;&nbsp;</span>Further reading</a></div><div class=\"lev2 toc-item\"><a href=\"#Regularization\" data-toc-modified-id=\"Regularization-61\"><span class=\"toc-item-num\">6.1&nbsp;&nbsp;</span>Regularization</a></div><div class=\"lev3 toc-item\"><a href=\"#$L^2$-regularization\" data-toc-modified-id=\"$L^2$-regularization-611\"><span class=\"toc-item-num\">6.1.1&nbsp;&nbsp;</span><span class=\"MathJax_Preview\" style=\"color: inherit; display: none;\"></span><span class=\"MathJax\" id=\"MathJax-Element-136-Frame\" tabindex=\"0\" data-mathml=\"<math xmlns=&quot;http://www.w3.org/1998/Math/MathML&quot;><msup><mi>L</mi><mn>2</mn></msup></math>\" role=\"presentation\" style=\"position: relative;\"><nobr aria-hidden=\"true\"><span class=\"math\" id=\"MathJax-Span-2081\" style=\"width: 1.252em; display: inline-block;\"><span style=\"display: inline-block; position: relative; width: 1.021em; height: 0px; font-size: 120%;\"><span style=\"position: absolute; clip: rect(1.299em 1001.02em 2.41em -999.998em); top: -2.266em; left: 0em;\"><span class=\"mrow\" id=\"MathJax-Span-2082\"><span class=\"msubsup\" id=\"MathJax-Span-2083\"><span style=\"display: inline-block; position: relative; width: 1.021em; height: 0px;\"><span style=\"position: absolute; clip: rect(3.197em 1000.56em 4.123em -999.998em); top: -3.979em; left: 0em;\"><span class=\"mi\" id=\"MathJax-Span-2084\" style=\"font-family: STIXMathJax_Main-italic;\">L<span style=\"display: inline-block; overflow: hidden; height: 1px; width: 0.002em;\"></span></span><span style=\"display: inline-block; width: 0px; height: 3.984em;\"></span></span><span style=\"position: absolute; top: -4.35em; left: 0.604em;\"><span class=\"mn\" id=\"MathJax-Span-2085\" style=\"font-size: 70.7%; font-family: STIXMathJax_Main;\">2</span><span style=\"display: inline-block; width: 0px; height: 3.984em;\"></span></span></span></span></span><span style=\"display: inline-block; width: 0px; height: 2.271em;\"></span></span></span><span style=\"display: inline-block; overflow: hidden; vertical-align: -0.053em; border-left: 0px solid; width: 0px; height: 1.114em;\"></span></span></nobr><span class=\"MJX_Assistive_MathML\" role=\"presentation\"><math xmlns=\"http://www.w3.org/1998/Math/MathML\"><msup><mi>L</mi><mn>2</mn></msup></math></span></span><script type=\"math/tex\" id=\"MathJax-Element-136\">L^2</script> regularization</a></div><div class=\"lev3 toc-item\"><a href=\"#$L^1$-regularization\" data-toc-modified-id=\"$L^1$-regularization-612\"><span class=\"toc-item-num\">6.1.2&nbsp;&nbsp;</span><span class=\"MathJax_Preview\" style=\"color: inherit; display: none;\"></span><span class=\"MathJax\" id=\"MathJax-Element-137-Frame\" tabindex=\"0\" data-mathml=\"<math xmlns=&quot;http://www.w3.org/1998/Math/MathML&quot;><msup><mi>L</mi><mn>1</mn></msup></math>\" role=\"presentation\" style=\"position: relative;\"><nobr aria-hidden=\"true\"><span class=\"math\" id=\"MathJax-Span-2086\" style=\"width: 1.252em; display: inline-block;\"><span style=\"display: inline-block; position: relative; width: 1.021em; height: 0px; font-size: 120%;\"><span style=\"position: absolute; clip: rect(1.299em 1001.02em 2.41em -999.998em); top: -2.266em; left: 0em;\"><span class=\"mrow\" id=\"MathJax-Span-2087\"><span class=\"msubsup\" id=\"MathJax-Span-2088\"><span style=\"display: inline-block; position: relative; width: 1.021em; height: 0px;\"><span style=\"position: absolute; clip: rect(3.197em 1000.56em 4.123em -999.998em); top: -3.979em; left: 0em;\"><span class=\"mi\" id=\"MathJax-Span-2089\" style=\"font-family: STIXMathJax_Main-italic;\">L<span style=\"display: inline-block; overflow: hidden; height: 1px; width: 0.002em;\"></span></span><span style=\"display: inline-block; width: 0px; height: 3.984em;\"></span></span><span style=\"position: absolute; top: -4.35em; left: 0.604em;\"><span class=\"mn\" id=\"MathJax-Span-2090\" style=\"font-size: 70.7%; font-family: STIXMathJax_Main;\">1</span><span style=\"display: inline-block; width: 0px; height: 3.984em;\"></span></span></span></span></span><span style=\"display: inline-block; width: 0px; height: 2.271em;\"></span></span></span><span style=\"display: inline-block; overflow: hidden; vertical-align: -0.053em; border-left: 0px solid; width: 0px; height: 1.114em;\"></span></span></nobr><span class=\"MJX_Assistive_MathML\" role=\"presentation\"><math xmlns=\"http://www.w3.org/1998/Math/MathML\"><msup><mi>L</mi><mn>1</mn></msup></math></span></span><script type=\"math/tex\" id=\"MathJax-Element-137\">L^1</script> regularization</a></div><div class=\"lev3 toc-item\"><a href=\"#Block-sparsity\" data-toc-modified-id=\"Block-sparsity-613\"><span class=\"toc-item-num\">6.1.3&nbsp;&nbsp;</span>Block sparsity</a></div><div class=\"lev2 toc-item\"><a href=\"#Constrained-Optimization\" data-toc-modified-id=\"Constrained-Optimization-62\"><span class=\"toc-item-num\">6.2&nbsp;&nbsp;</span>Constrained Optimization</a></div><div class=\"lev3 toc-item\"><a href=\"#Projected-Gradient\" data-toc-modified-id=\"Projected-Gradient-621\"><span class=\"toc-item-num\">6.2.1&nbsp;&nbsp;</span>Projected Gradient</a></div><div class=\"lev3 toc-item\"><a href=\"#Proximal-Gradient\" data-toc-modified-id=\"Proximal-Gradient-622\"><span class=\"toc-item-num\">6.2.2&nbsp;&nbsp;</span>Proximal Gradient</a></div><div class=\"lev3 toc-item\"><a href=\"#Newton's-method\" data-toc-modified-id=\"Newton's-method-623\"><span class=\"toc-item-num\">6.2.3&nbsp;&nbsp;</span>Newton's method</a></div><div class=\"lev3 toc-item\"><a href=\"#References:\" data-toc-modified-id=\"References:-624\"><span class=\"toc-item-num\">6.2.4&nbsp;&nbsp;</span>References:</a></div><div class=\"lev2 toc-item\"><a href=\"#Dual-methods\" data-toc-modified-id=\"Dual-methods-63\"><span class=\"toc-item-num\">6.3&nbsp;&nbsp;</span>Dual methods</a></div><div class=\"lev3 toc-item\"><a href=\"#The-Fenchel-Dual,-geometric-multipliers-and-the-KKT-conditions\" data-toc-modified-id=\"The-Fenchel-Dual,-geometric-multipliers-and-the-KKT-conditions-631\"><span class=\"toc-item-num\">6.3.1&nbsp;&nbsp;</span>The Fenchel Dual, geometric multipliers and the KKT conditions</a></div><div class=\"lev3 toc-item\"><a href=\"#Dual-coordinate-ascent\" data-toc-modified-id=\"Dual-coordinate-ascent-632\"><span class=\"toc-item-num\">6.3.2&nbsp;&nbsp;</span>Dual coordinate ascent</a></div>"
   ]
  },
  {
   "cell_type": "markdown",
   "metadata": {},
   "source": [
    "$\\newcommand{\\reals}{\\mathbb{R}}\n",
    "\\newcommand{\\ip}[1]{\\langle #1 \\rangle}\n",
    "\\DeclareMathOperator*{\\argmin}{\\arg\\min}\n",
    "\\newcommand{\\E}{\\mathbb{E}}$"
   ]
  },
  {
   "cell_type": "code",
   "execution_count": 1,
   "metadata": {
    "collapsed": true
   },
   "outputs": [],
   "source": [
    "import numpy as np\n",
    "import matplotlib.pyplot as plt\n",
    "%matplotlib inline\n",
    "import timeit"
   ]
  },
  {
   "cell_type": "code",
   "execution_count": 2,
   "metadata": {
    "collapsed": true
   },
   "outputs": [],
   "source": [
    "np.random.seed(101)"
   ]
  },
  {
   "cell_type": "markdown",
   "metadata": {},
   "source": [
    "# Introduction & Set-up\n",
    "\n",
    "## Note on code included\n",
    "\n",
    "For a package-style Python implementation of the code used in this file, you can `git clone` the repo found [here](https://github.com/asberk/simplML). \n",
    "\n",
    "## Re-cap from last time\n",
    "\n",
    "For a real-valued continuously differentiable function $f \\in \\mathcal{C}^1(\\reals^n)$, the gradient of $f$ — denoted $\\nabla f$ — gives the direction of \"steepest ascent\". This is the direction in which $f$ increases most quickly. This statement can be verified by optimizing the directional derivative of $f$ to see which direction $u \\in \\reals^n$ gives the largest d.d. \n",
    "\n",
    "The directional derivative of $f$ at a point $w^0 \\in \\reals^n$ in the direction $u \\in \\reals^n$ is given by $\\nabla f(w^0) u \\equiv \\ip{\\nabla f(w^0), u}$ and denotes the rate of change of $f$ in the direction $u$ when $\\|u\\|_2 = 1$. In this case, it follows from the Cauchy-Schwarz inequality that\n",
    "$$\n",
    "\\nabla f(w^0) u \n",
    "\\leq \\|\\nabla f(w^0)\\|_2 \\|u\\|_2 \n",
    "= \\|\\nabla f(w^0)\\|_2 \n",
    "$$ \n",
    "The two sides achieve equality precisely when $u = \\nabla f(w^0) / \\|\\nabla f(w^0)\\|_2$.\n",
    "\n",
    "Correspondingly, the direction $v \\in \\reals^n$ of steepest **descent** of $f$ at $w^0$ is *opposite* the direction of the gradient, *i.e.,* $v = -\\nabla f(w^0)/\\|\\nabla f(w^0)\\|_2$. Hence, if we're looking to minimize a function $f$, then a seemingly reasonable approach is to *march* in the direction opposite the gradient until [hopefully] we find the smallest value of $f$. \n",
    "\n",
    "<img src=\"https://upload.wikimedia.org/wikipedia/commons/f/ff/Gradient_descent.svg\" height=\"300px\" width=\"300px\" />\n",
    "\n",
    "## Model assumptions \n",
    "\n",
    "This is a quick re-cap from last time and for consistency of notation.\n",
    "\n",
    "The **data** is comprised of the **features**/**covariates** $X \\in \\reals^{n\\times d}$ and the **labels**/**response** $y \\in \\reals^n$. Suppose for the time being that $f(w; X,y): \\reals^d \\to \\reals$ defines a convex objective (\"cost\") function parametrized by the data. We think of $w$ as a vector of weights or **parameters** for a linear combination of the $d$ features. \n",
    "\n",
    "For example, the objective function for $L^2$ regularized least squares regression is given by \n",
    "$$\n",
    "\\argmin_{w\\in \\reals^d} f(X,y; w,\\lambda) = \\argmin_{w\\in\\reals^d}\\big\\{\\frac{1}{2} \\|Xw - y\\|_2^2 + \\frac{\\lambda}{2}\\|w\\|_2^2\\big\\}\n",
    "$$\n",
    "\n",
    "Since the function $f$ is assumed to be convex, a global minimizer $w^*$ exists. To find $w^*$ we need simply start at some point $w^0$ and *march* for a sufficiently long time in the direction opposite the gradient (*cf.* picture above):\n",
    "\\begin{align*}\n",
    "w^1 &:= w^0 - \\alpha_0 \\nabla f(w^0)\\\\\n",
    "w^2 &:= w^1 - \\alpha_1 \\nabla f(w^1)\\\\\n",
    "&\\,\\,\\vdots\\\\\n",
    "w^{j+1} &:= w^j - \\alpha_j \\nabla f(w^j)\n",
    "\\end{align*}\n",
    "It may not always be sensible while marching to take a step of size equal to the magnitude of the gradient. In general, one instead takes walks in the direction of the gradient scaled by some a parameter $\\alpha_t, t\\geq 0$. But how does one choose $\\alpha_t$? Should they all be the same? Is there an optimal $\\alpha$? "
   ]
  },
  {
   "cell_type": "markdown",
   "metadata": {},
   "source": [
    "## Create fake data"
   ]
  },
  {
   "cell_type": "markdown",
   "metadata": {},
   "source": [
    "Throughout this example, we'll be performing logistic regression on a two-dimensional data set, which will allow us to visualize the results. We'll be examining how long our code takes to fit and predict, by looking at both run-time and number of iterations."
   ]
  },
  {
   "cell_type": "code",
   "execution_count": 3,
   "metadata": {
    "collapsed": false
   },
   "outputs": [],
   "source": [
    "n = 500\n",
    "d = 2\n",
    "X = np.random.randn(n, d)\n",
    "y = np.zeros((n,1))\n",
    "for j in range(n):\n",
    "    if X[j,1] > X[j,0]:\n",
    "        if np.random.rand(1) >= .9:\n",
    "            y[j] = 1\n",
    "        else:\n",
    "            y[j] = -1\n",
    "    else:\n",
    "        if np.random.rand(1) < .1:\n",
    "            y[j] = -1\n",
    "        else:\n",
    "            y[j] = 1"
   ]
  },
  {
   "cell_type": "code",
   "execution_count": 4,
   "metadata": {
    "collapsed": false
   },
   "outputs": [
    {
     "data": {
      "image/png": "[encoded data removed]",
      "text/plain": [
       "<matplotlib.figure.Figure at 0x10cb5b828>"
      ]
     },
     "metadata": {},
     "output_type": "display_data"
    }
   ],
   "source": [
    "plt.scatter(X[:,0], X[:,1], s=10, lw=0, alpha=.8, c=y);"
   ]
  },
  {
   "cell_type": "code",
   "execution_count": 5,
   "metadata": {
    "collapsed": false
   },
   "outputs": [
    {
     "name": "stdout",
     "output_type": "stream",
     "text": [
      "#{y == 1} = 253\n",
      "#{y == -1} = 247\n"
     ]
    }
   ],
   "source": [
    "print('#{y == 1} = %d\\n#{y == -1} = %d' % ((y == 1).sum(), (y == -1).sum()))"
   ]
  },
  {
   "cell_type": "markdown",
   "metadata": {},
   "source": [
    "## Writing a basic Logistic Regressor class"
   ]
  },
  {
   "cell_type": "markdown",
   "metadata": {},
   "source": [
    "Last time, we wrote a very simple gradient descent method. I've re-written it here in a slightly more general form so that it cooperates with what we'll be defining below."
   ]
  },
  {
   "cell_type": "code",
   "execution_count": 6,
   "metadata": {
    "code_folding": [
     0
    ],
    "collapsed": true
   },
   "outputs": [],
   "source": [
    "def vanillaGradientDescent(funObj, w, X, y, \n",
    "                           objectiveParms={}, \n",
    "                           gdParms={}):\n",
    "    # optimality tolerance\n",
    "    optTol = gdParms.get('optTol')\n",
    "    if optTol is None:\n",
    "        optTol = 1e-2\n",
    "    maxEvals = gdParms.get('maxEvals')\n",
    "    if maxEvals is None:\n",
    "        maxEvals = 500\n",
    "    verbose = gdParms.get('verbose')\n",
    "    if verbose is None:\n",
    "        verbose = False\n",
    "    # initial objective and gradient value\n",
    "    f,g = funObj(w, X, y, **objectiveParms)\n",
    "    # this took a single function evaluation\n",
    "    funEvals = 1\n",
    "    \n",
    "    # initialize the step size\n",
    "    alpha = gdParms.get('alpha')\n",
    "    if alpha is None:\n",
    "        alpha = .01\n",
    "    \n",
    "    # Gradient Descent loop\n",
    "    while True:\n",
    "        # Step in search direction\n",
    "        w = w - alpha*g\n",
    "        # Update objective and gradient values\n",
    "        f, g = funObj(w, X, y, **objectiveParms)\n",
    "        # This cost one more function evaluation\n",
    "        funEvals += 1\n",
    "        # Test terminate conditions — largest magnitude of derivative\n",
    "        optCond = np.linalg.norm(g, np.inf)\n",
    "        if verbose:\n",
    "            print('%6d %15.5e %15.5e %15.5e' % (funEvals, alpha, f, optCond))\n",
    "        if optCond < optTol:\n",
    "            if verbose:\n",
    "                print('Problem solved up to optimality tolerance')\n",
    "            break\n",
    "        if funEvals >= maxEvals:\n",
    "            if verbose:\n",
    "                print('At maximum number of function evaluations')\n",
    "            break\n",
    "    return (w, f, funEvals)"
   ]
  },
  {
   "cell_type": "markdown",
   "metadata": {},
   "source": [
    "### A black box"
   ]
  },
  {
   "cell_type": "markdown",
   "metadata": {},
   "source": [
    "We'll also be using a function [translated and modified from Mark Schmidt's Matlab version] that can be — for now — be treated as a black box. This function is not available, to my knowledge, on his website; however, you can find `minFunc` [through his website](https://www.cs.ubc.ca/~schmidtm/Software/minFunc.html), which is likely a generalization of `findMin`. "
   ]
  },
  {
   "cell_type": "code",
   "execution_count": 7,
   "metadata": {
    "code_folding": [
     1
    ],
    "collapsed": true
   },
   "outputs": [],
   "source": [
    "# checks if a number v is in the appropriate real range\n",
    "def isLegal(v):\n",
    "    # assumes v is a scalar or vector\n",
    "    return any(np.imag(x) for x in [v]) and any(np.isnan(x) for x in [v]) and any(np.isinf(x) for x in [v])"
   ]
  },
  {
   "cell_type": "code",
   "execution_count": 8,
   "metadata": {
    "code_folding": [
     0
    ],
    "collapsed": true
   },
   "outputs": [],
   "source": [
    "def findMin(funObj, w, X, y, \n",
    "            objectiveParms={}, \n",
    "            gdParms={}):\n",
    "    \"\"\"\n",
    "    findMin computes the optimal parameter vector w to \n",
    "    funObj given the data X, y and execution parameters \n",
    "    objectiveParms & gdParms using gradient descent with \n",
    "    backtracking via Armijo rule, setting alpha via cubic\n",
    "    Hermite interpolation (I think)\n",
    "    \"\"\"\n",
    "    optTol = gdParms.get('optTol')\n",
    "    if optTol is None:\n",
    "        optTol = 1e-2\n",
    "    maxEvals = gdParms.get('maxEvals')\n",
    "    if maxEvals is None:\n",
    "        maxEvals = 500\n",
    "    verbose = gdParms.get('verbose')\n",
    "    if verbose is None:\n",
    "        verbose = False\n",
    "    gamma = gdParms.get('gamma')\n",
    "    if gamma is None:\n",
    "        gamma = 1e-4\n",
    "    \n",
    "    f,g = funObj(w, X, y, **objectiveParms)\n",
    "    funEvals = 1\n",
    "    \n",
    "    alpha = 1\n",
    "    while True:\n",
    "        # Line-search to find an acceptable value of alpha\n",
    "        w_new = w - alpha*g\n",
    "        f_new, g_new = funObj(w_new, X, y, **objectiveParms)\n",
    "        funEvals += 1\n",
    "        \n",
    "        gg = g.T @ g\n",
    "        while f_new > f - gamma*alpha*gg:\n",
    "            if verbose:\n",
    "                print('Backtracking...')\n",
    "            alpha = alpha**2 * gg/(2*(f_new - f + alpha*gg))\n",
    "            w_new = w - alpha*g\n",
    "            f_new, g_new = funObj(w_new, X, y, **objectiveParms)\n",
    "            funEvals += 1\n",
    "        # Update step size for next iteration\n",
    "        dg = g_new - g\n",
    "        alpha - -alpha*(dg.T @ g)/(dg.T @ dg)\n",
    "        # Sanity check on step-size\n",
    "        if (not isLegal(alpha)) or (alpha < 1e-10) or (alpha > 1e10):\n",
    "            alpha = 1\n",
    "        # Update parameters/function/gradient\n",
    "        w = w_new\n",
    "        f = f_new\n",
    "        g = g_new\n",
    "        # Test terminate conditions\n",
    "        optCond = np.linalg.norm(g, np.inf)\n",
    "        if verbose:\n",
    "            print('%6d %15.5e %15.5e %15.5e' % (funEvals, alpha, f, optCond))\n",
    "        if optCond < optTol:\n",
    "            if verbose:\n",
    "                print('Problem solved up to optimality tolerance')\n",
    "            break\n",
    "        if funEvals >= maxEvals:\n",
    "            if verbose:\n",
    "                print('At maximum number of function evaluations')\n",
    "            break\n",
    "    return (w, f, funEvals)"
   ]
  },
  {
   "cell_type": "markdown",
   "metadata": {},
   "source": [
    "### Logistic Regressor shell class"
   ]
  },
  {
   "cell_type": "markdown",
   "metadata": {},
   "source": [
    "Below, we construct a class called `LogisticRegressor` which has `fit` and `predict` methods. One major difference between this and `sklearn`'s `LogisticRegression` class object is that I more easily know how to alter these moving parts without breaking the whole thing. This will let us alter the gradient descent method and the objective function so that we can compare run time, iteration cost, *etc.*"
   ]
  },
  {
   "cell_type": "markdown",
   "metadata": {},
   "source": [
    "The logistic regression objective function is given by \n",
    "$$\n",
    "f(w; X,y) := \\sum_{i=1}^n \\log (1 + \\exp(-y^i w^T x^i)) + \\frac{\\lambda}{2} \\|w\\|_2^2\n",
    "$$\n",
    "and its gradient is given by \n",
    "$$\n",
    "\\nabla_w f(w; X,y) = g(w; X,y) = X^T r + \\lambda w, \\quad r_i := -y^i \\sigma(-y^i w^T x^i)\n",
    "$$\n",
    "where $\\sigma(x) := (1 + e^{-x})^{-1}$ is the *logistic function*.\n",
    "\n",
    "<img src=\"https://upload.wikimedia.org/wikipedia/commons/thumb/8/88/Logistic-curve.svg/320px-Logistic-curve.svg.png\" width=\"300px\" height=\"200px\"/>"
   ]
  },
  {
   "cell_type": "code",
   "execution_count": 9,
   "metadata": {
    "code_folding": [
     17,
     45,
     76,
     85
    ],
    "collapsed": false
   },
   "outputs": [],
   "source": [
    "class LogisticRegressor:\n",
    "    \"\"\"\n",
    "    LogisticRegressor takes data [X, y] and optimization parameters and computes a \n",
    "    logistic regression linear model to perform binary classification.\n",
    "    X: an n-by-d numpy.ndarray object whose rows are samples/observations of d features\n",
    "    y: an n-by-1 numpy.ndarray vector whose elements lie in the set {-1, +1}\n",
    "    objectiveParms: A dictionary of parameters to pass to the objective function \n",
    "                    (e.g., an L2-regularization parameter lam)\n",
    "    gdParms: A dictionary of parameters to pass to the gradient descent method\n",
    "             (e.g., the optimality tolerance, the gradient descent step size, etc.)\n",
    "    kwargs:\n",
    "        intercept: whether to fit a linear model a.T * X or affine model a.T * X + a0\n",
    "        maxIter: maximum number of iterations before loop breaks\n",
    "        verbose: whether to print progress during the optimization\n",
    "        objective: the objective function to use in the optimization\n",
    "        gd: the gradient descent method to use in the optimization\n",
    "    \"\"\"\n",
    "    def __init__(self,objectiveParms={},gdParms={},**kwargs):\n",
    "        # # # Optional Parameters # # #\n",
    "        # Whether to include the intercept term \n",
    "        # (default: yes)\n",
    "        self.intercept = kwargs.get('intercept')\n",
    "        # Whether to print out information along the way \n",
    "        # (default: yes)\n",
    "        self.verbose = gdParms.get('verbose')\n",
    "        if self.verbose is None:\n",
    "            self.verbose = False\n",
    "            gdParms['verbose'] = False\n",
    "        # Objective function for logistic regression \n",
    "        # (default: L2 regularized LR)\n",
    "        self.objective = kwargs.get('objective')\n",
    "        self.objectiveParms = objectiveParms\n",
    "        if self.objective is None:\n",
    "            self.objective = LogisticRegressor.simpleObjective\n",
    "            if (objectiveParms is None) or (objectiveParms.get('lam') is None):\n",
    "                self.objectiveParms = {'lam': 1}\n",
    "        # Gradient descent algorithm\n",
    "        # (default: vanillaGradientDescent)\n",
    "        self.gd = kwargs.get('gd')\n",
    "        self.gdParms = gdParms\n",
    "        if self.gd is None:\n",
    "            self.gd = vanillaGradientDescent\n",
    "            if (gdParms is None) or (gdParms.get('alpha') is None):\n",
    "                self.gdParms = gdParms = {'alpha': .01}\n",
    "        return\n",
    "    def fit(self, X, y, w=None):\n",
    "        \"\"\"\n",
    "        LogisticRegressor.fit fits the objective function `objective` to the \n",
    "        data `[X, y]` using `w` as the initial starting point for the parameters\n",
    "        and lam as the regularization parameter.\n",
    "        \"\"\"\n",
    "        # # # Necessary parameters # # #\n",
    "        self.X = X\n",
    "        self.n, self.d = self.X.shape\n",
    "        self.y = y\n",
    "        self.w = w\n",
    "        if self.w is None:\n",
    "            self.w = np.zeros((self.d,1))\n",
    "        # Whether to fit intercept\n",
    "        if self.intercept:\n",
    "            self.X = np.hstack((np.ones((self.n,1)),self.X))\n",
    "            self.w = np.vstack((np.ones((1,1)),self.w))\n",
    "        # # # Gradient descent algorithm # # #\n",
    "        if self.verbose:\n",
    "            st = timeit.time.clock()\n",
    "        w, oM, fE = self.gd(self.objective, self.w, \n",
    "                            self.X, self.y, \n",
    "                            self.objectiveParms,\n",
    "                            self.gdParms)\n",
    "        if self.verbose:\n",
    "            et = timeit.time.clock()\n",
    "            print('total elapsed time: %15.5g s' % (et-st))\n",
    "        self.w = w\n",
    "        self.objMin = oM\n",
    "        self.funEvals = fE\n",
    "        return\n",
    "    def predict(self, Xhat):\n",
    "        \"\"\"\n",
    "        LogisticRegressor.predict computes the predicted values `yhat` from the\n",
    "        data `Xhat` and the parameters `w` computed from `fit`.\n",
    "        \"\"\"\n",
    "        t,d = Xhat.shape\n",
    "        if self.intercept:\n",
    "            Xhat = np.hstack((np.ones((t,1)),Xhat))\n",
    "        return np.sign(np.dot(Xhat, self.w))\n",
    "    def simpleObjective(w,X,y,lam):\n",
    "        \"\"\"\n",
    "        LogisticRegressor.simpleObjective returns the objective value and its \n",
    "        gradient given the parameters `w`, data `[X, y]` and regularization\n",
    "        parameter `lam`. It does this without regard to number of computations\n",
    "        required for matrix multiplication, etc. (hence, 'simple')\n",
    "        \"\"\"\n",
    "        yXw = y*(X @ w)\n",
    "        nll = np.sum(np.log(1 + np.exp(-yXw))) + .5*lam*np.dot(w.T,w)\n",
    "        sigmoid = 1/(1+np.exp(-yXw))\n",
    "        g = - np.dot(X.T, y*(1-sigmoid)) + lam*w\n",
    "        return (nll, g)"
   ]
  },
  {
   "cell_type": "markdown",
   "metadata": {},
   "source": [
    "## Test run"
   ]
  },
  {
   "cell_type": "code",
   "execution_count": 10,
   "metadata": {
    "collapsed": true
   },
   "outputs": [],
   "source": [
    "LR_vanilla1 = LogisticRegressor(gdParms={'alpha':1e-1})\n",
    "LR_vanilla2 = LogisticRegressor(gdParms={'alpha':1e-2})"
   ]
  },
  {
   "cell_type": "code",
   "execution_count": 11,
   "metadata": {
    "collapsed": false,
    "scrolled": true
   },
   "outputs": [
    {
     "name": "stdout",
     "output_type": "stream",
     "text": [
      "10 loops, best of 3: 40.6 ms per loop\n",
      "100 loops, best of 3: 2.28 ms per loop\n"
     ]
    }
   ],
   "source": [
    "%timeit LR_vanilla1.fit(X,y)\n",
    "%timeit LR_vanilla2.fit(X,y)"
   ]
  },
  {
   "cell_type": "code",
   "execution_count": 12,
   "metadata": {
    "collapsed": false
   },
   "outputs": [
    {
     "name": "stdout",
     "output_type": "stream",
     "text": [
      "LR_vanilla1.funEvals = 500\n",
      "LR_vanilla2.funEvals = 28\n"
     ]
    }
   ],
   "source": [
    "print('LR_vanilla1.funEvals = {}'.format(LR_vanilla1.funEvals))\n",
    "print('LR_vanilla2.funEvals = {}'.format(LR_vanilla2.funEvals))"
   ]
  },
  {
   "cell_type": "markdown",
   "metadata": {},
   "source": [
    "Now compare against the \"black box\" from Mark Schmidt. "
   ]
  },
  {
   "cell_type": "code",
   "execution_count": 13,
   "metadata": {
    "collapsed": false,
    "scrolled": true
   },
   "outputs": [
    {
     "name": "stdout",
     "output_type": "stream",
     "text": [
      "100 loops, best of 3: 2.21 ms per loop\n"
     ]
    }
   ],
   "source": [
    "LR_findMin = LogisticRegressor(gd=findMin)\n",
    "%timeit LR_findMin.fit(X,y)"
   ]
  },
  {
   "cell_type": "code",
   "execution_count": 14,
   "metadata": {
    "collapsed": false
   },
   "outputs": [
    {
     "name": "stdout",
     "output_type": "stream",
     "text": [
      "LR_findMin.funEvals = 26\n"
     ]
    }
   ],
   "source": [
    "print('LR_findMin.funEvals = {}'.format(LR_findMin.funEvals))"
   ]
  },
  {
   "cell_type": "markdown",
   "metadata": {},
   "source": [
    "## Visualizing Progress"
   ]
  },
  {
   "cell_type": "code",
   "execution_count": 15,
   "metadata": {
    "code_folding": [
     0
    ],
    "collapsed": true
   },
   "outputs": [],
   "source": [
    "def binaryClassifier2DPlot(model):\n",
    "    \"\"\"\n",
    "    binaryClassifier2DPlot makes a plot of the two dimensional data X\n",
    "    used by model, coloured by class membership y. The background of the \n",
    "    plot is coloured according to the decision function computed by \n",
    "    fitting the model to the data [X, y].\n",
    "    \"\"\"\n",
    "    increment = 500\n",
    "    X = model.X\n",
    "    if model.intercept:\n",
    "        X = X[:, 1:]\n",
    "    y = model.y\n",
    "    # Get the label values\n",
    "    yu = np.unique(y).tolist()\n",
    "    # This sets the axis limits\n",
    "    plt.scatter(X[y.ravel() == yu[0], 0], X[y.ravel() == yu[0], 1], s=20, lw=1, alpha=.5, c='g', marker='+');\n",
    "    plt.hold(True)\n",
    "    plt.scatter(X[y.ravel() == yu[1], 0], X[y.ravel() == yu[1], 1], s=10, lw=0, alpha=.5, c='b', marker='o');\n",
    "    # Fetch axis limits\n",
    "    xLim = plt.xlim()\n",
    "    yLim = plt.ylim()\n",
    "    # Domain on which to compute the decision function\n",
    "    domain1 = np.linspace(*xLim, increment+1)\n",
    "    domain2 = np.linspace(*yLim, increment+1)\n",
    "    d1, d2 = np.meshgrid(domain1, domain2)\n",
    "    d12 = np.array([d1.ravel(), d2.ravel()]).T\n",
    "    # Compute the decision function\n",
    "    vals = model.predict(d12)\n",
    "    zData = vals.reshape(d1.shape)\n",
    "    # Set the colour map\n",
    "    if all(zData.ravel() == yu[0]):\n",
    "        cm = [0, .4, 0]\n",
    "    elif all(zData.ravel() == yu[1]):\n",
    "        cm = [0, 0, .5]\n",
    "    else:\n",
    "        cm = np.array([[0, .4, 0], [0, 0, .5]])\n",
    "    # Filled contour plot of the decision function\n",
    "    plt.contourf(d1,d2,zData+np.random.rand(*zData.shape)/1000,colors=cm)\n",
    "    # Plot the data [X, y] over top (it has been covered by the filled contours)\n",
    "    plt.scatter(X[y.ravel() == yu[1], 0], X[y.ravel() == yu[1], 1], s=10, lw=0, c=[0,.5,1], marker='o');\n",
    "    plt.scatter(X[y.ravel() == yu[0], 0], X[y.ravel() == yu[0], 1], s=20, lw=1, c=[0,1,0], marker='+');\n",
    "    return"
   ]
  },
  {
   "cell_type": "code",
   "execution_count": 16,
   "metadata": {
    "collapsed": false
   },
   "outputs": [
    {
     "data": {
      "image/png": "[encoded data removed]",
      "text/plain": [
       "<matplotlib.figure.Figure at 0x10cbe2b00>"
      ]
     },
     "metadata": {},
     "output_type": "display_data"
    }
   ],
   "source": [
    "plt.figure(figsize=(10,10))\n",
    "for j, model, pTitle in zip(range(221,224), \n",
    "                            [LR_vanilla1, LR_vanilla2, LR_findMin], \n",
    "                            ['Vanilla, alpha=1e-1', 'Vanilla, alpha=1e-2', 'findMin']):\n",
    "    plt.subplot(j)\n",
    "    binaryClassifier2DPlot(model)\n",
    "    plt.title(pTitle)\n",
    "    plt.axis('tight');"
   ]
  },
  {
   "cell_type": "markdown",
   "metadata": {},
   "source": [
    "The first performs **terribly**! But we could already predict this by looking at `optCond` in the right-hand column of the `verbose` output: the largest magnitude of the derivative not only stops shrinking beyond ~70 but actually bounces around between about 70 and 200.\n",
    "\n",
    "The second performs much better. and looks like it's properly separated the points. Furthermore, fitting only required $28$ function evaluations compared to `findMin`'s $26$. "
   ]
  },
  {
   "cell_type": "markdown",
   "metadata": {},
   "source": [
    "# Setting alpha\n",
    "\n",
    "## From above/last time\n",
    "\n",
    "Last time, we used the approach with $\\alpha = \\alpha_0 = \\alpha_1 = \\ldots$ and we saw that the results obtained were highly dependent on the [sequence of] learning rates.\n",
    "\n",
    "## Lipschitz constant\n",
    "\n",
    "If we can determine the Lipschitz constant of our objective function, then we get a very nice progress bound under certain assumptions on the objective function.\n",
    "\n",
    "Namely, assume that $f$ is strongly smooth. In particular, there exists $L$ such that for any $v, z$, \n",
    "$$\n",
    "v^T \\nabla^2 f(z) v \\leq L\\|v\\|_2^2\n",
    "$$\n",
    "For some $z$, it then follows by Taylor's theorem that \n",
    "$$\n",
    "f(y) = f(x^t) + \\nabla f(x^t) (y-x^t) + \\frac{1}{2}(y-x^t)^T \\nabla^2 f(z) (y-x^t) %\n",
    "\\leq f(x^t) + \\nabla f(x^t) (y-x^t) + \\frac{L}{2}\\|y-x^t\\|_2^2\n",
    "$$\n",
    "Setting $y = x^{t+1}$ to be the minimizer of this equation yields\n",
    "$$\n",
    "x^{t+1} = x^t - \\frac{1}{L} \\|\\nabla f(x^t)\\|_2^2\n",
    "$$\n",
    "In particular, gradient descent with $\\alpha_t := 1/L$ minimizes the upper bound (*i.e.*, maximizes the *worst-case* progress). Substituting this into the expression above, \n",
    "$$\n",
    "f(x^{t+1}) \\leq f(x^t) - \\frac{1}{2L} \\|\\nabla f(x^t)\\|_2^2\n",
    "$$\n",
    "*Caveat* *via* a direct quote from Mark Schmidt: \"In practice, you should never use $\\alpha = 1/L$.\""
   ]
  },
  {
   "cell_type": "code",
   "execution_count": 17,
   "metadata": {
    "collapsed": true
   },
   "outputs": [],
   "source": [
    "def logisticLipschitz(X, lam=0):\n",
    "    return .25 * np.max(np.linalg.eigvals(X.T @ X)) + lam"
   ]
  },
  {
   "cell_type": "code",
   "execution_count": 18,
   "metadata": {
    "collapsed": false
   },
   "outputs": [
    {
     "name": "stdout",
     "output_type": "stream",
     "text": [
      "Lipschitz constant is 140.75, implying alpha is 7.105e-03\n"
     ]
    }
   ],
   "source": [
    "objectiveParms_Lip = {'lam': 1}\n",
    "L_logist = logisticLipschitz(X, **objectiveParms_Lip)\n",
    "\n",
    "print('Lipschitz constant is {:5.5g}, implying alpha is {:5.3e}'.format(L_logist, 1/L_logist))\n",
    "\n",
    "LR_Lip = LogisticRegressor(objectiveParms=objectiveParms_Lip, \n",
    "                           gdParms={'alpha':1/L_logist})"
   ]
  },
  {
   "cell_type": "code",
   "execution_count": 19,
   "metadata": {
    "collapsed": false,
    "scrolled": true
   },
   "outputs": [
    {
     "name": "stdout",
     "output_type": "stream",
     "text": [
      "100 loops, best of 3: 3.39 ms per loop\n"
     ]
    }
   ],
   "source": [
    "%timeit LR_Lip.fit(X,y)"
   ]
  },
  {
   "cell_type": "code",
   "execution_count": 20,
   "metadata": {
    "collapsed": false
   },
   "outputs": [
    {
     "name": "stdout",
     "output_type": "stream",
     "text": [
      "LR_Lip.funEvals = 42\n"
     ]
    }
   ],
   "source": [
    "print('LR_Lip.funEvals = {}'.format(LR_Lip.funEvals))"
   ]
  },
  {
   "cell_type": "markdown",
   "metadata": {},
   "source": [
    "Stops after only 42 function evaluations; largest partial derivative has magnitude .0090. This is *much* better than the step size of $1\\mathrm{e}-1$ but *worse* than taking a step size of $1\\mathrm{e}-2$. Why is that we can get away with a *larger* value of $\\alpha$? "
   ]
  },
  {
   "cell_type": "markdown",
   "metadata": {},
   "source": [
    "## Adaptive step-size"
   ]
  },
  {
   "cell_type": "markdown",
   "metadata": {},
   "source": [
    "This approach often gives bigger steps and faster progress, but step size never increases.\n",
    "\n",
    "1. Start with a small guess for $L$  \n",
    "$ L \\leftarrow 1$\n",
    "2. Double $L$ if the *progress inequality* from above  \n",
    "$f(x^{t+1}) \\leq f(x^t) - \\frac{1}{2L}\\|\\nabla f(x^t)\\|_2^2$\n",
    "is not satisfied."
   ]
  },
  {
   "cell_type": "markdown",
   "metadata": {},
   "source": [
    "Notice that this \"backtracking\" approach makes sense when it is cheap to evaluate our function and expensive to compute the matrix product $Xw$. "
   ]
  },
  {
   "cell_type": "code",
   "execution_count": 21,
   "metadata": {
    "collapsed": false
   },
   "outputs": [],
   "source": [
    "def adaptiveGradientDescent(funObj, w, X, y,\n",
    "                            objectiveParms={}, \n",
    "                            gdParms={}):\n",
    "    # optimality tolerance\n",
    "    optTol = gdParms.get('optTol')\n",
    "    if optTol is None:\n",
    "        optTol = 1e-2\n",
    "    maxEvals = gdParms.get('maxEvals')\n",
    "    if maxEvals is None:\n",
    "        maxEvals = 500\n",
    "    verbose = gdParms.get('verbose')\n",
    "    if verbose is None:\n",
    "        verbose = True\n",
    "    # armijo?\n",
    "    gamma = gdParms.get('gamma')\n",
    "    if gamma is None:\n",
    "        gamma = .5\n",
    "    elif (gamma > .5) or (gamma <= 0):\n",
    "        gamma = 1e-4\n",
    "    # initial objective and gradient value\n",
    "    f,g = funObj(w, X, y, **objectiveParms)\n",
    "    # this took a single function evaluation\n",
    "    funEvals = 1\n",
    "    \n",
    "    # initialize the step size\n",
    "    L0 = gdParms.get('L0')\n",
    "    if L0 is None:\n",
    "        L0 = 1\n",
    "    alpha = 1/L0\n",
    "    \n",
    "    # Gradient Descent loop\n",
    "    while True:\n",
    "        w_new = w - alpha*g\n",
    "        f_new, g_new = funObj(w_new, X, y, **objectiveParms)\n",
    "        funEvals += 1\n",
    "        gg = g.T @ g\n",
    "        while f_new > f - gamma*alpha*gg:\n",
    "            if verbose:\n",
    "                print('Backtracking...')\n",
    "            alpha /= 2\n",
    "            w_new = w - alpha*g\n",
    "            f_new, g_new = funObj(w_new, X, y, **objectiveParms)\n",
    "            funEvals += 1\n",
    "        # Update parameters/function/gradient\n",
    "        w = w_new\n",
    "        f = f_new\n",
    "        g = g_new\n",
    "        # Test terminate conditions\n",
    "        optCond = np.linalg.norm(g, np.inf)\n",
    "        if verbose:\n",
    "            print('%6d %15.5e %15.5e %15.5e' % (funEvals, alpha, f, optCond))\n",
    "        # Reset alpha for next\n",
    "        alpha = 1/L0\n",
    "        if optCond < optTol:\n",
    "            if verbose:\n",
    "                print('Problem solved up to optimality tolerance')\n",
    "            break\n",
    "        if funEvals >= maxEvals:\n",
    "            if verbose:\n",
    "                print('At maximum number of function evaluations')\n",
    "            break\n",
    "    return (w, f, funEvals)"
   ]
  },
  {
   "cell_type": "code",
   "execution_count": 22,
   "metadata": {
    "collapsed": true
   },
   "outputs": [],
   "source": [
    "LR_adap = LogisticRegressor(objectiveParms={'lam':1},\n",
    "                            gdParms={'L0':1},\n",
    "                            gd=adaptiveGradientDescent)"
   ]
  },
  {
   "cell_type": "code",
   "execution_count": 23,
   "metadata": {
    "collapsed": false,
    "scrolled": true
   },
   "outputs": [
    {
     "name": "stdout",
     "output_type": "stream",
     "text": [
      "100 loops, best of 3: 4.08 ms per loop\n"
     ]
    }
   ],
   "source": [
    "%timeit LR_adap.fit(X, y)"
   ]
  },
  {
   "cell_type": "code",
   "execution_count": 24,
   "metadata": {
    "collapsed": false
   },
   "outputs": [
    {
     "name": "stdout",
     "output_type": "stream",
     "text": [
      "LR_adap.funEvals = 54\n"
     ]
    }
   ],
   "source": [
    "print('LR_adap.funEvals = {}'.format(LR_adap.funEvals))"
   ]
  },
  {
   "cell_type": "markdown",
   "metadata": {},
   "source": [
    "## Backtracking line-search\n",
    "\n",
    "Checks against the Armijo condition\n",
    "$$\n",
    "f(x^{t+1}) \\leq f(x^t) - \\alpha\\gamma \\|\\nabla f(x^t)\\|_2^2, \\quad \\gamma \\in (0, 1/2]\n",
    "$$\n",
    "See Wikipedia for a more detailed discussion on the more technical [Wolfe conditions](https://en.wikipedia.org/wiki/Wolfe_conditions) (of which the Armijo rule is a special case)."
   ]
  },
  {
   "cell_type": "markdown",
   "metadata": {},
   "source": [
    "Since this version was implemented above in `adaptiveGradientDescent` the only step required for this section is to choose `gamma` and fit the model."
   ]
  },
  {
   "cell_type": "code",
   "execution_count": 25,
   "metadata": {
    "collapsed": true
   },
   "outputs": [],
   "source": [
    "LR_armijo = LogisticRegressor(objectiveParms={'lam':1},\n",
    "                              gdParms={'L0':1,'gamma':1e-4},\n",
    "                              gd=adaptiveGradientDescent)"
   ]
  },
  {
   "cell_type": "code",
   "execution_count": 26,
   "metadata": {
    "collapsed": false
   },
   "outputs": [
    {
     "name": "stdout",
     "output_type": "stream",
     "text": [
      "100 loops, best of 3: 4.88 ms per loop\n"
     ]
    }
   ],
   "source": [
    "%timeit LR_armijo.fit(X,y)"
   ]
  },
  {
   "cell_type": "code",
   "execution_count": 27,
   "metadata": {
    "collapsed": false
   },
   "outputs": [
    {
     "name": "stdout",
     "output_type": "stream",
     "text": [
      "LR_armijo.funEvals = 70\n"
     ]
    }
   ],
   "source": [
    "print('LR_armijo.funEvals = {}'.format(LR_armijo.funEvals))"
   ]
  },
  {
   "cell_type": "markdown",
   "metadata": {},
   "source": [
    "## Comparison of the three"
   ]
  },
  {
   "cell_type": "code",
   "execution_count": 28,
   "metadata": {
    "collapsed": false
   },
   "outputs": [
    {
     "data": {
      "image/png": "[encoded data removed]",
      "text/plain": [
       "<matplotlib.figure.Figure at 0x11351ccc0>"
      ]
     },
     "metadata": {},
     "output_type": "display_data"
    }
   ],
   "source": [
    "plt.figure(figsize=(10,10))\n",
    "for j, model, pTitle in zip(range(221,224), \n",
    "                            [LR_Lip, LR_adap, LR_armijo], \n",
    "                            ['Lipschitz', 'Adaptive', 'Armijo']):\n",
    "    plt.subplot(j)\n",
    "    binaryClassifier2DPlot(model)\n",
    "    plt.title(pTitle)\n",
    "    plt.axis('tight');"
   ]
  },
  {
   "cell_type": "markdown",
   "metadata": {},
   "source": [
    "# Coordinate optimization\n",
    "\n",
    "In this case, we must assume that our function $f(w; X,y)$ is the sum of a smooth function and a separable function\n",
    "$$\n",
    "f(w; X,y) = g(w; X,y) + \\sum_{j=1}^d h_j(w_i; X,y)\n",
    "$$\n",
    "Then at each iteration $t$ select an index $j_t$ and update that index via \n",
    "$$\n",
    "x^{t+1}_{j_t} = x^t_{j_t} + \\gamma_t \\quad\\iff \\quad x^{t+1} = x^t + \\gamma_t e_{j_t}\n",
    "$$\n",
    "for some constant $\\gamma_t$ and where $e_{j_t}$ is the $j_t$-th unit vector.\n",
    "\n",
    "In the case of logistic regression, one of the key tools here is that this allows us to track updates via \n",
    "$$\n",
    "Xw^{t+1} = Xw^t + \\gamma_t X e_{j_t} = Xw^t + \\gamma_t x_{j_t}\n",
    "$$\n",
    "so that it is only necessary to keep track of the index $j_t$ that is selected and the update constant $\\gamma_t$ — no more than one expensive matrix multiplication is required [to compute $Xw^0$]. But how does one go about choosing $j_t$ on iteration $t$? We'll mention two ways. "
   ]
  },
  {
   "cell_type": "markdown",
   "metadata": {},
   "source": [
    "## Lipschitz and Uniform Sampling\n",
    "\n",
    "In the first selection method that we'll discuss, $j_t$ is chosen uniformly at random on each iteration from $[d] := \\{1, 2, \\ldots, d\\}$ – *i.e.*, $j_t \\sim \\mathrm{Unif}([d])$ and $j_t$ chosen according to $P(j_t = k) = L_k/Z$ for $k \\in [d]$, where $L_k$ denotes the $k$th coordinate-wise Lipschitz constant and $Z$ a normalizing factor so that $Z^{-1}\\sum_k L_k = 1$ gives a pmf on $[d]$."
   ]
  },
  {
   "cell_type": "code",
   "execution_count": 29,
   "metadata": {
    "collapsed": true
   },
   "outputs": [],
   "source": [
    "def weightedIndexSample(weights):\n",
    "    \"\"\"\n",
    "    weightedIndexSample returns a random integer in {1, 2, ..., weights.size}\n",
    "    according to the probability mass function induced by weights\n",
    "    \"\"\"\n",
    "    return np.random.choice(range(weights.size), p=weights/weights.sum())"
   ]
  },
  {
   "cell_type": "code",
   "execution_count": 30,
   "metadata": {
    "collapsed": true
   },
   "outputs": [],
   "source": [
    "def uniformIndexSample(v):\n",
    "    \"\"\"\n",
    "    uniformIndexSample returns a random integer in {1, 2, ..., v.size}\n",
    "    uniformly at random. \n",
    "    \"\"\"\n",
    "    return np.random.choice(range(v.size))"
   ]
  },
  {
   "cell_type": "code",
   "execution_count": 31,
   "metadata": {
    "collapsed": false
   },
   "outputs": [],
   "source": [
    "def lipschitzLogisticLipschitz(X, lam=0):\n",
    "    \"\"\"\n",
    "    lipschitzLogisticLipschitz returns a vector of the coordinate-wise\n",
    "    Lipschitz constants for the logistic function given data X and \n",
    "    regularizer lam. (i.e., each L_j, j in [d] satisfies the Lipschitz\n",
    "    continuity inequality for coordinate j)\n",
    "    \"\"\"\n",
    "    return .25 * (X**2).sum(axis=0) + lam\n",
    "def uniformLogisticLipschitz(X, lam=0):\n",
    "    \"\"\"\n",
    "    uniformLogisticLipschitz returns the uniform coordinate-wise Lipschitz \n",
    "    constant for the logistic function given data X and regularizer lam \n",
    "    (i.e., the smallest Lipschitz constant for which the Lipschitz continuity \n",
    "    inequality is satisfied for each coordinate)\n",
    "    \"\"\"\n",
    "    return np.max(lipschitzLogisticLipschitz(X, lam))\n"
   ]
  },
  {
   "cell_type": "code",
   "execution_count": 32,
   "metadata": {
    "code_folding": [
     0,
     70
    ],
    "collapsed": false
   },
   "outputs": [],
   "source": [
    "def randomizedCoordinateDescent(funObj, w, X, y, \n",
    "                                objectiveParms={}, \n",
    "                                gdParms={}):\n",
    "    \"\"\"\n",
    "    randomizedCoordinateDescent performs randomized coordinate \n",
    "    descent on the convex function funObj to find the optimal \n",
    "    parameter vector w given labeled training data [X, y]. \n",
    "    \"\"\"\n",
    "    # progress tolerance\n",
    "    progTol = gdParms.get('progTol')\n",
    "    if progTol is None:\n",
    "        progTol = 1e-4\n",
    "    # maximum number of passes through the data\n",
    "    maxPasses = gdParms.get('maxPasses')\n",
    "    if maxPasses is None:\n",
    "        maxPasses = 500\n",
    "    # whether to print output along the way\n",
    "    verbose = gdParms.get('verbose')\n",
    "    if verbose is None:\n",
    "        verbose = False\n",
    "    # Which Lipschitz method to use?\n",
    "    # default: uniformLogisticLipschitz\n",
    "    lipschitzMethod = gdParms.get('lipschitzMethod')\n",
    "    if lipschitzMethod is None:\n",
    "        L = uniformLogisticLipschitz(X, **objectiveParms)\n",
    "    else:\n",
    "        L = lipschitzMethod(X, **objectiveParms)\n",
    "    # How to choose the coordinate/index jt on iteration t\n",
    "    # default: weighted index sampling\n",
    "    # default: if L is a uniform Lipschitz constant, then \n",
    "    #          uniform index sampling is performed.\n",
    "    coordSample = gdParms.get('coordSample')\n",
    "    if coordSample is None:\n",
    "        coordSample = weightedIndexSample\n",
    "    if isinstance(L, float):\n",
    "        unif = np.ones(w.shape).ravel()\n",
    "    funEvals = 0\n",
    "    # For fast mulitiplication\n",
    "    Xw = X @ w\n",
    "    # For tracking progress\n",
    "    w_old = w.copy()\n",
    "    \n",
    "    for t in range(maxPasses*d):\n",
    "        # Choose index and Lipschitz coefficient\n",
    "        if isinstance(L, float):\n",
    "            Lt = L\n",
    "            j = coordSample(unif)\n",
    "        else:\n",
    "            j = coordSample(L)\n",
    "            Lt = L[j]\n",
    "        # Compute objective value and partial derivative g_j\n",
    "        Xj = X[:,j].reshape(-1,1)\n",
    "        f, g_j = funObj(w, Xw, Xj, y, j, **objectiveParms)\n",
    "        funEvals += 1\n",
    "        # Variable update\n",
    "        Xw -= g_j*Xj/Lt\n",
    "        w[j] = w[j] - g_j/Lt\n",
    "        # Check for lack of progress after each pass\n",
    "        if np.mod(t,d) == 0:\n",
    "            change = np.linalg.norm(w-w_old,2)*np.sqrt(d)\n",
    "            if verbose:\n",
    "                print('Passes = %d, function = %.4e, change = %15.4e' % (t/d, f, change))\n",
    "            if change < progTol:\n",
    "                if verbose:\n",
    "                    print('Parameters changed by less than progTol on pass %d.' % t)\n",
    "                break\n",
    "            w_old = w\n",
    "    return (w, f, funEvals)\n",
    "    \n",
    "    \n",
    "def coordinateObjective(w,Xw,Xj,y,j,lam):\n",
    "        \"\"\"\n",
    "        coordinateObjective computes the negative log-likelihood of the MAP estimate\n",
    "        and the jth gradient for the logistic function using the matrix-product Xw,\n",
    "        the labels y, an index j and regularizer lam\n",
    "        \"\"\"\n",
    "        yXw = y*Xw\n",
    "        invsigmoid = 1+np.exp(-yXw)\n",
    "        nll = np.sum(np.log(invsigmoid)) + .5*lam*np.linalg.norm(w,2)\n",
    "        g_j = -Xj.T @ (y*(1-1/invsigmoid)) + lam*w[j, 0]\n",
    "        return (nll, g_j)"
   ]
  },
  {
   "cell_type": "code",
   "execution_count": 33,
   "metadata": {
    "collapsed": true
   },
   "outputs": [],
   "source": [
    "coordModels = {}\n",
    "for name1, coordSamp in zip(['weighted', 'uniform'], \n",
    "                            [weightedIndexSample, uniformIndexSample]):\n",
    "    for name2, lipMethod in zip(['coordLip', 'unifLip'], \n",
    "                                [lipschitzLogisticLipschitz, uniformLogisticLipschitz]):\n",
    "        coordModels[(name1, name2)] = LogisticRegressor(objectiveParms={'lam':1},\n",
    "                                                        gdParms={'coordSample': coordSamp,\n",
    "                                                                 'lipschitzMethod': lipMethod},\n",
    "                                                        objective=coordinateObjective,\n",
    "                                                        gd=randomizedCoordinateDescent)"
   ]
  },
  {
   "cell_type": "code",
   "execution_count": 34,
   "metadata": {
    "collapsed": false
   },
   "outputs": [
    {
     "name": "stdout",
     "output_type": "stream",
     "text": [
      "('uniform', 'coordLip')\n",
      "1000 loops, best of 3: 526 µs per loop\n",
      "Number of Passes: 3\n",
      "\n",
      "('uniform', 'unifLip')\n",
      "1000 loops, best of 3: 541 µs per loop\n",
      "Number of Passes: 3\n",
      "\n",
      "('weighted', 'coordLip')\n",
      "The slowest run took 26.07 times longer than the fastest. This could mean that an intermediate result is being cached.\n",
      "1000 loops, best of 3: 649 µs per loop\n",
      "Number of Passes: 3\n",
      "\n",
      "('weighted', 'unifLip')\n",
      "1000 loops, best of 3: 665 µs per loop\n",
      "Number of Passes: 3\n",
      "\n"
     ]
    }
   ],
   "source": [
    "for key, value in coordModels.items():\n",
    "    print(key)\n",
    "    %timeit value.fit(X,y)\n",
    "    print('Number of Passes: {}\\n'.format(value.funEvals))"
   ]
  },
  {
   "cell_type": "code",
   "execution_count": 35,
   "metadata": {
    "collapsed": false
   },
   "outputs": [
    {
     "data": {
      "image/png": "[encoded data removed]",
      "text/plain": [
       "<matplotlib.figure.Figure at 0x11351c828>"
      ]
     },
     "metadata": {},
     "output_type": "display_data"
    }
   ],
   "source": [
    "plt.figure(figsize=(10,10))\n",
    "j = 221\n",
    "for pTitle, model in coordModels.items():\n",
    "    plt.subplot(j)\n",
    "    j += 1\n",
    "    binaryClassifier2DPlot(model)\n",
    "    plt.title(pTitle)\n",
    "    plt.axis('tight');"
   ]
  },
  {
   "cell_type": "markdown",
   "metadata": {},
   "source": [
    "## So which is better?"
   ]
  },
  {
   "cell_type": "markdown",
   "metadata": {},
   "source": [
    "**Note:** For a more concrete/realistic example of which is better, see the exercises below. "
   ]
  },
  {
   "cell_type": "markdown",
   "metadata": {},
   "source": [
    "Note that where uniform sampling is used - $\\forall j \\in [d], \\,\\, p(j) = d^{-1}$ - we achieve the guaranteed progress bound\n",
    "$$\n",
    "  \\E (f(x^{t+1})) \\leq f(x^t) - \\frac{1}{2dL} \\|\\nabla f(x^t)\\|^2\n",
    "$$\n",
    "where $[d] := \\{1, \\ldots, d\\}$. Correspondingly, for Lipschitz sampling, the\n",
    "pmf is given by\n",
    "$$\n",
    "\\forall j \\in [d],\\quad p(j) = \\frac{L_j}{\\sum_{j \\in [d]} L_j} =: \\frac{L_j}{d \\overline{L}}\n",
    "$$\n",
    "where $d\\overline{L}$ is the normalizing constant for the pmf, with\n",
    "$\\overline{L}$ the arithmetic mean of the coordinate-wise Lipschitz constants\n",
    "$L_j$. Hence, the guaranteed progress bound for Lipschitz sampling is\n",
    "$$\n",
    "\\E f(x^{t+1}) \\leq \\E \\big( f(x^t) - \\frac{1}{2L} |\\nabla_{j_t} f(x^t)|^2\\big) %\n",
    "= \\sum_{j=1}^d \\frac{L_{j_t}}{d\\overline{L}} \\big( f(x^t) - \\frac{1}{2L} |\\nabla_j f(x^t)|^2 \\big)\n",
    "$$\n",
    "$$\n",
    "= f(x^t) - \\frac{1}{2d L} \\sum_{j\\in d} \\frac{L_{j_t}}{\\overline{L}} |\\nabla_{j_t} f(x^t)|^2\n",
    "$$\n",
    "In particular, by comparing the two equations above, uniform sampling is on average preferred to Lipschitz sampling if"
   ]
  },
  {
   "cell_type": "markdown",
   "metadata": {},
   "source": [
    "$$\n",
    "\\ip{\\mathbf{1}, |\\nabla_{j_t} f(x^t)|^2} = \\|\\nabla f(x^t)\\|^2 > \\sum_{j_t\\in [d]} \\frac{L_{j_t}}{\\overline{L}}\n",
    "|\\nabla_{j_t} f(x^t)|^2 = \\ip{\\frac{L_{j_t}}{\\overline{L}}, |\\nabla_{j_t}\n",
    "  f(x^t)|^2}.\n",
    "$$\n",
    "Firstly, by the Cauchy-Schwarz inequality, this certainly occurs if\n",
    "$\\|L_{j_t}\\|_2 < \\overline{L}$. Moreover, as an example, perhaps\n",
    "Lipschitz sampling is sub-optimal on its second pass through the data, where\n",
    "the gradient on the highly-preferred indices is already quite small. This would\n",
    "cause the two vectors to be closer to orthogonal, thereby being more likely to\n",
    "satisfy the above inequality. Note: more generally, it is desirable to have a\n",
    "sampling scheme $p(j_t)$ which is well-aligned with the squared modulus of the $j_t$-gradient vector\n",
    "$\\big(|\\nabla_{j_t} f(x^t)|^2 \\big)$."
   ]
  },
  {
   "cell_type": "markdown",
   "metadata": {},
   "source": [
    "# Exercises"
   ]
  },
  {
   "cell_type": "code",
   "execution_count": 36,
   "metadata": {
    "collapsed": true
   },
   "outputs": [],
   "source": [
    "import pandas as pd\n",
    "import requests"
   ]
  },
  {
   "cell_type": "markdown",
   "metadata": {},
   "source": [
    "## Compare run time on larger data sets"
   ]
  },
  {
   "cell_type": "markdown",
   "metadata": {},
   "source": [
    "This is a test data set that includes 500 observations of 100 features (*i.e.,* $X \\in \\reals^{n\\times d}$ with $n = 500$, $d = 100$; correspondingly, $y \\in \\{-1,1\\}^{500}$). The labels `y` are stored in the very last column. "
   ]
  },
  {
   "cell_type": "code",
   "execution_count": 37,
   "metadata": {
    "collapsed": true
   },
   "outputs": [],
   "source": [
    "bigData = pd.read_csv(filepath_or_buffer='./data/logisticData.csv',header=None)"
   ]
  },
  {
   "cell_type": "code",
   "execution_count": 38,
   "metadata": {
    "collapsed": false
   },
   "outputs": [
    {
     "name": "stdout",
     "output_type": "stream",
     "text": [
      "bigData.shape = (500, 101)\n"
     ]
    },
    {
     "data": {
      "text/html": [
       "<div>\n",
       "<table border=\"1\" class=\"dataframe\">\n",
       "  <thead>\n",
       "    <tr style=\"text-align: right;\">\n",
       "      <th></th>\n",
       "      <th>0</th>\n",
       "      <th>1</th>\n",
       "      <th>2</th>\n",
       "      <th>3</th>\n",
       "      <th>4</th>\n",
       "      <th>5</th>\n",
       "      <th>6</th>\n",
       "      <th>7</th>\n",
       "      <th>8</th>\n",
       "      <th>9</th>\n",
       "      <th>...</th>\n",
       "      <th>91</th>\n",
       "      <th>92</th>\n",
       "      <th>93</th>\n",
       "      <th>94</th>\n",
       "      <th>95</th>\n",
       "      <th>96</th>\n",
       "      <th>97</th>\n",
       "      <th>98</th>\n",
       "      <th>99</th>\n",
       "      <th>100</th>\n",
       "    </tr>\n",
       "  </thead>\n",
       "  <tbody>\n",
       "    <tr>\n",
       "      <th>0</th>\n",
       "      <td>-4.8111</td>\n",
       "      <td>8.805800</td>\n",
       "      <td>-0.72609</td>\n",
       "      <td>-0.30079</td>\n",
       "      <td>-3.21490</td>\n",
       "      <td>-1.5162</td>\n",
       "      <td>-1.2692</td>\n",
       "      <td>-5.19650</td>\n",
       "      <td>-2.6087</td>\n",
       "      <td>-11.405000</td>\n",
       "      <td>...</td>\n",
       "      <td>0.007660</td>\n",
       "      <td>-0.23342</td>\n",
       "      <td>-4.8693</td>\n",
       "      <td>-3.99460</td>\n",
       "      <td>-0.58243</td>\n",
       "      <td>3.7657</td>\n",
       "      <td>-0.32883</td>\n",
       "      <td>0.10334</td>\n",
       "      <td>-7.69890</td>\n",
       "      <td>1</td>\n",
       "    </tr>\n",
       "    <tr>\n",
       "      <th>1</th>\n",
       "      <td>-6.4098</td>\n",
       "      <td>0.087018</td>\n",
       "      <td>1.32850</td>\n",
       "      <td>-2.27460</td>\n",
       "      <td>-0.81732</td>\n",
       "      <td>-2.0283</td>\n",
       "      <td>4.1054</td>\n",
       "      <td>6.07750</td>\n",
       "      <td>1.8039</td>\n",
       "      <td>-0.732550</td>\n",
       "      <td>...</td>\n",
       "      <td>-0.076810</td>\n",
       "      <td>-0.33024</td>\n",
       "      <td>3.1960</td>\n",
       "      <td>0.11645</td>\n",
       "      <td>0.40308</td>\n",
       "      <td>-1.3252</td>\n",
       "      <td>-6.79520</td>\n",
       "      <td>-0.15148</td>\n",
       "      <td>-3.02960</td>\n",
       "      <td>1</td>\n",
       "    </tr>\n",
       "    <tr>\n",
       "      <th>2</th>\n",
       "      <td>1.1746</td>\n",
       "      <td>-0.499140</td>\n",
       "      <td>-0.87776</td>\n",
       "      <td>1.82510</td>\n",
       "      <td>-0.73334</td>\n",
       "      <td>4.7900</td>\n",
       "      <td>-2.5747</td>\n",
       "      <td>3.17360</td>\n",
       "      <td>1.5446</td>\n",
       "      <td>2.381600</td>\n",
       "      <td>...</td>\n",
       "      <td>-0.372870</td>\n",
       "      <td>1.38220</td>\n",
       "      <td>14.2960</td>\n",
       "      <td>-3.01820</td>\n",
       "      <td>1.59510</td>\n",
       "      <td>3.1386</td>\n",
       "      <td>1.27750</td>\n",
       "      <td>-0.19646</td>\n",
       "      <td>1.06080</td>\n",
       "      <td>-1</td>\n",
       "    </tr>\n",
       "    <tr>\n",
       "      <th>3</th>\n",
       "      <td>-6.8093</td>\n",
       "      <td>-10.860000</td>\n",
       "      <td>1.73060</td>\n",
       "      <td>-5.93960</td>\n",
       "      <td>-1.53990</td>\n",
       "      <td>-5.7733</td>\n",
       "      <td>1.7528</td>\n",
       "      <td>0.53843</td>\n",
       "      <td>1.8374</td>\n",
       "      <td>-0.045946</td>\n",
       "      <td>...</td>\n",
       "      <td>-0.098437</td>\n",
       "      <td>-0.52114</td>\n",
       "      <td>5.4197</td>\n",
       "      <td>-1.16710</td>\n",
       "      <td>-0.22531</td>\n",
       "      <td>3.2550</td>\n",
       "      <td>-0.72864</td>\n",
       "      <td>0.41821</td>\n",
       "      <td>-5.98750</td>\n",
       "      <td>-1</td>\n",
       "    </tr>\n",
       "    <tr>\n",
       "      <th>4</th>\n",
       "      <td>-3.3811</td>\n",
       "      <td>4.828100</td>\n",
       "      <td>0.83346</td>\n",
       "      <td>3.51870</td>\n",
       "      <td>1.79240</td>\n",
       "      <td>-20.6810</td>\n",
       "      <td>-1.2216</td>\n",
       "      <td>8.84820</td>\n",
       "      <td>1.9447</td>\n",
       "      <td>-3.840400</td>\n",
       "      <td>...</td>\n",
       "      <td>-0.033342</td>\n",
       "      <td>-0.56903</td>\n",
       "      <td>-3.0519</td>\n",
       "      <td>-0.96726</td>\n",
       "      <td>-0.61491</td>\n",
       "      <td>-1.6502</td>\n",
       "      <td>0.63276</td>\n",
       "      <td>-0.31118</td>\n",
       "      <td>0.85608</td>\n",
       "      <td>1</td>\n",
       "    </tr>\n",
       "  </tbody>\n",
       "</table>\n",
       "<p>5 rows × 101 columns</p>\n",
       "</div>"
      ],
      "text/plain": [
       "      0          1        2        3        4        5       6        7    \\\n",
       "0 -4.8111   8.805800 -0.72609 -0.30079 -3.21490  -1.5162 -1.2692 -5.19650   \n",
       "1 -6.4098   0.087018  1.32850 -2.27460 -0.81732  -2.0283  4.1054  6.07750   \n",
       "2  1.1746  -0.499140 -0.87776  1.82510 -0.73334   4.7900 -2.5747  3.17360   \n",
       "3 -6.8093 -10.860000  1.73060 -5.93960 -1.53990  -5.7733  1.7528  0.53843   \n",
       "4 -3.3811   4.828100  0.83346  3.51870  1.79240 -20.6810 -1.2216  8.84820   \n",
       "\n",
       "      8          9   ...        91       92       93       94       95   \\\n",
       "0 -2.6087 -11.405000 ...   0.007660 -0.23342  -4.8693 -3.99460 -0.58243   \n",
       "1  1.8039  -0.732550 ...  -0.076810 -0.33024   3.1960  0.11645  0.40308   \n",
       "2  1.5446   2.381600 ...  -0.372870  1.38220  14.2960 -3.01820  1.59510   \n",
       "3  1.8374  -0.045946 ...  -0.098437 -0.52114   5.4197 -1.16710 -0.22531   \n",
       "4  1.9447  -3.840400 ...  -0.033342 -0.56903  -3.0519 -0.96726 -0.61491   \n",
       "\n",
       "      96       97       98       99   100  \n",
       "0  3.7657 -0.32883  0.10334 -7.69890    1  \n",
       "1 -1.3252 -6.79520 -0.15148 -3.02960    1  \n",
       "2  3.1386  1.27750 -0.19646  1.06080   -1  \n",
       "3  3.2550 -0.72864  0.41821 -5.98750   -1  \n",
       "4 -1.6502  0.63276 -0.31118  0.85608    1  \n",
       "\n",
       "[5 rows x 101 columns]"
      ]
     },
     "execution_count": 38,
     "metadata": {},
     "output_type": "execute_result"
    }
   ],
   "source": [
    "print('bigData.shape = {}'.format(bigData.shape))\n",
    "bigData.head()"
   ]
  },
  {
   "cell_type": "code",
   "execution_count": 39,
   "metadata": {
    "collapsed": false
   },
   "outputs": [],
   "source": [
    "Xbig = bigData.values[:,:-1]\n",
    "ybig = bigData.values[:, -1].reshape(-1,1)"
   ]
  },
  {
   "cell_type": "code",
   "execution_count": 40,
   "metadata": {
    "collapsed": true
   },
   "outputs": [],
   "source": [
    "coordModelsBig = {}\n",
    "for name1, coordSamp in zip(['weighted', 'uniform'], \n",
    "                            [weightedIndexSample, uniformIndexSample]):\n",
    "    for name2, lipMethod in zip(['coordLip', 'unifLip'], \n",
    "                                [lipschitzLogisticLipschitz, uniformLogisticLipschitz]):\n",
    "        coordModelsBig[(name1, name2)] = LogisticRegressor(objectiveParms={'lam':1},\n",
    "                                                           gdParms={'coordSample': coordSamp,\n",
    "                                                                    'lipschitzMethod': lipMethod},\n",
    "                                                           objective=coordinateObjective,\n",
    "                                                           gd=randomizedCoordinateDescent)"
   ]
  },
  {
   "cell_type": "code",
   "execution_count": 41,
   "metadata": {
    "collapsed": false
   },
   "outputs": [
    {
     "name": "stdout",
     "output_type": "stream",
     "text": [
      "('uniform', 'coordLip')\n",
      "1000 loops, best of 3: 768 µs per loop\n",
      "Number of Passes: 3\n",
      "\n",
      "('uniform', 'unifLip')\n",
      "1000 loops, best of 3: 729 µs per loop\n",
      "Number of Passes: 3\n",
      "\n",
      "('weighted', 'coordLip')\n",
      "1000 loops, best of 3: 967 µs per loop\n",
      "Number of Passes: 3\n",
      "\n",
      "('weighted', 'unifLip')\n",
      "1000 loops, best of 3: 962 µs per loop\n",
      "Number of Passes: 3\n",
      "\n"
     ]
    }
   ],
   "source": [
    "for key, value in coordModelsBig.items():\n",
    "    print(key)\n",
    "    %timeit value.fit(Xbig,ybig)\n",
    "    print('Number of Passes: {}\\n'.format(value.funEvals))"
   ]
  },
  {
   "cell_type": "code",
   "execution_count": 42,
   "metadata": {
    "collapsed": false
   },
   "outputs": [
    {
     "name": "stdout",
     "output_type": "stream",
     "text": [
      "('uniform', 'coordLip')\n",
      "[-0.37028504 -0.01520011  0.03269032]\n",
      "('uniform', 'unifLip')\n",
      "[-0.00073539  0.00089338  0.001223  ]\n",
      "('weighted', 'coordLip')\n",
      "[-0.03147521  0.01811496 -0.01268993]\n",
      "('weighted', 'unifLip')\n",
      "[-0.00070923 -0.00031989  0.00034754]\n"
     ]
    }
   ],
   "source": [
    "for key,value in coordModelsBig.items():\n",
    "    print(key)\n",
    "    print(value.w[value.w != 0])"
   ]
  },
  {
   "cell_type": "markdown",
   "metadata": {},
   "source": [
    "## UMass Amherst smoking data set for logistic regression"
   ]
  },
  {
   "cell_type": "markdown",
   "metadata": {},
   "source": [
    "We could try testing out these methods on real data. For this:\n",
    "* Need to think about missing values\n",
    "* May have to think about using a kernel (argument may not longer be best represented as a linear combination of the input data)\n",
    "\n",
    "For example, we include below a data set from the UMass Amherst website. Many more data sets can be found on this site – and for more than just logistic regression. The ones specifically for logistic regression are [here](https://www.umass.edu/statdata/statdata/stat-logistic.html). "
   ]
  },
  {
   "cell_type": "code",
   "execution_count": 43,
   "metadata": {
    "collapsed": false
   },
   "outputs": [
    {
     "name": "stdout",
     "output_type": "stream",
     "text": [
      "NAME: \tNational Health and Nutrition Survey (NHANES3.DAT)\n",
      "SIZE:\t17,030 observations, 16 variables\n",
      "\n",
      "SOURCE:\tHosmer and Lemeshow (2000) Applied Logistic Regression: Second \n",
      "\tEdition.  These data are copyrighted by John Wiley & Sons Inc. and must \n",
      "\tbe acknowledged and used accordingly.\n",
      "\n",
      "\n",
      "DESCRIPTIVE ABSTRACT:\n",
      "\n",
      "These data are described in Table 6.3 page 215 in the source text.\n",
      "\n",
      "\n",
      "LIST OF VARIABLES:\n",
      "\n",
      "Variable  Description               Codes/Values           Name\n",
      "___________________________________________________________________\n",
      "\n",
      "1         Respondent Identification  \t                   SEQN\n",
      "          Number    \n",
      "\n",
      "2         Pseudo-PSU                1,2                    SDPPSU6\n",
      "\n",
      "3         Pseudo-stratum            01 - 49                SDPSTRA6     \n",
      "\n",
      "4         Statistical weight        225.93 - 139744.9      WTPFHX6\n",
      "\n",
      "5         Age                       years                  HSAGEIR\n",
      "\n",
      "6         Sex                       0 = Female, 1 = Male   HSSEX\n",
      "\n",
      "7         Race                      1 = White              DMARACER\n",
      "                                    2 = Black \n",
      "\t\t\t\t    3 = Other \n",
      "\n",
      "8         Body Weight               pounds                 BMPWTLBS\n",
      "\n",
      "9         Standing Height           inches                 BMPHTIN\n",
      "\n",
      "10        Average Systolic BP       mm Hg                  PEPMNK1R\n",
      "\n",
      "11        Average Diastolic BP      mm Hg                  PEPMNK5R\n",
      "\n",
      "12        Has respondent smoked     1 = Yes, 2 = No        HAR1\n",
      "          > 100 cigarettes in life \n",
      "\n",
      "13        Does repondent smoke      1 = Yes, 2 = No        HAR3\n",
      "          cigarettes now?\n",
      "\n",
      "14        Smoking                   1 = if HAR1 = 2        SMOKE\n",
      "                                    2 = if HAR1=1 & HAR3=2\n",
      "                                    3 = if HAR1=1 & HAR3=1\n",
      "\n",
      "15        Serum Cholesterol         mg/100ml               TCP\n",
      "\n",
      "16        High Blood Pressure       0 if PEPMNK1R <= 140   HBP\n",
      "                                    1 if PEPMNK1R > 140\n",
      "______________________________________________________________________\n",
      "\n"
     ]
    }
   ],
   "source": [
    "descr = requests.get('https://www.umass.edu/statdata/statdata/data/nhanes3.txt')\n",
    "print(descr.text)"
   ]
  },
  {
   "cell_type": "code",
   "execution_count": 44,
   "metadata": {
    "collapsed": false
   },
   "outputs": [
    {
     "name": "stderr",
     "output_type": "stream",
     "text": [
      "/Users/berkas/anaconda/lib/python3.5/site-packages/ipykernel/__main__.py:1: ParserWarning: Falling back to the 'python' engine because the 'c' engine does not support regex separators (separators > 1 char and different from '\\s+' are interpreted as regex); you can avoid this warning by specifying engine='python'.\n",
      "  if __name__ == '__main__':\n",
      "/Users/berkas/anaconda/lib/python3.5/site-packages/pandas/io/parsers.py:1961: FutureWarning: split() requires a non-empty pattern match.\n",
      "  yield pat.split(line.strip())\n",
      "/Users/berkas/anaconda/lib/python3.5/site-packages/pandas/io/parsers.py:1963: FutureWarning: split() requires a non-empty pattern match.\n",
      "  yield pat.split(line.strip())\n"
     ]
    }
   ],
   "source": [
    "smoking = pd.read_csv(filepath_or_buffer='https://www.umass.edu/statdata/statdata/data/nhanes3.dat', sep=' *', header=None, na_values='.')"
   ]
  },
  {
   "cell_type": "code",
   "execution_count": 45,
   "metadata": {
    "collapsed": false
   },
   "outputs": [
    {
     "name": "stdout",
     "output_type": "stream",
     "text": [
      "smoking.shape = (17031, 16)\n"
     ]
    },
    {
     "data": {
      "text/html": [
       "<div>\n",
       "<table border=\"1\" class=\"dataframe\">\n",
       "  <thead>\n",
       "    <tr style=\"text-align: right;\">\n",
       "      <th></th>\n",
       "      <th>0</th>\n",
       "      <th>1</th>\n",
       "      <th>2</th>\n",
       "      <th>3</th>\n",
       "      <th>4</th>\n",
       "      <th>5</th>\n",
       "      <th>6</th>\n",
       "      <th>7</th>\n",
       "      <th>8</th>\n",
       "      <th>9</th>\n",
       "      <th>10</th>\n",
       "      <th>11</th>\n",
       "      <th>12</th>\n",
       "      <th>13</th>\n",
       "      <th>14</th>\n",
       "      <th>15</th>\n",
       "    </tr>\n",
       "  </thead>\n",
       "  <tbody>\n",
       "    <tr>\n",
       "      <th>0</th>\n",
       "      <td>3.0</td>\n",
       "      <td>1.0</td>\n",
       "      <td>44.0</td>\n",
       "      <td>1735.14</td>\n",
       "      <td>21.0</td>\n",
       "      <td>1.0</td>\n",
       "      <td>1.0</td>\n",
       "      <td>179.5</td>\n",
       "      <td>70.4</td>\n",
       "      <td>120.0</td>\n",
       "      <td>67.0</td>\n",
       "      <td>2.0</td>\n",
       "      <td>NaN</td>\n",
       "      <td>1.0</td>\n",
       "      <td>268.0</td>\n",
       "      <td>0</td>\n",
       "    </tr>\n",
       "    <tr>\n",
       "      <th>1</th>\n",
       "      <td>4.0</td>\n",
       "      <td>1.0</td>\n",
       "      <td>43.0</td>\n",
       "      <td>1725.01</td>\n",
       "      <td>32.0</td>\n",
       "      <td>0.0</td>\n",
       "      <td>1.0</td>\n",
       "      <td>135.6</td>\n",
       "      <td>63.9</td>\n",
       "      <td>126.0</td>\n",
       "      <td>86.0</td>\n",
       "      <td>2.0</td>\n",
       "      <td>NaN</td>\n",
       "      <td>1.0</td>\n",
       "      <td>160.0</td>\n",
       "      <td>0</td>\n",
       "    </tr>\n",
       "    <tr>\n",
       "      <th>2</th>\n",
       "      <td>9.0</td>\n",
       "      <td>2.0</td>\n",
       "      <td>43.0</td>\n",
       "      <td>19451.83</td>\n",
       "      <td>48.0</td>\n",
       "      <td>0.0</td>\n",
       "      <td>1.0</td>\n",
       "      <td>149.7</td>\n",
       "      <td>61.8</td>\n",
       "      <td>131.0</td>\n",
       "      <td>73.0</td>\n",
       "      <td>1.0</td>\n",
       "      <td>2.0</td>\n",
       "      <td>2.0</td>\n",
       "      <td>236.0</td>\n",
       "      <td>0</td>\n",
       "    </tr>\n",
       "    <tr>\n",
       "      <th>3</th>\n",
       "      <td>10.0</td>\n",
       "      <td>1.0</td>\n",
       "      <td>6.0</td>\n",
       "      <td>27769.56</td>\n",
       "      <td>35.0</td>\n",
       "      <td>1.0</td>\n",
       "      <td>1.0</td>\n",
       "      <td>203.5</td>\n",
       "      <td>69.8</td>\n",
       "      <td>130.0</td>\n",
       "      <td>82.0</td>\n",
       "      <td>2.0</td>\n",
       "      <td>NaN</td>\n",
       "      <td>1.0</td>\n",
       "      <td>225.0</td>\n",
       "      <td>0</td>\n",
       "    </tr>\n",
       "    <tr>\n",
       "      <th>4</th>\n",
       "      <td>11.0</td>\n",
       "      <td>2.0</td>\n",
       "      <td>40.0</td>\n",
       "      <td>1245.52</td>\n",
       "      <td>48.0</td>\n",
       "      <td>1.0</td>\n",
       "      <td>1.0</td>\n",
       "      <td>155.3</td>\n",
       "      <td>66.2</td>\n",
       "      <td>120.0</td>\n",
       "      <td>70.0</td>\n",
       "      <td>1.0</td>\n",
       "      <td>2.0</td>\n",
       "      <td>2.0</td>\n",
       "      <td>260.0</td>\n",
       "      <td>0</td>\n",
       "    </tr>\n",
       "  </tbody>\n",
       "</table>\n",
       "</div>"
      ],
      "text/plain": [
       "     0    1     2         3     4    5    6      7     8      9     10   11  \\\n",
       "0   3.0  1.0  44.0   1735.14  21.0  1.0  1.0  179.5  70.4  120.0  67.0  2.0   \n",
       "1   4.0  1.0  43.0   1725.01  32.0  0.0  1.0  135.6  63.9  126.0  86.0  2.0   \n",
       "2   9.0  2.0  43.0  19451.83  48.0  0.0  1.0  149.7  61.8  131.0  73.0  1.0   \n",
       "3  10.0  1.0   6.0  27769.56  35.0  1.0  1.0  203.5  69.8  130.0  82.0  2.0   \n",
       "4  11.0  2.0  40.0   1245.52  48.0  1.0  1.0  155.3  66.2  120.0  70.0  1.0   \n",
       "\n",
       "    12   13     14  15  \n",
       "0  NaN  1.0  268.0   0  \n",
       "1  NaN  1.0  160.0   0  \n",
       "2  2.0  2.0  236.0   0  \n",
       "3  NaN  1.0  225.0   0  \n",
       "4  2.0  2.0  260.0   0  "
      ]
     },
     "execution_count": 45,
     "metadata": {},
     "output_type": "execute_result"
    }
   ],
   "source": [
    "print('smoking.shape = {}'.format(smoking.shape))\n",
    "smoking.head()"
   ]
  },
  {
   "cell_type": "code",
   "execution_count": 46,
   "metadata": {
    "collapsed": false
   },
   "outputs": [
    {
     "data": {
      "text/html": [
       "<div>\n",
       "<table border=\"1\" class=\"dataframe\">\n",
       "  <thead>\n",
       "    <tr style=\"text-align: right;\">\n",
       "      <th></th>\n",
       "      <th>0</th>\n",
       "      <th>1</th>\n",
       "      <th>2</th>\n",
       "      <th>3</th>\n",
       "      <th>4</th>\n",
       "      <th>5</th>\n",
       "      <th>6</th>\n",
       "      <th>7</th>\n",
       "      <th>8</th>\n",
       "      <th>9</th>\n",
       "      <th>10</th>\n",
       "      <th>11</th>\n",
       "      <th>12</th>\n",
       "      <th>13</th>\n",
       "      <th>14</th>\n",
       "      <th>15</th>\n",
       "    </tr>\n",
       "  </thead>\n",
       "  <tbody>\n",
       "    <tr>\n",
       "      <th>17026</th>\n",
       "      <td>53589.0</td>\n",
       "      <td>2.0</td>\n",
       "      <td>8.0</td>\n",
       "      <td>4667.32</td>\n",
       "      <td>81.0</td>\n",
       "      <td>0.0</td>\n",
       "      <td>1.0</td>\n",
       "      <td>190.2</td>\n",
       "      <td>61.8</td>\n",
       "      <td>129.0</td>\n",
       "      <td>72.0</td>\n",
       "      <td>1.0</td>\n",
       "      <td>2.0</td>\n",
       "      <td>2.0</td>\n",
       "      <td>168.0</td>\n",
       "      <td>0</td>\n",
       "    </tr>\n",
       "    <tr>\n",
       "      <th>17027</th>\n",
       "      <td>53593.0</td>\n",
       "      <td>2.0</td>\n",
       "      <td>17.0</td>\n",
       "      <td>18911.40</td>\n",
       "      <td>23.0</td>\n",
       "      <td>1.0</td>\n",
       "      <td>1.0</td>\n",
       "      <td>172.7</td>\n",
       "      <td>76.2</td>\n",
       "      <td>123.0</td>\n",
       "      <td>83.0</td>\n",
       "      <td>2.0</td>\n",
       "      <td>NaN</td>\n",
       "      <td>1.0</td>\n",
       "      <td>188.0</td>\n",
       "      <td>0</td>\n",
       "    </tr>\n",
       "    <tr>\n",
       "      <th>17028</th>\n",
       "      <td>53594.0</td>\n",
       "      <td>2.0</td>\n",
       "      <td>11.0</td>\n",
       "      <td>9323.23</td>\n",
       "      <td>26.0</td>\n",
       "      <td>0.0</td>\n",
       "      <td>1.0</td>\n",
       "      <td>234.9</td>\n",
       "      <td>67.1</td>\n",
       "      <td>124.0</td>\n",
       "      <td>83.0</td>\n",
       "      <td>2.0</td>\n",
       "      <td>NaN</td>\n",
       "      <td>1.0</td>\n",
       "      <td>137.0</td>\n",
       "      <td>0</td>\n",
       "    </tr>\n",
       "    <tr>\n",
       "      <th>17029</th>\n",
       "      <td>53616.0</td>\n",
       "      <td>2.0</td>\n",
       "      <td>21.0</td>\n",
       "      <td>2341.16</td>\n",
       "      <td>85.0</td>\n",
       "      <td>1.0</td>\n",
       "      <td>1.0</td>\n",
       "      <td>189.1</td>\n",
       "      <td>68.0</td>\n",
       "      <td>157.0</td>\n",
       "      <td>94.0</td>\n",
       "      <td>2.0</td>\n",
       "      <td>NaN</td>\n",
       "      <td>1.0</td>\n",
       "      <td>285.0</td>\n",
       "      <td>1</td>\n",
       "    </tr>\n",
       "    <tr>\n",
       "      <th>17030</th>\n",
       "      <td>NaN</td>\n",
       "      <td>NaN</td>\n",
       "      <td>NaN</td>\n",
       "      <td>NaN</td>\n",
       "      <td>NaN</td>\n",
       "      <td>NaN</td>\n",
       "      <td>NaN</td>\n",
       "      <td>NaN</td>\n",
       "      <td>NaN</td>\n",
       "      <td>NaN</td>\n",
       "      <td>NaN</td>\n",
       "      <td>NaN</td>\n",
       "      <td>NaN</td>\n",
       "      <td>NaN</td>\n",
       "      <td>NaN</td>\n",
       "      <td>0</td>\n",
       "    </tr>\n",
       "  </tbody>\n",
       "</table>\n",
       "</div>"
      ],
      "text/plain": [
       "            0    1     2         3     4    5    6      7     8      9     10  \\\n",
       "17026  53589.0  2.0   8.0   4667.32  81.0  0.0  1.0  190.2  61.8  129.0  72.0   \n",
       "17027  53593.0  2.0  17.0  18911.40  23.0  1.0  1.0  172.7  76.2  123.0  83.0   \n",
       "17028  53594.0  2.0  11.0   9323.23  26.0  0.0  1.0  234.9  67.1  124.0  83.0   \n",
       "17029  53616.0  2.0  21.0   2341.16  85.0  1.0  1.0  189.1  68.0  157.0  94.0   \n",
       "17030      NaN  NaN   NaN       NaN   NaN  NaN  NaN    NaN   NaN    NaN   NaN   \n",
       "\n",
       "        11   12   13     14  15  \n",
       "17026  1.0  2.0  2.0  168.0   0  \n",
       "17027  2.0  NaN  1.0  188.0   0  \n",
       "17028  2.0  NaN  1.0  137.0   0  \n",
       "17029  2.0  NaN  1.0  285.0   1  \n",
       "17030  NaN  NaN  NaN    NaN   0  "
      ]
     },
     "execution_count": 46,
     "metadata": {},
     "output_type": "execute_result"
    }
   ],
   "source": [
    "smoking.tail()"
   ]
  },
  {
   "cell_type": "markdown",
   "metadata": {},
   "source": [
    "**Note:** something's up with the last row there; should remove it. "
   ]
  },
  {
   "cell_type": "markdown",
   "metadata": {},
   "source": [
    "# Stochastic Gradient Descent\n",
    "\n",
    "So far what we've talked about has had a big effect on speed-up in the case where $d$ is large. When instead $n$ is very large we should look to Stochastic gradient descent. Note that Randomized coordinate descent is an example of stochastic gradient descent. Here, instead, we talk about \n",
    "\n",
    "* mini-batch stochast gradient descent (mini-batch SGD)\n",
    "* stochastic average gradient descent (SAG)\n",
    "* stochastic variance-reduced gradient methods (SVRG)\n",
    "\n",
    "Generally, SGD operates as follows. We seek to minimize an objective function \n",
    "$$\n",
    "f(w; X,y) = \\frac{1}{n}\\sum_{i=1}^n f_i(w)\n",
    "$$\n",
    "where, typically, $f_i$ is associated to the $i$-th observation. In usual gradient descent, we march *via* the updates\n",
    "$$\n",
    "w \\leftarrow w - \\alpha \\nabla_w f(w; X,y)\n",
    "$$\n",
    "whereas in SGD we approximate the gradient $\\nabla_w f(w; X,y)$ by $\\nabla_w f_i(w)$ so that the SGD algorithm is given by \n",
    "1. Let $w^0$ be an initial parameter vector; $(\\alpha_t)$ a sequence of learning rates\n",
    "2. Repeat until stopping condition satisfied:\n",
    "  1. Randomly shuffle $[n]$; \n",
    "  2. For each $i$ (in the new order):\n",
    "    1. $w^{t+1} \\leftarrow w^t - \\alpha_t \\nabla_w f_i(w)$\n",
    "\n",
    "3. Return $w^T$\n",
    "\n",
    "## Mini-batch SGD\n",
    "\n",
    "In mini-batch SGD we take *batches* of observations (say of size $m_t$ on iteration $t$) and approximate $\\nabla_w f(w; X,y)$ *via*\n",
    "$$\n",
    "\\nabla_w f(w; X,y) \\approx \\frac{1}{m_t} \\sum_{i=1}^{m_t} \\nabla_w f_i(w)\n",
    "$$\n",
    "\n",
    "**Exercise:** Using the `randomizedCoordinateDescent` function as a starting point, write your own function that performs mini-batch SGD.\n",
    "\n",
    "## Stochastic Average Gradient\n",
    "\n",
    "$w$ is computed according to the updates\n",
    "$$\n",
    "w^{t+1} \\leftarrow w^t - \\frac{\\alpha_t}{n} \\sum_{i=1}^n g_i^t\n",
    "$$\n",
    "where $g_i^t$ is defined in the following way. On each iteration $t$, an index $i_t \\in [n]$ is chosen randomly and we define\n",
    "$$\n",
    "g_i^t := \\begin{cases}\n",
    "\\nabla_i f(w^t) & i = i_t\\\\\n",
    "g_i^{t-1} & \\text{otherwise}\n",
    "\\end{cases}\n",
    "$$\n",
    "where $\\nabla_i$ corresponds to the $i$-th element of the gradient (*i.e.*, $\\partial/\\partial w_i$)\n",
    "\n",
    "### References\n",
    "1. [Original paper](https://arxiv.org/pdf/1202.6258.pdf)\n",
    "2. [Minimizing Finite Sums with SAG](https://arxiv.org/pdf/1309.2388.pdf)\n",
    "2. [SAG software](https://www.cs.ubc.ca/~schmidtm/Software/SAG.html)\n",
    "3. [SAG slides](https://www.cs.ubc.ca/~schmidtm/Documents/2014_Google_SAG.pdf)\n",
    "\n",
    "## SVRG\n",
    "\n",
    "We refer the interested reader to reference 3. below instead of repeating the derivation and intuition here.\n",
    "\n",
    "### References\n",
    "1. [Accelerating SGD using predictive variance reduction](https://papers.nips.cc/paper/4937-accelerating-stochastic-gradient-descent-using-predictive-variance-reduction.pdf)\n",
    "2. [Practical SVRG](https://arxiv.org/pdf/1511.01942.pdf)\n",
    "3. [SVRG intro from Stanford](http://cs.stanford.edu/~ppasupat/a9online/1321.html)"
   ]
  },
  {
   "cell_type": "markdown",
   "metadata": {},
   "source": [
    "# Further reading\n",
    "\n",
    "We've barely scratched the surface. Some things for which there was not enough time to write notes...\n",
    "\n",
    "## Regularization\n",
    "\n",
    "**Idea:** avoid *overfitting* the model to the data by constraining the size/magnitude/norm/behaviour of the parameters\n",
    "\n",
    "### $L^2$ regularization\n",
    "\n",
    "*cf.* Ridge regression, elastic net, *etc.*\n",
    "\n",
    "### $L^1$ regularization\n",
    "\n",
    "Robust linear regression is an excellent way of demonstrating the difference between optimizing the $L^1$ norm and optimizing the $L^2$ norm. \n",
    "\n",
    "Also *cf.* Compressed Sensing; the $\\ell^1$ norm is *sparsity promoting*. That is, under certain conditions, the solution to the constrained $\\ell^1$ minimization problem \n",
    "$$\n",
    "\\hat x := \\argmin \\|x\\|_1 \\quad \\text{s.t.}\\quad \\|Ax - y\\|_2^2 \\leq \\eta\n",
    "$$\n",
    "is unique and $s$-sparse if elements of $A$ come from a certain distribution and $m \\geq C s \\log (N/s)$ for a known [and small] constant $C$.\n",
    "\n",
    "### Block sparsity\n",
    "\n",
    "This constrains the structure of the parameters - *e.g.* if some parameters are zero then it forces other parameters to be zero as well. \n",
    "\n",
    "## Constrained Optimization\n",
    "### Projected Gradient\n",
    "\n",
    "### Proximal Gradient\n",
    "\n",
    "### Newton's method\n",
    "\n",
    "From a second-order Taylor expansion, one sees \n",
    "$$\n",
    "f(w^*) = f(w^j) + \\nabla f(w^j) p^j + \\frac{1}{2} (p^j)^T \\nabla^2 f(w^j) p_j + O (\\|p^j\\|^3)\n",
    "$$\n",
    "for an unknown vector $p_j$. Since $\\nabla^2 f(w^j)$ is PSD, seek a particular vector that \"cancels\" this second-order term with the gradient term. Gets superlinear convergence. \n",
    "\n",
    "### References: \n",
    "1. Boyd & Vandenberghe's [Convex Optimization](https://web.stanford.edu/~boyd/cvxbook/bv_cvxbook.pdf)\n",
    "2. Bertsekas's Convex Optimization Algorithms\n",
    "3. [Ascher & Greif](http://gw2jh3xr2c.search.serialssolutions.com/?sid=sersol&SS_jc=TC0001261310&title=A%20first%20course%20in%20numerical%20methods) (pg. 261–265)\n",
    "\n",
    "## Dual methods\n",
    "### The Fenchel Dual, geometric multipliers and the KKT conditions\n",
    "### Dual coordinate ascent"
   ]
  }
 ],
 "metadata": {
  "_draft": {
   "nbviewer_url": "https://gist.github.com/f3ae3c29f1fb5ff53b329114296dbf99"
  },
  "gist": {
   "data": {
    "description": "Gradient Descent (master).ipynb",
    "public": true
   },
   "id": "f3ae3c29f1fb5ff53b329114296dbf99"
  },
  "kernelspec": {
   "display_name": "Python 3",
   "language": "python",
   "name": "python3"
  },
  "language_info": {
   "codemirror_mode": {
    "name": "ipython",
    "version": 3
   },
   "file_extension": ".py",
   "mimetype": "text/x-python",
   "name": "python",
   "nbconvert_exporter": "python",
   "pygments_lexer": "ipython3",
   "version": "3.5.2"
  },
  "toc": {
   "nav_menu": {
    "height": "336px",
    "width": "252px"
   },
   "navigate_menu": true,
   "number_sections": true,
   "sideBar": true,
   "threshold": 4,
   "toc_cell": true,
   "toc_section_display": "block",
   "toc_window_display": false
  }
 },
 "nbformat": 4,
 "nbformat_minor": 1
}
