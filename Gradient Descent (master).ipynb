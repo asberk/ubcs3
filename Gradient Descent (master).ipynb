{
 "cells": [
  {
   "cell_type": "markdown",
   "metadata": {
    "toc": "true"
   },
   "source": [
    "# Table of Contents\n",
    " <p><div class=\"lev1 toc-item\"><a href=\"#Introduction-&amp;-Set-up\" data-toc-modified-id=\"Introduction-&amp;-Set-up-1\"><span class=\"toc-item-num\">1&nbsp;&nbsp;</span>Introduction &amp; Set-up</a></div><div class=\"lev2 toc-item\"><a href=\"#Re-cap-from-last-time\" data-toc-modified-id=\"Re-cap-from-last-time-11\"><span class=\"toc-item-num\">1.1&nbsp;&nbsp;</span>Re-cap from last time</a></div><div class=\"lev2 toc-item\"><a href=\"#Model-assumptions\" data-toc-modified-id=\"Model-assumptions-12\"><span class=\"toc-item-num\">1.2&nbsp;&nbsp;</span>Model assumptions</a></div><div class=\"lev2 toc-item\"><a href=\"#Create-fake-data\" data-toc-modified-id=\"Create-fake-data-13\"><span class=\"toc-item-num\">1.3&nbsp;&nbsp;</span>Create fake data</a></div><div class=\"lev2 toc-item\"><a href=\"#Writing-a-basic-Logistic-Regressor-class\" data-toc-modified-id=\"Writing-a-basic-Logistic-Regressor-class-14\"><span class=\"toc-item-num\">1.4&nbsp;&nbsp;</span>Writing a basic Logistic Regressor class</a></div><div class=\"lev3 toc-item\"><a href=\"#A-black-box\" data-toc-modified-id=\"A-black-box-141\"><span class=\"toc-item-num\">1.4.1&nbsp;&nbsp;</span>A black box</a></div><div class=\"lev3 toc-item\"><a href=\"#Logistic-Regressor-shell-class\" data-toc-modified-id=\"Logistic-Regressor-shell-class-142\"><span class=\"toc-item-num\">1.4.2&nbsp;&nbsp;</span>Logistic Regressor shell class</a></div><div class=\"lev2 toc-item\"><a href=\"#Test-run\" data-toc-modified-id=\"Test-run-15\"><span class=\"toc-item-num\">1.5&nbsp;&nbsp;</span>Test run</a></div><div class=\"lev2 toc-item\"><a href=\"#Visualizing-Progress\" data-toc-modified-id=\"Visualizing-Progress-16\"><span class=\"toc-item-num\">1.6&nbsp;&nbsp;</span>Visualizing Progress</a></div><div class=\"lev1 toc-item\"><a href=\"#Setting-alpha\" data-toc-modified-id=\"Setting-alpha-2\"><span class=\"toc-item-num\">2&nbsp;&nbsp;</span>Setting alpha</a></div><div class=\"lev2 toc-item\"><a href=\"#From-above/last-time\" data-toc-modified-id=\"From-above/last-time-21\"><span class=\"toc-item-num\">2.1&nbsp;&nbsp;</span>From above/last time</a></div><div class=\"lev2 toc-item\"><a href=\"#Lipschitz-constant\" data-toc-modified-id=\"Lipschitz-constant-22\"><span class=\"toc-item-num\">2.2&nbsp;&nbsp;</span>Lipschitz constant</a></div><div class=\"lev2 toc-item\"><a href=\"#Adaptive-step-size\" data-toc-modified-id=\"Adaptive-step-size-23\"><span class=\"toc-item-num\">2.3&nbsp;&nbsp;</span>Adaptive step-size</a></div><div class=\"lev2 toc-item\"><a href=\"#Backtracking-line-search\" data-toc-modified-id=\"Backtracking-line-search-24\"><span class=\"toc-item-num\">2.4&nbsp;&nbsp;</span>Backtracking line-search</a></div><div class=\"lev2 toc-item\"><a href=\"#Comparison-of-the-three\" data-toc-modified-id=\"Comparison-of-the-three-25\"><span class=\"toc-item-num\">2.5&nbsp;&nbsp;</span>Comparison of the three</a></div><div class=\"lev2 toc-item\"><a href=\"#On-a-larger-data-set\" data-toc-modified-id=\"On-a-larger-data-set-26\"><span class=\"toc-item-num\">2.6&nbsp;&nbsp;</span>On a larger data set</a></div><div class=\"lev1 toc-item\"><a href=\"#Coordinate-optimization\" data-toc-modified-id=\"Coordinate-optimization-3\"><span class=\"toc-item-num\">3&nbsp;&nbsp;</span>Coordinate optimization</a></div><div class=\"lev3 toc-item\"><a href=\"#Prepare-larger-data-set\" data-toc-modified-id=\"Prepare-larger-data-set-301\"><span class=\"toc-item-num\">3.0.1&nbsp;&nbsp;</span>Prepare larger data set</a></div><div class=\"lev3 toc-item\"><a href=\"#Lipschitz-and-Uniform-Sampling\" data-toc-modified-id=\"Lipschitz-and-Uniform-Sampling-302\"><span class=\"toc-item-num\">3.0.2&nbsp;&nbsp;</span>Lipschitz and Uniform Sampling</a></div><div class=\"lev1 toc-item\"><a href=\"#Further-reading\" data-toc-modified-id=\"Further-reading-4\"><span class=\"toc-item-num\">4&nbsp;&nbsp;</span>Further reading</a></div><div class=\"lev2 toc-item\"><a href=\"#Stochastic-Gradient-Descent\" data-toc-modified-id=\"Stochastic-Gradient-Descent-41\"><span class=\"toc-item-num\">4.1&nbsp;&nbsp;</span>Stochastic Gradient Descent</a></div><div class=\"lev3 toc-item\"><a href=\"#Stochastic-Average-Gradient\" data-toc-modified-id=\"Stochastic-Average-Gradient-411\"><span class=\"toc-item-num\">4.1.1&nbsp;&nbsp;</span>Stochastic Average Gradient</a></div><div class=\"lev3 toc-item\"><a href=\"#SVRG\" data-toc-modified-id=\"SVRG-412\"><span class=\"toc-item-num\">4.1.2&nbsp;&nbsp;</span>SVRG</a></div><div class=\"lev2 toc-item\"><a href=\"#Regularization\" data-toc-modified-id=\"Regularization-42\"><span class=\"toc-item-num\">4.2&nbsp;&nbsp;</span>Regularization</a></div><div class=\"lev3 toc-item\"><a href=\"#$L^2$-regularization\" data-toc-modified-id=\"$L^2$-regularization-421\"><span class=\"toc-item-num\">4.2.1&nbsp;&nbsp;</span><span class=\"MathJax_Preview\" style=\"color: inherit; display: none;\"></span><span class=\"MathJax\" id=\"MathJax-Element-330-Frame\" tabindex=\"0\" data-mathml=\"<math xmlns=&quot;http://www.w3.org/1998/Math/MathML&quot;><msup><mi>L</mi><mn>2</mn></msup></math>\" role=\"presentation\" style=\"position: relative;\"><nobr aria-hidden=\"true\"><span class=\"math\" id=\"MathJax-Span-5663\" style=\"width: 1.252em; display: inline-block;\"><span style=\"display: inline-block; position: relative; width: 1.021em; height: 0px; font-size: 120%;\"><span style=\"position: absolute; clip: rect(1.299em 1001.02em 2.41em -999.998em); top: -2.266em; left: 0em;\"><span class=\"mrow\" id=\"MathJax-Span-5664\"><span class=\"msubsup\" id=\"MathJax-Span-5665\"><span style=\"display: inline-block; position: relative; width: 1.021em; height: 0px;\"><span style=\"position: absolute; clip: rect(3.197em 1000.56em 4.123em -999.998em); top: -3.979em; left: 0em;\"><span class=\"mi\" id=\"MathJax-Span-5666\" style=\"font-family: STIXMathJax_Main-italic;\">L<span style=\"display: inline-block; overflow: hidden; height: 1px; width: 0.002em;\"></span></span><span style=\"display: inline-block; width: 0px; height: 3.984em;\"></span></span><span style=\"position: absolute; top: -4.35em; left: 0.604em;\"><span class=\"mn\" id=\"MathJax-Span-5667\" style=\"font-size: 70.7%; font-family: STIXMathJax_Main;\">2</span><span style=\"display: inline-block; width: 0px; height: 3.984em;\"></span></span></span></span></span><span style=\"display: inline-block; width: 0px; height: 2.271em;\"></span></span></span><span style=\"display: inline-block; overflow: hidden; vertical-align: -0.053em; border-left: 0px solid; width: 0px; height: 1.114em;\"></span></span></nobr><span class=\"MJX_Assistive_MathML\" role=\"presentation\"><math xmlns=\"http://www.w3.org/1998/Math/MathML\"><msup><mi>L</mi><mn>2</mn></msup></math></span></span><script type=\"math/tex\" id=\"MathJax-Element-330\">L^2</script> regularization</a></div><div class=\"lev3 toc-item\"><a href=\"#$L^1$-regularization\" data-toc-modified-id=\"$L^1$-regularization-422\"><span class=\"toc-item-num\">4.2.2&nbsp;&nbsp;</span><span class=\"MathJax_Preview\" style=\"color: inherit; display: none;\"></span><span class=\"MathJax\" id=\"MathJax-Element-331-Frame\" tabindex=\"0\" data-mathml=\"<math xmlns=&quot;http://www.w3.org/1998/Math/MathML&quot;><msup><mi>L</mi><mn>1</mn></msup></math>\" role=\"presentation\" style=\"position: relative;\"><nobr aria-hidden=\"true\"><span class=\"math\" id=\"MathJax-Span-5668\" style=\"width: 1.252em; display: inline-block;\"><span style=\"display: inline-block; position: relative; width: 1.021em; height: 0px; font-size: 120%;\"><span style=\"position: absolute; clip: rect(1.299em 1001.02em 2.41em -999.998em); top: -2.266em; left: 0em;\"><span class=\"mrow\" id=\"MathJax-Span-5669\"><span class=\"msubsup\" id=\"MathJax-Span-5670\"><span style=\"display: inline-block; position: relative; width: 1.021em; height: 0px;\"><span style=\"position: absolute; clip: rect(3.197em 1000.56em 4.123em -999.998em); top: -3.979em; left: 0em;\"><span class=\"mi\" id=\"MathJax-Span-5671\" style=\"font-family: STIXMathJax_Main-italic;\">L<span style=\"display: inline-block; overflow: hidden; height: 1px; width: 0.002em;\"></span></span><span style=\"display: inline-block; width: 0px; height: 3.984em;\"></span></span><span style=\"position: absolute; top: -4.35em; left: 0.604em;\"><span class=\"mn\" id=\"MathJax-Span-5672\" style=\"font-size: 70.7%; font-family: STIXMathJax_Main;\">1</span><span style=\"display: inline-block; width: 0px; height: 3.984em;\"></span></span></span></span></span><span style=\"display: inline-block; width: 0px; height: 2.271em;\"></span></span></span><span style=\"display: inline-block; overflow: hidden; vertical-align: -0.053em; border-left: 0px solid; width: 0px; height: 1.114em;\"></span></span></nobr><span class=\"MJX_Assistive_MathML\" role=\"presentation\"><math xmlns=\"http://www.w3.org/1998/Math/MathML\"><msup><mi>L</mi><mn>1</mn></msup></math></span></span><script type=\"math/tex\" id=\"MathJax-Element-331\">L^1</script> regularization</a></div><div class=\"lev2 toc-item\"><a href=\"#Constrained-Optimization\" data-toc-modified-id=\"Constrained-Optimization-43\"><span class=\"toc-item-num\">4.3&nbsp;&nbsp;</span>Constrained Optimization</a></div><div class=\"lev3 toc-item\"><a href=\"#Projected-Gradient\" data-toc-modified-id=\"Projected-Gradient-431\"><span class=\"toc-item-num\">4.3.1&nbsp;&nbsp;</span>Projected Gradient</a></div><div class=\"lev3 toc-item\"><a href=\"#Proximal-Gradient\" data-toc-modified-id=\"Proximal-Gradient-432\"><span class=\"toc-item-num\">4.3.2&nbsp;&nbsp;</span>Proximal Gradient</a></div><div class=\"lev3 toc-item\"><a href=\"#Newton's-method\" data-toc-modified-id=\"Newton's-method-433\"><span class=\"toc-item-num\">4.3.3&nbsp;&nbsp;</span>Newton's method</a></div><div class=\"lev3 toc-item\"><a href=\"#References:\" data-toc-modified-id=\"References:-434\"><span class=\"toc-item-num\">4.3.4&nbsp;&nbsp;</span>References:</a></div>"
   ]
  },
  {
   "cell_type": "markdown",
   "metadata": {},
   "source": [
    "$\\newcommand{\\reals}{\\mathbb{R}}\n",
    "\\newcommand{\\ip}[1]{\\langle #1 \\rangle}\n",
    "\\DeclareMathOperator*{\\argmin}{\\arg\\min}\n",
    "\\newcommand{\\E}{\\mathbb{E}}$"
   ]
  },
  {
   "cell_type": "code",
   "execution_count": 1,
   "metadata": {
    "collapsed": true
   },
   "outputs": [],
   "source": [
    "import numpy as np\n",
    "import matplotlib.pyplot as plt\n",
    "%matplotlib inline\n",
    "import timeit"
   ]
  },
  {
   "cell_type": "code",
   "execution_count": 2,
   "metadata": {
    "collapsed": true
   },
   "outputs": [],
   "source": [
    "np.random.seed(101)"
   ]
  },
  {
   "cell_type": "markdown",
   "metadata": {},
   "source": [
    "# Introduction & Set-up\n",
    "## Re-cap from last time\n",
    "\n",
    "For a real-valued continuously differentiable function $f \\in \\mathcal{C}^1(\\reals^n)$, the gradient of $f$ — denoted $\\nabla f$ — gives the direction of \"steepest ascent\". This is the direction in which $f$ increases most quickly. This statement can be verified by optimizing the directional derivative of $f$ to see which direction $u \\in \\reals^n$ gives the largest d.d. \n",
    "\n",
    "The directional derivative of $f$ at a point $w^0 \\in \\reals^n$ in the direction $u \\in \\reals^n$ is given by $\\nabla f(w^0) u \\equiv \\ip{\\nabla f(w^0), u}$ and denotes the rate of change of $f$ in the direction $u$ when $\\|u\\|_2 = 1$. In this case, it follows from the Cauchy-Schwarz inequality that\n",
    "$$\n",
    "\\nabla f(w^0) u \n",
    "\\leq \\|\\nabla f(w^0)\\|_2 \\|u\\|_2 \n",
    "= \\|\\nabla f(w^0)\\|_2 \n",
    "$$ \n",
    "The two sides achieve equality precisely when $u = \\nabla f(w^0) / \\|\\nabla f(w^0)\\|_2$.\n",
    "\n",
    "Correspondingly, the direction $v \\in \\reals^n$ of steepest **descent** of $f$ at $w^0$ is *opposite* the direction of the gradient, *i.e.,* $v = -\\nabla f(w^0)/\\|\\nabla f(w^0)\\|_2$. Hence, if we're looking to minimize a function $f$, then a seemingly reasonable approach is to *march* in the direction opposite the gradient until [hopefully] we find the smallest value of $f$. \n",
    "\n",
    "<img src=\"https://upload.wikimedia.org/wikipedia/commons/f/ff/Gradient_descent.svg\" height=\"300px\" width=\"300px\" />\n",
    "\n",
    "## Model assumptions \n",
    "\n",
    "This is a quick re-cap from last time and for consistency of notation.\n",
    "\n",
    "The **data** is comprised of the **features**/**covariates** $X \\in \\reals^{n\\times d}$ and the **labels**/**response** $y \\in \\reals^n$. Suppose for the time being that $f(w; X,y): \\reals^d \\to \\reals$ defines a convex objective (\"cost\") function parametrized by the data. We think of $w$ as a vector of weights or **parameters** for a linear combination of the $d$ features. \n",
    "\n",
    "For example, the objective function for $L^2$ regularized least squares regression is given by \n",
    "$$\n",
    "\\argmin_{w\\in \\reals^d} f(X,y; w,\\lambda) = \\argmin_{w\\in\\reals^d}\\big\\{\\frac{1}{2} \\|Xw - y\\|_2^2 + \\frac{\\lambda}{2}\\|w\\|_2^2\\big\\}\n",
    "$$\n",
    "\n",
    "Since the function $f$ is assumed to be convex, a global minimizer $w^*$ exists. To find $w^*$ we need simply start at some point $w^0$ and *march* for a sufficiently long time in the direction opposite the gradient (*cf.* picture above):\n",
    "\\begin{align*}\n",
    "w^1 &:= w^0 - \\alpha_0 \\nabla f(w^0)\\\\\n",
    "w^2 &:= w^1 - \\alpha_1 \\nabla f(w^1)\\\\\n",
    "&\\,\\,\\vdots\\\\\n",
    "w^{j+1} &:= w^j - \\alpha_j \\nabla f(w^j)\n",
    "\\end{align*}\n",
    "It may not always be sensible while marching to take a step of size equal to the magnitude of the gradient. In general, one instead takes walks in the direction of the gradient scaled by some a parameter $\\alpha_t, t\\geq 0$. But how does one choose $\\alpha_t$? Should they all be the same? Is there an optimal $\\alpha$? "
   ]
  },
  {
   "cell_type": "markdown",
   "metadata": {},
   "source": [
    "## Create fake data"
   ]
  },
  {
   "cell_type": "markdown",
   "metadata": {},
   "source": [
    "Throughout this example, we'll be performing logistic regression on a two-dimensional data set, which will allow us to visualize the results. We'll be examining how long our code takes to fit and predict, by looking at both run-time and number of iterations."
   ]
  },
  {
   "cell_type": "code",
   "execution_count": 3,
   "metadata": {
    "collapsed": false
   },
   "outputs": [],
   "source": [
    "n = 500\n",
    "d = 2\n",
    "X = np.random.randn(n, d)\n",
    "y = np.zeros((n,1))\n",
    "for j in range(n):\n",
    "    if X[j,1] > X[j,0]:\n",
    "        if np.random.rand(1) >= .9:\n",
    "            y[j] = 1\n",
    "        else:\n",
    "            y[j] = -1\n",
    "    else:\n",
    "        if np.random.rand(1) < .1:\n",
    "            y[j] = -1\n",
    "        else:\n",
    "            y[j] = 1"
   ]
  },
  {
   "cell_type": "code",
   "execution_count": 4,
   "metadata": {
    "collapsed": false
   },
   "outputs": [
    {
     "data": {
      "image/png": "[encoded data removed]",
      "text/plain": [
       "<matplotlib.figure.Figure at 0x10cb597f0>"
      ]
     },
     "metadata": {},
     "output_type": "display_data"
    }
   ],
   "source": [
    "plt.scatter(X[:,0], X[:,1], s=10, lw=0, alpha=.8, c=y);"
   ]
  },
  {
   "cell_type": "code",
   "execution_count": 5,
   "metadata": {
    "collapsed": false
   },
   "outputs": [
    {
     "name": "stdout",
     "output_type": "stream",
     "text": [
      "#{y == 1} = 253\n",
      "#{y == -1} = 247\n"
     ]
    }
   ],
   "source": [
    "print('#{y == 1} = %d\\n#{y == -1} = %d' % ((y == 1).sum(), (y == -1).sum()))"
   ]
  },
  {
   "cell_type": "markdown",
   "metadata": {},
   "source": [
    "## Writing a basic Logistic Regressor class"
   ]
  },
  {
   "cell_type": "markdown",
   "metadata": {},
   "source": [
    "Last time, we wrote a very simple gradient descent method. I've re-written it here in a slightly more general form so that it cooperates with what we'll be defining below."
   ]
  },
  {
   "cell_type": "code",
   "execution_count": 6,
   "metadata": {
    "code_folding": [
     0
    ],
    "collapsed": true
   },
   "outputs": [],
   "source": [
    "def vanillaGradientDescent(funObj, w, X, y, \n",
    "                           objectiveParms={}, \n",
    "                           gdParms={}):\n",
    "    # optimality tolerance\n",
    "    optTol = gdParms.get('optTol')\n",
    "    if optTol is None:\n",
    "        optTol = 1e-2\n",
    "    maxEvals = gdParms.get('maxEvals')\n",
    "    if maxEvals is None:\n",
    "        maxEvals = 500\n",
    "    verbose = gdParms.get('verbose')\n",
    "    if verbose is None:\n",
    "        verbose = True\n",
    "    # initial objective and gradient value\n",
    "    f,g = funObj(w, X, y, **objectiveParms)\n",
    "    # this took a single function evaluation\n",
    "    funEvals = 1\n",
    "    \n",
    "    # initialize the step size\n",
    "    alpha = gdParms.get('alpha')\n",
    "    if alpha is None:\n",
    "        alpha = .01\n",
    "    \n",
    "    # Gradient Descent loop\n",
    "    while True:\n",
    "        # Step in search direction\n",
    "        w = w - alpha*g\n",
    "        # Update objective and gradient values\n",
    "        f, g = funObj(w, X, y, **objectiveParms)\n",
    "        # This cost one more function evaluation\n",
    "        funEvals += 1\n",
    "        # Test terminate conditions — largest magnitude of derivative\n",
    "        optCond = np.linalg.norm(g, np.inf)\n",
    "        if verbose:\n",
    "            print('%6d %15.5e %15.5e %15.5e' % (funEvals, alpha, f, optCond))\n",
    "        if optCond < optTol:\n",
    "            if verbose:\n",
    "                print('Problem solved up to optimality tolerance')\n",
    "            break\n",
    "        if funEvals >= maxEvals:\n",
    "            if verbose:\n",
    "                print('At maximum number of function evaluations')\n",
    "            break\n",
    "    return (w, f)"
   ]
  },
  {
   "cell_type": "markdown",
   "metadata": {},
   "source": [
    "### A black box"
   ]
  },
  {
   "cell_type": "markdown",
   "metadata": {},
   "source": [
    "We'll also be using a function [translated and modified from Mark Schmidt's Matlab version] that can be — for now — be treated as a black box. This function is not available, to my knowledge, on his website; however, you can find `minFunc` [through his website](https://www.cs.ubc.ca/~schmidtm/Software/minFunc.html), which is likely a generalization of `findMin`. "
   ]
  },
  {
   "cell_type": "code",
   "execution_count": 7,
   "metadata": {
    "code_folding": [
     1
    ],
    "collapsed": true
   },
   "outputs": [],
   "source": [
    "# checks if a number v is in the appropriate real range\n",
    "def isLegal(v):\n",
    "    # assumes v is a scalar or vector\n",
    "    return any(np.imag(x) for x in [v]) and any(np.isnan(x) for x in [v]) and any(np.isinf(x) for x in [v])"
   ]
  },
  {
   "cell_type": "code",
   "execution_count": 8,
   "metadata": {
    "code_folding": [
     0
    ],
    "collapsed": true
   },
   "outputs": [],
   "source": [
    "def findMin(funObj, w, X, y, \n",
    "            objectiveParms={}, \n",
    "            gdParms={}):\n",
    "    optTol = gdParms.get('optTol')\n",
    "    if optTol is None:\n",
    "        optTol = 1e-2\n",
    "    maxEvals = gdParms.get('maxEvals')\n",
    "    if maxEvals is None:\n",
    "        maxEvals = 500\n",
    "    verbose = gdParms.get('verbose')\n",
    "    if verbose is None:\n",
    "        verbose = True\n",
    "    gamma = gdParms.get('gamma')\n",
    "    if gamma is None:\n",
    "        gamma = 1e-4\n",
    "    \n",
    "    f,g = funObj(w, X, y, **objectiveParms)\n",
    "    funEvals = 1\n",
    "    \n",
    "    alpha = 1\n",
    "    while True:\n",
    "        # Line-search to find an acceptable value of alpha\n",
    "        w_new = w - alpha*g\n",
    "        f_new, g_new = funObj(w_new, X, y, **objectiveParms)\n",
    "        funEvals += 1\n",
    "        \n",
    "        gg = g.T @ g\n",
    "        while f_new > f - gamma*alpha*gg:\n",
    "            if verbose:\n",
    "                print('Backtracking...')\n",
    "            alpha = alpha**2 * gg/(2*(f_new - f + alpha*gg))\n",
    "            w_new = w - alpha*g\n",
    "            f_new, g_new = funObj(w_new, X, y, **objectiveParms)\n",
    "            funEvals += 1\n",
    "        # Update step size for next iteration\n",
    "        dg = g_new - g\n",
    "        alpha - -alpha*(dg.T @ g)/(dg.T @ dg)\n",
    "        # Sanity check on step-size\n",
    "        if (not isLegal(alpha)) or (alpha < 1e-10) or (alpha > 1e10):\n",
    "            alpha = 1\n",
    "        # Update parameters/function/gradient\n",
    "        w = w_new\n",
    "        f = f_new\n",
    "        g = g_new\n",
    "        # Test terminate conditions\n",
    "        optCond = np.linalg.norm(g, np.inf)\n",
    "        if verbose:\n",
    "            print('%6d %15.5e %15.5e %15.5e' % (funEvals, alpha, f, optCond))\n",
    "        if optCond < optTol:\n",
    "            if verbose:\n",
    "                print('Problem solved up to optimality tolerance')\n",
    "            break\n",
    "        if funEvals >= maxEvals:\n",
    "            if verbose:\n",
    "                print('At maximum number of function evaluations')\n",
    "            break\n",
    "    return (w, f)"
   ]
  },
  {
   "cell_type": "markdown",
   "metadata": {},
   "source": [
    "### Logistic Regressor shell class"
   ]
  },
  {
   "cell_type": "markdown",
   "metadata": {},
   "source": [
    "Below, we construct a class called `LogisticRegressor` which has `fit` and `predict` methods. One major difference between this and `sklearn`'s `LogisticRegression` class object is that I more easily know how to alter these moving parts without breaking the whole thing. This will let us alter the gradient descent method and the objective function so that we can compare run time, iteration cost, *etc.*"
   ]
  },
  {
   "cell_type": "markdown",
   "metadata": {},
   "source": [
    "The logistic regression objective function is given by \n",
    "$$\n",
    "f(w; X,y) := \\sum_{i=1}^n \\log (1 + \\exp(-y^i w^T x^i)) + \\frac{\\lambda}{2} \\|w\\|_2^2\n",
    "$$\n",
    "and its gradient is given by \n",
    "$$\n",
    "\\nabla_w f(w; X,y) = g(w; X,y) = X^T r + \\lambda w, \\quad r_i := -y^i \\sigma(-y^i w^T x^i)\n",
    "$$\n",
    "where $\\sigma(x) := (1 + e^{-x})^{-1}$ is the *logistic function*.\n",
    "\n",
    "<img src=\"https://upload.wikimedia.org/wikipedia/commons/thumb/8/88/Logistic-curve.svg/320px-Logistic-curve.svg.png\" width=\"300px\" height=\"200px\"/>"
   ]
  },
  {
   "cell_type": "code",
   "execution_count": 9,
   "metadata": {
    "code_folding": [
     17,
     44,
     54,
     57,
     71,
     80
    ],
    "collapsed": true
   },
   "outputs": [],
   "source": [
    "class LogisticRegressor:\n",
    "    \"\"\"\n",
    "    LogisticRegressor takes data [X, y] and optimization parameters and computes a \n",
    "    logistic regression linear model to perform binary classification.\n",
    "    X: an n-by-d numpy.ndarray object whose rows are samples/observations of d features\n",
    "    y: an n-by-1 numpy.ndarray vector whose elements lie in the set {-1, +1}\n",
    "    objectiveParms: A dictionary of parameters to pass to the objective function \n",
    "                    (e.g., an L2-regularization parameter lam)\n",
    "    gdParms: A dictionary of parameters to pass to the gradient descent method\n",
    "             (e.g., the optimality tolerance, the gradient descent step size, etc.)\n",
    "    kwargs:\n",
    "        intercept: whether to fit a linear model a.T * X or affine model a.T * X + a0\n",
    "        maxIter: maximum number of iterations before loop breaks\n",
    "        verbose: whether to print progress during the optimization\n",
    "        objective: the objective function to use in the optimization\n",
    "        gd: the gradient descent method to use in the optimization\n",
    "    \"\"\"\n",
    "    def __init__(self,objectiveParms={},gdParms={},**kwargs):\n",
    "        # # # Optional Parameters # # #\n",
    "        # Whether to include the intercept term \n",
    "        # (default: yes)\n",
    "        self.intercept = kwargs.get('intercept')\n",
    "        # Whether to print out information along the way \n",
    "        # (default: yes)\n",
    "        self.verbose = gdParms.get('verbose')\n",
    "        if self.verbose is None:\n",
    "            self.verbose = True\n",
    "        # Objective function for logistic regression \n",
    "        # (default: L2 regularized LR)\n",
    "        self.objective = kwargs.get('objective')\n",
    "        self.objectiveParms = objectiveParms\n",
    "        if self.objective is None:\n",
    "            self.objective = LogisticRegressor.simpleObjective\n",
    "            if (objectiveParms is None) or (objectiveParms.get('lam') is None):\n",
    "                self.objectiveParms = {'lam': 1}\n",
    "        # Gradient descent algorithm\n",
    "        # (default: vanillaGradientDescent)\n",
    "        self.gd = kwargs.get('gd')\n",
    "        self.gdParms = gdParms\n",
    "        if self.gd is None:\n",
    "            self.gd = vanillaGradientDescent\n",
    "            if (gdParms is None) or (gdParms.get('alpha') is None):\n",
    "                self.gdParms = gdParms = {'alpha': .01}\n",
    "        return\n",
    "    def fit(self, X, y):\n",
    "        \"\"\"\n",
    "        LogisticRegressor.fit fits the objective function `objective` to the \n",
    "        data `[X, y]` using `w` as the initial starting point for the parameters\n",
    "        and lam as the regularization parameter.\n",
    "        \"\"\"\n",
    "        # # # Necessary parameters # # #\n",
    "        self.n, self.d = X.shape\n",
    "        self.y = y\n",
    "        # Whether to fit intercept\n",
    "        if not self.intercept: # True if intercept is False or None\n",
    "            self.X = X\n",
    "            self.w = np.zeros((d,1))\n",
    "        else:\n",
    "            self.X = np.hstack((np.ones((n,1)),X))\n",
    "            self.w = np.zeros((d+1,1))\n",
    "        # # # Gradient descent algorithm # # #\n",
    "        if self.verbose:\n",
    "            st = timeit.time.clock()\n",
    "        self.w, self.objMin = self.gd(self.objective, self.w, \n",
    "                                      self.X, self.y, \n",
    "                                      self.objectiveParms,\n",
    "                                      self.gdParms)\n",
    "        if self.verbose:\n",
    "            et = timeit.time.clock()\n",
    "            print('total elapsed time: %15.5g s' % (et-st))\n",
    "        return\n",
    "    def predict(self, Xhat):\n",
    "        \"\"\"\n",
    "        LogisticRegressor.predict computes the predicted values `yhat` from the\n",
    "        data `Xhat` and the parameters `w` computed from `fit`.\n",
    "        \"\"\"\n",
    "        t,d = Xhat.shape\n",
    "        if self.intercept:\n",
    "            Xhat = np.hstack((np.ones((t,1)),Xhat))\n",
    "        return np.sign(np.dot(Xhat, self.w))\n",
    "    def simpleObjective(w,X,y,lam):\n",
    "        \"\"\"\n",
    "        LogisticRegressor.simpleObjective returns the objective value and its \n",
    "        gradient given the parameters `w`, data `[X, y]` and regularization\n",
    "        parameter `lam`. It does this without regard to number of computations\n",
    "        required for matrix multiplication, etc. (hence, 'simple')\n",
    "        \"\"\"\n",
    "        yXw = y*(X @ w)\n",
    "        nll = np.sum(np.log(1 + np.exp(-yXw))) + .5*lam*np.dot(w.T,w)\n",
    "        sigmoid = 1/(1+np.exp(-yXw))\n",
    "        g = - np.dot(X.T, y*(1-sigmoid)) + lam*w\n",
    "        return (nll, g)"
   ]
  },
  {
   "cell_type": "markdown",
   "metadata": {},
   "source": [
    "## Test run"
   ]
  },
  {
   "cell_type": "code",
   "execution_count": 10,
   "metadata": {
    "collapsed": true
   },
   "outputs": [],
   "source": [
    "LR_vanilla1 = LogisticRegressor(gdParms={'alpha':1e-1})\n",
    "LR_vanilla2 = LogisticRegressor(gdParms={'alpha':1e-2})"
   ]
  },
  {
   "cell_type": "code",
   "execution_count": 11,
   "metadata": {
    "collapsed": false,
    "scrolled": true
   },
   "outputs": [
    {
     "name": "stdout",
     "output_type": "stream",
     "text": [
      "     2     1.00000e-01     7.93865e+02     4.45185e+01\n",
      "     3     1.00000e-01     5.42996e+02     3.35334e+01\n",
      "     4     1.00000e-01     3.51944e+02     2.94770e+01\n",
      "     5     1.00000e-01     2.24912e+02     1.86538e+01\n",
      "     6     1.00000e-01     1.98637e+02     2.11893e+01\n",
      "     7     1.00000e-01     2.52204e+02     5.75607e+01\n",
      "     8     1.00000e-01     9.04036e+02     1.88882e+02\n",
      "     9     1.00000e-01     1.67604e+03     1.36556e+02\n",
      "    10     1.00000e-01     8.24444e+02     7.58431e+01\n",
      "    11     1.00000e-01     4.94043e+02     5.41196e+01\n",
      "    12     1.00000e-01     3.39577e+02     5.18680e+01\n",
      "    13     1.00000e-01     3.92138e+02     9.34852e+01\n",
      "    14     1.00000e-01     1.40414e+03     1.84449e+02\n",
      "    15     1.00000e-01     1.12338e+03     1.05343e+02\n",
      "    16     1.00000e-01     7.32375e+02     7.47040e+01\n",
      "    17     1.00000e-01     4.75174e+02     6.59887e+01\n",
      "    18     1.00000e-01     4.30051e+02     6.83969e+01\n",
      "    19     1.00000e-01     7.96527e+02     1.42836e+02\n",
      "    20     1.00000e-01     1.50507e+03     1.50060e+02\n",
      "    21     1.00000e-01     7.50858e+02     8.31824e+01\n",
      "    22     1.00000e-01     5.31420e+02     6.59763e+01\n",
      "    23     1.00000e-01     4.37526e+02     7.81839e+01\n",
      "    24     1.00000e-01     7.55226e+02     1.33503e+02\n",
      "    25     1.00000e-01     1.24885e+03     1.35649e+02\n",
      "    26     1.00000e-01     1.01071e+03     8.38504e+01\n",
      "    27     1.00000e-01     5.52931e+02     7.06461e+01\n",
      "    28     1.00000e-01     4.49596e+02     6.71548e+01\n",
      "    29     1.00000e-01     6.10280e+02     1.13765e+02\n",
      "    30     1.00000e-01     1.38038e+03     1.59014e+02\n",
      "    31     1.00000e-01     8.90064e+02     9.59135e+01\n",
      "    32     1.00000e-01     6.49646e+02     7.34296e+01\n",
      "    33     1.00000e-01     4.88644e+02     7.84315e+01\n",
      "    34     1.00000e-01     6.46439e+02     1.03934e+02\n",
      "    35     1.00000e-01     1.04520e+03     1.34950e+02\n",
      "    36     1.00000e-01     1.15697e+03     1.08754e+02\n",
      "    37     1.00000e-01     6.39560e+02     7.95887e+01\n",
      "    38     1.00000e-01     5.20607e+02     7.02667e+01\n",
      "    39     1.00000e-01     5.68116e+02     9.41001e+01\n",
      "    40     1.00000e-01     1.14314e+03     1.49024e+02\n",
      "    41     1.00000e-01     9.83346e+02     1.03306e+02\n",
      "    42     1.00000e-01     7.82900e+02     7.88979e+01\n",
      "    43     1.00000e-01     5.28398e+02     7.81597e+01\n",
      "    44     1.00000e-01     5.80962e+02     8.18654e+01\n",
      "    45     1.00000e-01     8.73927e+02     1.29307e+02\n",
      "    46     1.00000e-01     1.25902e+03     1.29768e+02\n",
      "    47     1.00000e-01     7.29601e+02     8.63062e+01\n",
      "    48     1.00000e-01     5.70341e+02     7.15552e+01\n",
      "    49     1.00000e-01     5.24826e+02     8.83068e+01\n",
      "    50     1.00000e-01     9.26590e+02     1.36785e+02\n",
      "    51     1.00000e-01     1.07338e+03     1.12313e+02\n",
      "    52     1.00000e-01     9.15592e+02     8.22354e+01\n",
      "    53     1.00000e-01     5.55484e+02     7.65769e+01\n",
      "    54     1.00000e-01     5.25544e+02     7.27437e+01\n",
      "    55     1.00000e-01     7.41207e+02     1.21417e+02\n",
      "    56     1.00000e-01     1.31280e+03     1.43008e+02\n",
      "    57     1.00000e-01     7.98081e+02     9.10295e+01\n",
      "    58     1.00000e-01     6.09969e+02     7.27912e+01\n",
      "    59     1.00000e-01     5.10519e+02     8.45139e+01\n",
      "    60     1.00000e-01     7.97909e+02     1.24288e+02\n",
      "    61     1.00000e-01     1.08323e+03     1.22674e+02\n",
      "    62     1.00000e-01     1.00208e+03     8.76135e+01\n",
      "    63     1.00000e-01     5.79737e+02     7.72713e+01\n",
      "    64     1.00000e-01     5.19507e+02     7.19323e+01\n",
      "    65     1.00000e-01     6.78785e+02     1.13121e+02\n",
      "    66     1.00000e-01     1.28560e+03     1.46677e+02\n",
      "    67     1.00000e-01     8.46104e+02     9.48380e+01\n",
      "    68     1.00000e-01     6.54033e+02     7.46235e+01\n",
      "    69     1.00000e-01     5.15593e+02     8.29209e+01\n",
      "    70     1.00000e-01     7.28710e+02     1.12808e+02\n",
      "    71     1.00000e-01     1.03789e+03     1.25991e+02\n",
      "    72     1.00000e-01     1.06861e+03     9.84432e+01\n",
      "    73     1.00000e-01     6.12854e+02     7.96788e+01\n",
      "    74     1.00000e-01     5.34903e+02     7.21284e+01\n",
      "    75     1.00000e-01     6.36921e+02     1.03307e+02\n",
      "    76     1.00000e-01     1.21436e+03     1.45942e+02\n",
      "    77     1.00000e-01     8.91828e+02     9.85507e+01\n",
      "    78     1.00000e-01     7.09650e+02     7.68162e+01\n",
      "    79     1.00000e-01     5.28183e+02     8.20216e+01\n",
      "    80     1.00000e-01     6.76614e+02     1.00893e+02\n",
      "    81     1.00000e-01     9.67633e+02     1.26336e+02\n",
      "    82     1.00000e-01     1.13217e+03     1.11060e+02\n",
      "    83     1.00000e-01     6.63741e+02     8.33283e+01\n",
      "    84     1.00000e-01     5.59978e+02     7.25521e+01\n",
      "    85     1.00000e-01     5.90909e+02     9.46148e+01\n",
      "    86     1.00000e-01     1.09424e+03     1.42302e+02\n",
      "    87     1.00000e-01     9.58886e+02     1.03000e+02\n",
      "    88     1.00000e-01     7.98369e+02     7.96027e+01\n",
      "    89     1.00000e-01     5.44770e+02     8.03212e+01\n",
      "    90     1.00000e-01     6.08050e+02     8.41570e+01\n",
      "    91     1.00000e-01     8.64050e+02     1.25067e+02\n",
      "    92     1.00000e-01     1.21950e+03     1.27290e+02\n",
      "    93     1.00000e-01     7.32449e+02     8.74441e+01\n",
      "    94     1.00000e-01     5.85821e+02     7.26729e+01\n",
      "    95     1.00000e-01     5.41701e+02     8.94690e+01\n",
      "    96     1.00000e-01     9.35155e+02     1.34973e+02\n",
      "    97     1.00000e-01     1.04301e+03     1.09488e+02\n",
      "    98     1.00000e-01     9.09623e+02     8.21462e+01\n",
      "    99     1.00000e-01     5.60328e+02     7.78412e+01\n",
      "   100     1.00000e-01     5.42655e+02     7.35097e+01\n",
      "   101     1.00000e-01     7.53905e+02     1.20671e+02\n",
      "   102     1.00000e-01     1.28880e+03     1.40368e+02\n",
      "   103     1.00000e-01     7.91552e+02     9.09970e+01\n",
      "   104     1.00000e-01     6.12891e+02     7.31565e+01\n",
      "   105     1.00000e-01     5.18368e+02     8.54441e+01\n",
      "   106     1.00000e-01     8.15209e+02     1.25135e+02\n",
      "   107     1.00000e-01     1.07143e+03     1.20394e+02\n",
      "   108     1.00000e-01     9.88885e+02     8.65974e+01\n",
      "   109     1.00000e-01     5.79042e+02     7.77346e+01\n",
      "   110     1.00000e-01     5.26897e+02     7.23921e+01\n",
      "   111     1.00000e-01     6.91367e+02     1.13983e+02\n",
      "   112     1.00000e-01     1.28091e+03     1.45187e+02\n",
      "   113     1.00000e-01     8.36394e+02     9.43013e+01\n",
      "   114     1.00000e-01     6.49102e+02     7.45159e+01\n",
      "   115     1.00000e-01     5.17894e+02     8.35267e+01\n",
      "   116     1.00000e-01     7.44402e+02     1.14907e+02\n",
      "   117     1.00000e-01     1.04193e+03     1.24727e+02\n",
      "   118     1.00000e-01     1.05262e+03     9.62228e+01\n",
      "   119     1.00000e-01     6.06430e+02     7.94274e+01\n",
      "   120     1.00000e-01     5.35011e+02     7.22871e+01\n",
      "   121     1.00000e-01     6.48946e+02     1.05552e+02\n",
      "   122     1.00000e-01     1.22761e+03     1.45611e+02\n",
      "   123     1.00000e-01     8.78475e+02     9.76723e+01\n",
      "   124     1.00000e-01     6.96948e+02     7.63879e+01\n",
      "   125     1.00000e-01     5.26949e+02     8.24685e+01\n",
      "   126     1.00000e-01     6.92019e+02     1.04000e+02\n",
      "   127     1.00000e-01     9.83391e+02     1.25872e+02\n",
      "   128     1.00000e-01     1.11302e+03     1.07602e+02\n",
      "   129     1.00000e-01     6.49851e+02     8.25181e+01\n",
      "   130     1.00000e-01     5.55665e+02     7.25965e+01\n",
      "   131     1.00000e-01     6.05300e+02     9.56937e+01\n",
      "   132     1.00000e-01     1.12754e+03     1.43122e+02\n",
      "   133     1.00000e-01     9.36895e+02     1.01728e+02\n",
      "   134     1.00000e-01     7.70903e+02     7.88469e+01\n",
      "   135     1.00000e-01     5.41563e+02     8.11177e+01\n",
      "   136     1.00000e-01     6.31305e+02     8.94297e+01\n",
      "   137     1.00000e-01     8.94443e+02     1.25264e+02\n",
      "   138     1.00000e-01     1.19044e+03     1.22618e+02\n",
      "   139     1.00000e-01     7.14399e+02     8.64958e+01\n",
      "   140     1.00000e-01     5.80605e+02     7.27448e+01\n",
      "   141     1.00000e-01     5.54509e+02     9.09555e+01\n",
      "   142     1.00000e-01     9.76763e+02     1.37101e+02\n",
      "   143     1.00000e-01     1.02114e+03     1.06082e+02\n",
      "   144     1.00000e-01     8.83818e+02     8.16322e+01\n",
      "   145     1.00000e-01     5.56488e+02     7.83356e+01\n",
      "   146     1.00000e-01     5.54765e+02     7.40691e+01\n",
      "   147     1.00000e-01     7.78054e+02     1.22112e+02\n",
      "   148     1.00000e-01     1.27849e+03     1.37785e+02\n",
      "   149     1.00000e-01     7.77490e+02     9.00994e+01\n",
      "   150     1.00000e-01     6.05111e+02     7.29470e+01\n",
      "   151     1.00000e-01     5.21845e+02     8.62878e+01\n",
      "   152     1.00000e-01     8.41331e+02     1.27826e+02\n",
      "   153     1.00000e-01     1.07064e+03     1.18228e+02\n",
      "   154     1.00000e-01     9.69405e+02     8.41352e+01\n",
      "   155     1.00000e-01     5.73614e+02     7.76063e+01\n",
      "   156     1.00000e-01     5.28624e+02     7.25964e+01\n",
      "   157     1.00000e-01     7.05420e+02     1.15874e+02\n",
      "   158     1.00000e-01     1.28734e+03     1.44354e+02\n",
      "   159     1.00000e-01     8.25034e+02     9.34294e+01\n",
      "   160     1.00000e-01     6.38619e+02     7.41055e+01\n",
      "   161     1.00000e-01     5.17033e+02     8.39417e+01\n",
      "   162     1.00000e-01     7.60976e+02     1.17686e+02\n",
      "   163     1.00000e-01     1.05298e+03     1.23912e+02\n",
      "   164     1.00000e-01     1.03603e+03     9.35060e+01\n",
      "   165     1.00000e-01     5.97792e+02     7.88315e+01\n",
      "   166     1.00000e-01     5.31417e+02     7.22604e+01\n",
      "   167     1.00000e-01     6.60111e+02     1.08120e+02\n",
      "   168     1.00000e-01     1.24604e+03     1.45772e+02\n",
      "   169     1.00000e-01     8.66155e+02     9.67092e+01\n",
      "   170     1.00000e-01     6.82288e+02     7.58339e+01\n",
      "   171     1.00000e-01     5.23912e+02     8.27408e+01\n",
      "   172     1.00000e-01     7.06123e+02     1.07175e+02\n",
      "   173     1.00000e-01     1.00177e+03     1.25739e+02\n",
      "   174     1.00000e-01     1.09572e+03     1.04175e+02\n",
      "   175     1.00000e-01     6.35787e+02     8.15528e+01\n",
      "   176     1.00000e-01     5.49303e+02     7.25133e+01\n",
      "   177     1.00000e-01     6.18406e+02     9.72104e+01\n",
      "   178     1.00000e-01     1.16060e+03     1.44078e+02\n",
      "   179     1.00000e-01     9.17721e+02     1.00492e+02\n",
      "   180     1.00000e-01     7.45865e+02     7.80827e+01\n",
      "   181     1.00000e-01     5.37239e+02     8.16454e+01\n",
      "   182     1.00000e-01     6.51281e+02     9.41990e+01\n",
      "   183     1.00000e-01     9.23355e+02     1.25552e+02\n",
      "   184     1.00000e-01     1.16507e+03     1.18020e+02\n",
      "   185     1.00000e-01     6.95080e+02     8.53852e+01\n",
      "   186     1.00000e-01     5.73907e+02     7.27456e+01\n",
      "   187     1.00000e-01     5.68434e+02     9.24443e+01\n",
      "   188     1.00000e-01     1.02134e+03     1.39179e+02\n",
      "   189     1.00000e-01     9.97136e+02     1.05074e+02\n",
      "   190     1.00000e-01     8.53468e+02     8.09722e+01\n",
      "   191     1.00000e-01     5.52429e+02     7.90273e+01\n",
      "   192     1.00000e-01     5.71825e+02     7.51601e+01\n",
      "   193     1.00000e-01     8.07608e+02     1.23432e+02\n",
      "   194     1.00000e-01     1.26112e+03     1.34395e+02\n",
      "   195     1.00000e-01     7.61695e+02     8.91397e+01\n",
      "   196     1.00000e-01     5.97573e+02     7.27947e+01\n",
      "   197     1.00000e-01     5.27367e+02     8.73351e+01\n",
      "   198     1.00000e-01     8.72645e+02     1.30582e+02\n",
      "   199     1.00000e-01     1.06493e+03     1.15453e+02\n",
      "   200     1.00000e-01     9.48088e+02     8.28268e+01\n",
      "   201     1.00000e-01     5.68402e+02     7.75922e+01\n",
      "   202     1.00000e-01     5.32155e+02     7.28792e+01\n",
      "   203     1.00000e-01     7.21745e+02     1.17746e+02\n",
      "   204     1.00000e-01     1.29086e+03     1.43167e+02\n",
      "   205     1.00000e-01     8.12884e+02     9.25220e+01\n",
      "   206     1.00000e-01     6.28431e+02     7.37154e+01\n",
      "   207     1.00000e-01     5.16829e+02     8.44383e+01\n",
      "   208     1.00000e-01     7.79722e+02     1.20524e+02\n",
      "   209     1.00000e-01     1.06218e+03     1.22825e+02\n",
      "   210     1.00000e-01     1.01858e+03     9.08158e+01\n",
      "   211     1.00000e-01     5.89940e+02     7.83227e+01\n",
      "   212     1.00000e-01     5.28717e+02     7.22698e+01\n",
      "   213     1.00000e-01     6.71640e+02     1.10514e+02\n",
      "   214     1.00000e-01     1.26180e+03     1.45734e+02\n",
      "   215     1.00000e-01     8.54418e+02     9.57637e+01\n",
      "   216     1.00000e-01     6.68654e+02     7.53010e+01\n",
      "   217     1.00000e-01     5.21222e+02     8.30234e+01\n",
      "   218     1.00000e-01     7.20489e+02     1.10244e+02\n",
      "   219     1.00000e-01     1.01868e+03     1.25473e+02\n",
      "   220     1.00000e-01     1.07882e+03     1.00943e+02\n",
      "   221     1.00000e-01     6.23248e+02     8.06586e+01\n",
      "   222     1.00000e-01     5.43293e+02     7.24210e+01\n",
      "   223     1.00000e-01     6.30794e+02     1.00745e+02\n",
      "   224     1.00000e-01     1.18969e+03     1.44825e+02\n",
      "   225     1.00000e-01     9.00874e+02     9.93377e+01\n",
      "   226     1.00000e-01     7.24669e+02     7.73818e+01\n",
      "   227     1.00000e-01     5.33007e+02     8.20252e+01\n",
      "   228     1.00000e-01     6.68485e+02     9.83591e+01\n",
      "   229     1.00000e-01     9.48903e+02     1.25751e+02\n",
      "   230     1.00000e-01     1.14297e+03     1.13704e+02\n",
      "   231     1.00000e-01     6.76301e+02     8.42447e+01\n",
      "   232     1.00000e-01     5.66835e+02     7.27125e+01\n",
      "   233     1.00000e-01     5.83005e+02     9.38387e+01\n",
      "   234     1.00000e-01     1.06520e+03     1.40959e+02\n",
      "   235     1.00000e-01     9.72478e+02     1.03829e+02\n",
      "   236     1.00000e-01     8.20157e+02     8.01788e+01\n",
      "   237     1.00000e-01     5.48395e+02     7.98965e+01\n",
      "   238     1.00000e-01     5.94190e+02     8.06274e+01\n",
      "   239     1.00000e-01     8.41425e+02     1.24401e+02\n",
      "   240     1.00000e-01     1.23569e+03     1.30140e+02\n",
      "   241     1.00000e-01     7.44349e+02     8.81553e+01\n",
      "   242     1.00000e-01     5.90816e+02     7.27370e+01\n",
      "   243     1.00000e-01     5.35808e+02     8.86183e+01\n",
      "   244     1.00000e-01     9.09513e+02     1.33249e+02\n",
      "   245     1.00000e-01     1.05253e+03     1.11943e+02\n",
      "   246     1.00000e-01     9.25003e+02     8.24328e+01\n",
      "   247     1.00000e-01     5.63550e+02     7.77353e+01\n",
      "   248     1.00000e-01     5.38232e+02     7.32595e+01\n",
      "   249     1.00000e-01     7.40823e+02     1.19538e+02\n",
      "   250     1.00000e-01     1.29027e+03     1.41526e+02\n",
      "   251     1.00000e-01     7.99898e+02     9.15944e+01\n",
      "   252     1.00000e-01     6.18837e+02     7.33695e+01\n",
      "   253     1.00000e-01     5.17655e+02     8.50455e+01\n",
      "   254     1.00000e-01     8.01075e+02     1.23375e+02\n",
      "   255     1.00000e-01     1.06852e+03     1.21386e+02\n",
      "   256     1.00000e-01     1.00025e+03     8.81844e+01\n",
      "   257     1.00000e-01     5.82997e+02     7.79380e+01\n",
      "   258     1.00000e-01     5.27382e+02     7.23388e+01\n",
      "   259     1.00000e-01     6.83830e+02     1.12716e+02\n",
      "   260     1.00000e-01     1.27434e+03     1.45437e+02\n",
      "   261     1.00000e-01     8.43034e+02     9.48446e+01\n",
      "   262     1.00000e-01     6.56195e+02     7.48049e+01\n",
      "   263     1.00000e-01     5.19078e+02     8.33381e+01\n",
      "   264     1.00000e-01     7.35396e+02     1.13197e+02\n",
      "   265     1.00000e-01     1.03366e+03     1.25033e+02\n",
      "   266     1.00000e-01     1.06221e+03     9.79230e+01\n",
      "   267     1.00000e-01     6.12304e+02     7.98647e+01\n",
      "   268     1.00000e-01     5.37979e+02     7.23382e+01\n",
      "   269     1.00000e-01     6.42469e+02     1.03872e+02\n",
      "   270     1.00000e-01     1.21453e+03     1.45357e+02\n",
      "   271     1.00000e-01     8.86187e+02     9.82675e+01\n",
      "   272     1.00000e-01     7.06571e+02     7.67438e+01\n",
      "   273     1.00000e-01     5.29129e+02     8.23233e+01\n",
      "   274     1.00000e-01     6.83748e+02     1.02024e+02\n",
      "   275     1.00000e-01     9.71320e+02     1.25845e+02\n",
      "   276     1.00000e-01     1.12346e+03     1.09748e+02\n",
      "   277     1.00000e-01     6.59064e+02     8.31396e+01\n",
      "   278     1.00000e-01     5.59779e+02     7.26499e+01\n",
      "   279     1.00000e-01     5.97355e+02     9.50671e+01\n",
      "   280     1.00000e-01     1.10581e+03     1.42405e+02\n",
      "   281     1.00000e-01     9.49221e+02     1.02491e+02\n",
      "   282     1.00000e-01     7.87855e+02     7.93299e+01\n",
      "   283     1.00000e-01     5.44171e+02     8.07269e+01\n",
      "   284     1.00000e-01     6.18251e+02     8.63245e+01\n",
      "   285     1.00000e-01     8.75687e+02     1.25009e+02\n",
      "   286     1.00000e-01     1.20667e+03     1.25398e+02\n",
      "   287     1.00000e-01     7.25677e+02     8.71273e+01\n",
      "   288     1.00000e-01     5.84439e+02     7.27405e+01\n",
      "   289     1.00000e-01     5.47044e+02     9.00761e+01\n",
      "   290     1.00000e-01     9.51126e+02     1.35745e+02\n",
      "   291     1.00000e-01     1.03394e+03     1.07706e+02\n",
      "   292     1.00000e-01     8.99827e+02     8.19572e+01\n",
      "   293     1.00000e-01     5.59012e+02     7.80537e+01\n",
      "   294     1.00000e-01     5.47465e+02     7.37394e+01\n",
      "   295     1.00000e-01     7.63146e+02     1.21212e+02\n",
      "   296     1.00000e-01     1.28468e+03     1.39356e+02\n",
      "   297     1.00000e-01     7.86056e+02     9.06543e+01\n",
      "   298     1.00000e-01     6.09948e+02     7.30817e+01\n",
      "   299     1.00000e-01     5.19795e+02     8.57821e+01\n",
      "   300     1.00000e-01     8.25403e+02     1.26196e+02\n",
      "   301     1.00000e-01     1.07118e+03     1.19538e+02\n",
      "   302     1.00000e-01     9.81091e+02     8.56187e+01\n",
      "   303     1.00000e-01     5.76885e+02     7.76881e+01\n",
      "   304     1.00000e-01     5.27637e+02     7.24780e+01\n",
      "   305     1.00000e-01     6.97010e+02     1.14746e+02\n",
      "   306     1.00000e-01     1.28353e+03     1.44850e+02\n",
      "   307     1.00000e-01     8.31754e+02     9.39496e+01\n",
      "   308     1.00000e-01     6.44847e+02     7.43516e+01\n",
      "   309     1.00000e-01     5.17577e+02     8.36995e+01\n",
      "   310     1.00000e-01     7.51133e+02     1.16044e+02\n",
      "   311     1.00000e-01     1.04649e+03     1.24395e+02\n",
      "   312     1.00000e-01     1.04576e+03     9.50969e+01\n",
      "   313     1.00000e-01     6.02800e+02     7.91808e+01\n",
      "   314     1.00000e-01     5.33548e+02     7.22789e+01\n",
      "   315     1.00000e-01     6.53633e+02     1.06635e+02\n",
      "   316     1.00000e-01     1.23542e+03     1.45681e+02\n",
      "   317     1.00000e-01     8.73214e+02     9.72697e+01\n",
      "   318     1.00000e-01     6.90763e+02     7.61579e+01\n",
      "   319     1.00000e-01     5.25703e+02     8.25878e+01\n",
      "   320     1.00000e-01     6.97962e+02     1.05339e+02\n",
      "   321     1.00000e-01     9.91140e+02     1.25817e+02\n",
      "   322     1.00000e-01     1.10567e+03     1.06146e+02\n",
      "   323     1.00000e-01     6.43817e+02     8.21124e+01\n",
      "   324     1.00000e-01     5.53038e+02     7.25670e+01\n",
      "   325     1.00000e-01     6.10903e+02     9.61049e+01\n",
      "   326     1.00000e-01     1.14176e+03     1.43538e+02\n",
      "   327     1.00000e-01     9.28551e+02     1.01202e+02\n",
      "   328     1.00000e-01     7.59937e+02     7.85208e+01\n",
      "   329     1.00000e-01     5.39788e+02     8.13638e+01\n",
      "   330     1.00000e-01     6.40076e+02     9.15064e+01\n",
      "   331     1.00000e-01     9.06931e+02     1.25389e+02\n",
      "   332     1.00000e-01     1.17935e+03     1.20664e+02\n",
      "   333     1.00000e-01     7.06323e+02     8.60400e+01\n",
      "   334     1.00000e-01     5.77889e+02     7.27505e+01\n",
      "   335     1.00000e-01     5.60228e+02     9.15858e+01\n",
      "   336     1.00000e-01     9.95343e+02     1.37999e+02\n",
      "   337     1.00000e-01     1.01127e+03     1.05693e+02\n",
      "   338     1.00000e-01     8.71604e+02     8.13736e+01\n",
      "   339     1.00000e-01     5.54780e+02     7.85968e+01\n",
      "   340     1.00000e-01     5.61205e+02     7.43326e+01\n",
      "   341     1.00000e-01     7.89788e+02     1.22698e+02\n",
      "   342     1.00000e-01     1.27225e+03     1.36475e+02\n",
      "   343     1.00000e-01     7.71067e+02     8.97010e+01\n",
      "   344     1.00000e-01     6.01865e+02     7.28722e+01\n",
      "   345     1.00000e-01     5.23839e+02     8.66981e+01\n",
      "   346     1.00000e-01     8.53784e+02     1.28984e+02\n",
      "   347     1.00000e-01     1.06900e+03     1.17150e+02\n",
      "   348     1.00000e-01     9.60688e+02     8.30699e+01\n",
      "   349     1.00000e-01     5.71388e+02     7.75826e+01\n",
      "   350     1.00000e-01     5.29827e+02     7.27033e+01\n",
      "   351     1.00000e-01     7.11949e+02     1.16665e+02\n",
      "   352     1.00000e-01     1.28926e+03     1.43908e+02\n",
      "   353     1.00000e-01     8.20047e+02     9.30525e+01\n",
      "   354     1.00000e-01     6.34291e+02     7.39378e+01\n",
      "   355     1.00000e-01     5.16839e+02     8.41374e+01\n",
      "   356     1.00000e-01     7.68531e+02     1.18870e+02\n",
      "   357     1.00000e-01     1.05713e+03     1.23496e+02\n",
      "   358     1.00000e-01     1.02883e+03     9.23738e+01\n",
      "   359     1.00000e-01     5.94395e+02     7.86047e+01\n",
      "   360     1.00000e-01     5.30141e+02     7.22581e+01\n",
      "   361     1.00000e-01     6.64875e+02     1.09146e+02\n",
      "   362     1.00000e-01     1.25301e+03     1.45785e+02\n",
      "   363     1.00000e-01     8.61184e+02     9.63105e+01\n",
      "   364     1.00000e-01     6.76441e+02     7.56070e+01\n",
      "   365     1.00000e-01     5.22728e+02     8.28562e+01\n",
      "   366     1.00000e-01     7.12086e+02     1.08474e+02\n",
      "   367     1.00000e-01     1.00906e+03     1.25647e+02\n",
      "   368     1.00000e-01     1.08861e+03     1.02796e+02\n",
      "   369     1.00000e-01     6.30341e+02     8.11674e+01\n",
      "   370     1.00000e-01     5.46718e+02     7.24745e+01\n",
      "   371     1.00000e-01     6.23684e+02     9.87406e+01\n",
      "   372     1.00000e-01     1.17330e+03     1.44418e+02\n",
      "   373     1.00000e-01     9.10386e+02     9.99984e+01\n",
      "   374     1.00000e-01     7.36557e+02     7.77811e+01\n",
      "   375     1.00000e-01     5.35436e+02     8.18183e+01\n",
      "   376     1.00000e-01     6.58782e+02     9.60107e+01\n",
      "   377     1.00000e-01     9.34463e+02     1.25647e+02\n",
      "   378     1.00000e-01     1.15544e+03     1.16171e+02\n",
      "   379     1.00000e-01     6.87082e+02     8.49071e+01\n",
      "   380     1.00000e-01     5.70968e+02     7.27358e+01\n",
      "   381     1.00000e-01     5.74510e+02     9.30449e+01\n",
      "   382     1.00000e-01     1.03996e+03     1.39964e+02\n",
      "   383     1.00000e-01     9.86758e+02     1.04575e+02\n",
      "   384     1.00000e-01     8.39689e+02     8.06532e+01\n",
      "   385     1.00000e-01     5.50750e+02     7.93806e+01\n",
      "   386     1.00000e-01     5.80689e+02     7.73641e+01\n",
      "   387     1.00000e-01     8.21434e+02     1.23886e+02\n",
      "   388     1.00000e-01     1.25128e+03     1.32704e+02\n",
      "   389     1.00000e-01     7.54607e+02     8.87306e+01\n",
      "   390     1.00000e-01     5.94657e+02     7.27599e+01\n",
      "   391     1.00000e-01     5.30536e+02     8.78458e+01\n",
      "   392     1.00000e-01     8.87436e+02     1.31716e+02\n",
      "   393     1.00000e-01     1.06056e+03     1.14072e+02\n",
      "   394     1.00000e-01     9.38630e+02     8.26706e+01\n",
      "   395     1.00000e-01     5.66327e+02     7.76325e+01\n",
      "   396     1.00000e-01     5.34370e+02     7.30269e+01\n",
      "   397     1.00000e-01     7.29391e+02     1.18509e+02\n",
      "   398     1.00000e-01     1.29115e+03     1.42537e+02\n",
      "   399     1.00000e-01     8.07538e+02     9.21350e+01\n",
      "   400     1.00000e-01     6.24329e+02     7.35643e+01\n",
      "   401     1.00000e-01     5.17038e+02     8.46788e+01\n",
      "   402     1.00000e-01     7.88347e+02     1.21721e+02\n",
      "   403     1.00000e-01     1.06523e+03     1.22267e+02\n",
      "   404     1.00000e-01     1.01099e+03     8.97037e+01\n",
      "   405     1.00000e-01     5.86918e+02     7.81454e+01\n",
      "   406     1.00000e-01     5.27978e+02     7.22909e+01\n",
      "   407     1.00000e-01     6.76661e+02     1.11461e+02\n",
      "   408     1.00000e-01     1.26746e+03     1.45642e+02\n",
      "   409     1.00000e-01     8.49609e+02     9.53746e+01\n",
      "   410     1.00000e-01     6.63283e+02     7.50878e+01\n",
      "   411     1.00000e-01     5.20250e+02     8.31508e+01\n",
      "   412     1.00000e-01     7.26668e+02     1.11498e+02\n",
      "   413     1.00000e-01     1.02522e+03     1.25311e+02\n",
      "   414     1.00000e-01     1.07182e+03     9.96497e+01\n",
      "   415     1.00000e-01     6.18466e+02     8.03124e+01\n",
      "   416     1.00000e-01     5.40967e+02     7.23843e+01\n",
      "   417     1.00000e-01     6.35775e+02     1.02106e+02\n",
      "   418     1.00000e-01     1.20062e+03     1.45074e+02\n",
      "   419     1.00000e-01     8.94466e+02     9.88787e+01\n",
      "   420     1.00000e-01     7.16747e+02     7.71070e+01\n",
      "   421     1.00000e-01     5.31328e+02     8.21570e+01\n",
      "   422     1.00000e-01     6.75073e+02     9.99489e+01\n",
      "   423     1.00000e-01     9.58663e+02     1.25804e+02\n",
      "   424     1.00000e-01     1.13452e+03     1.11998e+02\n",
      "   425     1.00000e-01     6.68840e+02     8.37735e+01\n",
      "   426     1.00000e-01     5.63852e+02     7.26894e+01\n",
      "   427     1.00000e-01     5.89097e+02     9.43770e+01\n",
      "   428     1.00000e-01     1.08275e+03     1.41606e+02\n",
      "   429     1.00000e-01     9.62453e+02     1.03269e+02\n",
      "   430     1.00000e-01     8.06222e+02     7.98231e+01\n",
      "   431     1.00000e-01     5.46652e+02     8.02626e+01\n",
      "   432     1.00000e-01     6.04355e+02     8.30426e+01\n",
      "   433     1.00000e-01     8.55996e+02     1.24693e+02\n",
      "   434     1.00000e-01     1.22359e+03     1.28179e+02\n",
      "   435     1.00000e-01     7.36655e+02     8.77311e+01\n",
      "   436     1.00000e-01     5.88133e+02     7.27343e+01\n",
      "   437     1.00000e-01     5.40218e+02     8.92148e+01\n",
      "   438     1.00000e-01     9.26485e+02     1.34321e+02\n",
      "   439     1.00000e-01     1.04538e+03     1.10252e+02\n",
      "   440     1.00000e-01     9.14745e+02     8.22444e+01\n",
      "   441     1.00000e-01     5.61610e+02     7.78453e+01\n",
      "   442     1.00000e-01     5.41659e+02     7.34479e+01\n",
      "   443     1.00000e-01     7.49738e+02     1.20257e+02\n",
      "   444     1.00000e-01     1.28861e+03     1.40688e+02\n",
      "   445     1.00000e-01     7.94209e+02     9.12017e+01\n",
      "   446     1.00000e-01     6.15019e+02     7.32408e+01\n",
      "   447     1.00000e-01     5.18367e+02     8.53365e+01\n",
      "   448     1.00000e-01     8.10867e+02     1.24562e+02\n",
      "   449     1.00000e-01     1.07014e+03     1.20666e+02\n",
      "   450     1.00000e-01     9.92335e+02     8.71027e+01\n",
      "   451     1.00000e-01     5.80345e+02     7.78165e+01\n",
      "   452     1.00000e-01     5.27280e+02     7.23879e+01\n",
      "   453     1.00000e-01     6.89200e+02     1.13585e+02\n",
      "   454     1.00000e-01     1.27860e+03     1.45228e+02\n",
      "   455     1.00000e-01     8.38319e+02     9.44676e+01\n",
      "   456     1.00000e-01     6.51318e+02     7.46098e+01\n",
      "   457     1.00000e-01     5.18365e+02     8.34825e+01\n",
      "   458     1.00000e-01     7.41855e+02     1.14400e+02\n",
      "   459     1.00000e-01     1.03930e+03     1.24793e+02\n",
      "   460     1.00000e-01     1.05533e+03     9.67191e+01\n",
      "   461     1.00000e-01     6.08164e+02     7.95647e+01\n",
      "   462     1.00000e-01     5.36007e+02     7.23097e+01\n",
      "   463     1.00000e-01     6.47182e+02     1.05068e+02\n",
      "   464     1.00000e-01     1.22373e+03     1.45518e+02\n",
      "   465     1.00000e-01     8.80582e+02     9.78422e+01\n",
      "   466     1.00000e-01     6.99716e+02     7.64928e+01\n",
      "   467     1.00000e-01     5.27638e+02     8.24359e+01\n",
      "   468     1.00000e-01     6.89778e+02     1.03446e+02\n",
      "   469     1.00000e-01     9.79901e+02     1.25849e+02\n",
      "   470     1.00000e-01     1.11586e+03     1.08199e+02\n",
      "   471     1.00000e-01     6.52434e+02     8.26987e+01\n",
      "   472     1.00000e-01     5.56906e+02     7.26170e+01\n",
      "   473     1.00000e-01     6.03140e+02     9.55245e+01\n",
      "   474     1.00000e-01     1.12146e+03     1.42914e+02\n",
      "   475     1.00000e-01     9.40226e+02     1.01940e+02\n",
      "   476     1.00000e-01     7.75548e+02     7.89826e+01\n",
      "   477     1.00000e-01     5.42343e+02     8.10197e+01\n",
      "   478     1.00000e-01     6.27792e+02     8.85815e+01\n",
      "   479     1.00000e-01     8.89248e+02     1.25188e+02\n",
      "   480     1.00000e-01     1.19483e+03     1.23392e+02\n",
      "   481     1.00000e-01     7.17598e+02     8.66785e+01\n",
      "   482     1.00000e-01     5.81735e+02     7.27464e+01\n",
      "   483     1.00000e-01     5.52390e+02     9.07098e+01\n",
      "   484     1.00000e-01     9.69487e+02     1.36723e+02\n",
      "   485     1.00000e-01     1.02479e+03     1.06218e+02\n",
      "   486     1.00000e-01     8.88433e+02     8.17277e+01\n",
      "   487     1.00000e-01     5.57201e+02     7.82508e+01\n",
      "   488     1.00000e-01     5.52578e+02     7.39739e+01\n",
      "   489     1.00000e-01     7.73718e+02     1.21863e+02\n",
      "   490     1.00000e-01     1.28043e+03     1.38248e+02\n",
      "   491     1.00000e-01     7.79934e+02     9.02564e+01\n",
      "   492     1.00000e-01     6.06455e+02     7.29830e+01\n",
      "   493     1.00000e-01     5.21214e+02     8.61406e+01\n",
      "   494     1.00000e-01     8.36727e+02     1.27369e+02\n",
      "   495     1.00000e-01     1.07095e+03     1.18612e+02\n",
      "   496     1.00000e-01     9.72719e+02     8.45515e+01\n",
      "   497     1.00000e-01     5.74517e+02     7.76255e+01\n",
      "   498     1.00000e-01     5.28294e+02     7.25609e+01\n",
      "   499     1.00000e-01     7.03007e+02     1.15561e+02\n",
      "   500     1.00000e-01     1.28637e+03     1.44503e+02\n",
      "At maximum number of function evaluations\n",
      "total elapsed time:        0.078079 s\n",
      "     2     1.00000e-02     1.99429e+02     1.39052e+01\n",
      "     3     1.00000e-02     1.96460e+02     8.98625e+00\n",
      "     4     1.00000e-02     1.95211e+02     6.23666e+00\n",
      "     5     1.00000e-02     1.94614e+02     4.44990e+00\n",
      "     6     1.00000e-02     1.94308e+02     3.24151e+00\n",
      "     7     1.00000e-02     1.94145e+02     2.39600e+00\n",
      "     8     1.00000e-02     1.94055e+02     1.78947e+00\n",
      "     9     1.00000e-02     1.94005e+02     1.34648e+00\n",
      "    10     1.00000e-02     1.93977e+02     1.01867e+00\n",
      "    11     1.00000e-02     1.93960e+02     7.73781e-01\n",
      "    12     1.00000e-02     1.93951e+02     5.89524e-01\n",
      "    13     1.00000e-02     1.93946e+02     4.50156e-01\n",
      "    14     1.00000e-02     1.93942e+02     3.44320e-01\n",
      "    15     1.00000e-02     1.93940e+02     2.63707e-01\n",
      "    16     1.00000e-02     1.93939e+02     2.02165e-01\n",
      "    17     1.00000e-02     1.93939e+02     1.55102e-01\n",
      "    18     1.00000e-02     1.93938e+02     1.19063e-01\n",
      "    19     1.00000e-02     1.93938e+02     9.14374e-02\n",
      "    20     1.00000e-02     1.93938e+02     7.02454e-02\n",
      "    21     1.00000e-02     1.93938e+02     5.39789e-02\n",
      "    22     1.00000e-02     1.93938e+02     4.14873e-02\n",
      "    23     1.00000e-02     1.93938e+02     3.18913e-02\n",
      "    24     1.00000e-02     1.93938e+02     2.45178e-02\n",
      "    25     1.00000e-02     1.93938e+02     1.88507e-02\n",
      "    26     1.00000e-02     1.93938e+02     1.44945e-02\n",
      "    27     1.00000e-02     1.93938e+02     1.11456e-02\n",
      "    28     1.00000e-02     1.93938e+02     8.57079e-03\n",
      "Problem solved up to optimality tolerance\n",
      "total elapsed time:        0.005012 s\n"
     ]
    }
   ],
   "source": [
    "LR_vanilla1.fit(X,y)\n",
    "LR_vanilla2.fit(X,y)"
   ]
  },
  {
   "cell_type": "markdown",
   "metadata": {},
   "source": [
    "`LR_vanilla1` stops after the maximum number iterations; it's clear from the right-most column that it does not converge. In contrast, `LR_vanilla2` converges after only 28 function evaluations.  \n",
    "Now let's check how long it takes to evaluate each of these. "
   ]
  },
  {
   "cell_type": "code",
   "execution_count": 12,
   "metadata": {
    "collapsed": true
   },
   "outputs": [],
   "source": [
    "LR_vanilla1 = LogisticRegressor(gdParms={'alpha':1e-1,'verbose':False})\n",
    "LR_vanilla2 = LogisticRegressor(gdParms={'alpha':1e-2,'verbose':False})"
   ]
  },
  {
   "cell_type": "code",
   "execution_count": 13,
   "metadata": {
    "collapsed": false
   },
   "outputs": [
    {
     "name": "stdout",
     "output_type": "stream",
     "text": [
      "10 loops, best of 3: 40.2 ms per loop\n",
      "100 loops, best of 3: 2.27 ms per loop\n"
     ]
    }
   ],
   "source": [
    "%timeit LR_vanilla1.fit(X,y)\n",
    "%timeit LR_vanilla2.fit(X,y)"
   ]
  },
  {
   "cell_type": "markdown",
   "metadata": {},
   "source": [
    "Now compare against the \"black box\" from Mark Schmidt. "
   ]
  },
  {
   "cell_type": "code",
   "execution_count": 14,
   "metadata": {
    "collapsed": false,
    "scrolled": true
   },
   "outputs": [
    {
     "name": "stdout",
     "output_type": "stream",
     "text": [
      "Backtracking...\n",
      "Backtracking...\n",
      "Backtracking...\n",
      "Backtracking...\n",
      "     6     1.00000e+00     2.22626e+02     2.29859e+01\n",
      "Backtracking...\n",
      "     8     1.00000e+00     2.03750e+02     1.46838e+01\n",
      "Backtracking...\n",
      "    10     1.00000e+00     1.97258e+02     9.55057e+00\n",
      "Backtracking...\n",
      "    12     1.00000e+00     1.95340e+02     5.26350e+00\n",
      "Backtracking...\n",
      "    14     1.00000e+00     1.94609e+02     3.89836e+00\n",
      "Backtracking...\n",
      "    16     1.00000e+00     1.94268e+02     2.79045e+00\n",
      "Backtracking...\n",
      "    18     1.00000e+00     1.94086e+02     1.89733e+00\n",
      "Backtracking...\n",
      "    20     1.00000e+00     1.93984e+02     1.06862e+00\n",
      "Backtracking...\n",
      "    22     1.00000e+00     1.93943e+02     3.66857e-01\n",
      "Backtracking...\n",
      "    24     1.00000e+00     1.93938e+02     4.38449e-02\n",
      "Backtracking...\n",
      "    26     1.00000e+00     1.93938e+02     7.14722e-04\n",
      "Problem solved up to optimality tolerance\n",
      "total elapsed time:        0.004681 s\n"
     ]
    }
   ],
   "source": [
    "LR_findMin = LogisticRegressor(gd=findMin)\n",
    "LR_findMin.fit(X,y)"
   ]
  },
  {
   "cell_type": "code",
   "execution_count": 15,
   "metadata": {
    "collapsed": false,
    "scrolled": true
   },
   "outputs": [
    {
     "name": "stdout",
     "output_type": "stream",
     "text": [
      "100 loops, best of 3: 2.11 ms per loop\n"
     ]
    }
   ],
   "source": [
    "LR_findMin = LogisticRegressor(gd=findMin,gdParms={'verbose':False})\n",
    "%timeit LR_findMin.fit(X,y)"
   ]
  },
  {
   "cell_type": "markdown",
   "metadata": {},
   "source": [
    "## Visualizing Progress"
   ]
  },
  {
   "cell_type": "code",
   "execution_count": 16,
   "metadata": {
    "code_folding": [
     0
    ],
    "collapsed": true
   },
   "outputs": [],
   "source": [
    "def binaryClassifier2DPlot(model):\n",
    "    increment = 500\n",
    "    X = model.X\n",
    "    if model.intercept:\n",
    "        X = X[:, 1:]\n",
    "    yu = np.unique(y).tolist()\n",
    "    plt.scatter(X[y.ravel() == yu[0], 0], X[y.ravel() == yu[0], 1], s=20, lw=1, alpha=.5, c='g', marker='+');\n",
    "    plt.hold(True)\n",
    "    plt.scatter(X[y.ravel() == yu[1], 0], X[y.ravel() == yu[1], 1], s=10, lw=0, alpha=.5, c='b', marker='o');\n",
    "    xLim = plt.xlim()\n",
    "    yLim = plt.ylim()\n",
    "    domain1 = np.linspace(*xLim, increment+1)\n",
    "    domain2 = np.linspace(*yLim, increment+1)\n",
    "    d1, d2 = np.meshgrid(domain1, domain2)\n",
    "    d12 = np.array([d1.ravel(), d2.ravel()]).T\n",
    "    vals = model.predict(d12)\n",
    "    zData = vals.reshape(d1.shape)\n",
    "    if all(zData.ravel() == yu[0]):\n",
    "        cm = [0, .4, 0]\n",
    "    elif all(zData.ravel() == yu[1]):\n",
    "        cm = [0, 0, .5]\n",
    "    else:\n",
    "        cm = np.array([[0, .4, 0], [0, 0, .5]])\n",
    "    plt.contourf(d1,d2,zData+np.random.rand(*zData.shape)/1000,colors=cm)\n",
    "    plt.scatter(X[y.ravel() == yu[1], 0], X[y.ravel() == yu[1], 1], s=10, lw=0, c=[0,.5,1], marker='o');\n",
    "    plt.scatter(X[y.ravel() == yu[0], 0], X[y.ravel() == yu[0], 1], s=20, lw=1, c=[0,1,0], marker='+');\n",
    "    return"
   ]
  },
  {
   "cell_type": "code",
   "execution_count": 18,
   "metadata": {
    "collapsed": false
   },
   "outputs": [
    {
     "data": {
      "image/png": "[encoded data removed]",
      "text/plain": [
       "<matplotlib.figure.Figure at 0x1135c0438>"
      ]
     },
     "metadata": {},
     "output_type": "display_data"
    }
   ],
   "source": [
    "plt.figure(figsize=(10,10))\n",
    "plt.subplot(221)\n",
    "binaryClassifier2DPlot(LR_vanilla1)\n",
    "plt.title('Vanilla, alpha=1e-1')\n",
    "plt.axis('tight');\n",
    "plt.subplot(222)\n",
    "binaryClassifier2DPlot(LR_vanilla2)\n",
    "plt.title('Vanilla, alpha=1e-2')\n",
    "plt.axis('tight');\n",
    "plt.subplot(223)\n",
    "binaryClassifier2DPlot(LR_findMin)\n",
    "plt.title('findMin')\n",
    "plt.axis('tight');"
   ]
  },
  {
   "cell_type": "markdown",
   "metadata": {},
   "source": [
    "The first performs **terribly**! But we could already predict this by looking at `optCond` in the right-hand column of the `verbose` output: the largest magnitude of the derivative not only stops shrinking beyond ~70 but actually bounces around between about 70 and 200.\n",
    "\n",
    "The second performs much better. and looks like it's properly separated the points. Furthermore, fitting only required $28$ function evaluations compared to `findMin`'s $26$. "
   ]
  },
  {
   "cell_type": "markdown",
   "metadata": {},
   "source": [
    "# Setting alpha\n",
    "\n",
    "## From above/last time\n",
    "\n",
    "Last time, we used the approach with $\\alpha = \\alpha_0 = \\alpha_1 = \\ldots$ and we saw that the results obtained were highly dependent on the [sequence of] learning rates.\n",
    "\n",
    "## Lipschitz constant\n",
    "\n",
    "If we can determine the Lipschitz constant of our objective function, then we get a very nice progress bound under certain assumptions on the objective function.\n",
    "\n",
    "Namely, assume that $f$ is strongly smooth. In particular, there exists $L$ such that for any $v, z$, \n",
    "$$\n",
    "v^T \\nabla^2 f(z) v \\leq L\\|v\\|_2^2\n",
    "$$\n",
    "For some $z$, it then follows by Taylor's theorem that \n",
    "$$\n",
    "f(y) = f(x^t) + \\nabla f(x^t) (y-x^t) + \\frac{1}{2}(y-x^t)^T \\nabla^2 f(z) (y-x^t) %\n",
    "\\leq f(x^t) + \\nabla f(x^t) (y-x^t) + \\frac{L}{2}\\|y-x^t\\|_2^2\n",
    "$$\n",
    "Setting $y = x^{t+1}$ to be the minimizer of this equation yields\n",
    "$$\n",
    "x^{t+1} = x^t - \\frac{1}{L} \\|\\nabla f(x^t)\\|_2^2\n",
    "$$\n",
    "In particular, gradient descent with $\\alpha_t := 1/L$ minimizes the upper bound (*i.e.*, maximizes the *worst-case* progress). Substituting this into the expression above, \n",
    "$$\n",
    "f(x^{t+1}) \\leq f(x^t) - \\frac{1}{2L} \\|\\nabla f(x^t)\\|_2^2\n",
    "$$\n",
    "*Caveat* *via* a direct quote from Mark Schmidt: \"In practice, you should never use $\\alpha = 1/L$.\""
   ]
  },
  {
   "cell_type": "code",
   "execution_count": 19,
   "metadata": {
    "collapsed": true
   },
   "outputs": [],
   "source": [
    "def logisticLipschitz(X, lam=0):\n",
    "    return .25 * np.max(np.linalg.eigvals(X.T @ X)) + lam"
   ]
  },
  {
   "cell_type": "code",
   "execution_count": 27,
   "metadata": {
    "collapsed": false
   },
   "outputs": [
    {
     "name": "stdout",
     "output_type": "stream",
     "text": [
      "Lipschitz constant is 140.75, implying alpha is 7.105e-03\n"
     ]
    }
   ],
   "source": [
    "objectiveParms_Lip = {'lam': 1}\n",
    "L_logist = logisticLipschitz(X, **objectiveParms_Lip)\n",
    "\n",
    "print('Lipschitz constant is {:5.5g}, implying alpha is {:5.3e}'.format(L_logist, 1/L_logist))\n",
    "\n",
    "LR_Lip = LogisticRegressor(objectiveParms=objectiveParms_Lip, \n",
    "                           gdParms={'alpha':1/L_logist})"
   ]
  },
  {
   "cell_type": "code",
   "execution_count": 28,
   "metadata": {
    "collapsed": false,
    "scrolled": true
   },
   "outputs": [
    {
     "name": "stdout",
     "output_type": "stream",
     "text": [
      "     2     7.10479e-03     2.15430e+02     3.39477e+01\n",
      "     3     7.10479e-03     2.04078e+02     2.08685e+01\n",
      "     4     7.10479e-03     1.99512e+02     1.44941e+01\n",
      "     5     7.10479e-03     1.97237e+02     1.06730e+01\n",
      "     6     7.10479e-03     1.95978e+02     8.13492e+00\n",
      "     7     7.10479e-03     1.95237e+02     6.34206e+00\n",
      "     8     7.10479e-03     1.94782e+02     5.02288e+00\n",
      "     9     7.10479e-03     1.94495e+02     4.02404e+00\n",
      "    10     7.10479e-03     1.94310e+02     3.25172e+00\n",
      "    11     7.10479e-03     1.94188e+02     2.64506e+00\n",
      "    12     7.10479e-03     1.94108e+02     2.16273e+00\n",
      "    13     7.10479e-03     1.94054e+02     1.77558e+00\n",
      "    14     7.10479e-03     1.94017e+02     1.46250e+00\n",
      "    15     7.10479e-03     1.93992e+02     1.20780e+00\n",
      "    16     7.10479e-03     1.93975e+02     9.99579e-01\n",
      "    17     7.10479e-03     1.93964e+02     8.28696e-01\n",
      "    18     7.10479e-03     1.93956e+02     6.88005e-01\n",
      "    19     7.10479e-03     1.93950e+02     5.71868e-01\n",
      "    20     7.10479e-03     1.93946e+02     4.75794e-01\n",
      "    21     7.10479e-03     1.93944e+02     3.96176e-01\n",
      "    22     7.10479e-03     1.93942e+02     3.30098e-01\n",
      "    23     7.10479e-03     1.93941e+02     2.75192e-01\n",
      "    24     7.10479e-03     1.93940e+02     2.29523e-01\n",
      "    25     7.10479e-03     1.93939e+02     1.91505e-01\n",
      "    26     7.10479e-03     1.93939e+02     1.59834e-01\n",
      "    27     7.10479e-03     1.93939e+02     1.33436e-01\n",
      "    28     7.10479e-03     1.93938e+02     1.11422e-01\n",
      "    29     7.10479e-03     1.93938e+02     9.30570e-02\n",
      "    30     7.10479e-03     1.93938e+02     7.77306e-02\n",
      "    31     7.10479e-03     1.93938e+02     6.49366e-02\n",
      "    32     7.10479e-03     1.93938e+02     5.42542e-02\n",
      "    33     7.10479e-03     1.93938e+02     4.53331e-02\n",
      "    34     7.10479e-03     1.93938e+02     3.78817e-02\n",
      "    35     7.10479e-03     1.93938e+02     3.16570e-02\n",
      "    36     7.10479e-03     1.93938e+02     2.64565e-02\n",
      "    37     7.10479e-03     1.93938e+02     2.21113e-02\n",
      "    38     7.10479e-03     1.93938e+02     1.84804e-02\n",
      "    39     7.10479e-03     1.93938e+02     1.54461e-02\n",
      "    40     7.10479e-03     1.93938e+02     1.29104e-02\n",
      "    41     7.10479e-03     1.93938e+02     1.07912e-02\n",
      "    42     7.10479e-03     1.93938e+02     9.02003e-03\n",
      "Problem solved up to optimality tolerance\n",
      "total elapsed time:        0.007508 s\n"
     ]
    }
   ],
   "source": [
    "LR_Lip.fit(X,y)"
   ]
  },
  {
   "cell_type": "markdown",
   "metadata": {},
   "source": [
    "Stops after only 42 function evaluations; largest partial derivative has magnitude .0090. This is *much* better than the step size of $1\\mathrm{e}-1$ but *worse* than taking a step size of $1\\mathrm{e}-2$. Why is that we can get away with a *larger* value of $\\alpha$? "
   ]
  },
  {
   "cell_type": "code",
   "execution_count": 29,
   "metadata": {
    "collapsed": false
   },
   "outputs": [
    {
     "data": {
      "image/png": "[encoded data removed]",
      "text/plain": [
       "<matplotlib.figure.Figure at 0x10cbaa2b0>"
      ]
     },
     "metadata": {},
     "output_type": "display_data"
    }
   ],
   "source": [
    "binaryClassifier2DPlot(LR_Lip)"
   ]
  },
  {
   "cell_type": "markdown",
   "metadata": {},
   "source": [
    "And the plot verifies our success. The green/blue region is now visibly well-aligned with the green/blue point cluster."
   ]
  },
  {
   "cell_type": "markdown",
   "metadata": {},
   "source": [
    "## Adaptive step-size"
   ]
  },
  {
   "cell_type": "markdown",
   "metadata": {},
   "source": [
    "This approach often gives bigger steps and faster progress, but step size never increases.\n",
    "\n",
    "1. Start with a small guess for $L$  \n",
    "$ L \\leftarrow 1$\n",
    "2. Double $L$ if the *progress inequality* from above  \n",
    "$f(x^{t+1}) \\leq f(x^t) - \\frac{1}{2L}\\|\\nabla f(x^t)\\|_2^2$\n",
    "is not satisfied."
   ]
  },
  {
   "cell_type": "markdown",
   "metadata": {},
   "source": [
    "Notice that this \"backtracking\" approach makes sense when it is cheap to evaluate our function and expensive to compute the matrix product $Xw$. "
   ]
  },
  {
   "cell_type": "code",
   "execution_count": 30,
   "metadata": {
    "collapsed": false
   },
   "outputs": [],
   "source": [
    "def adaptiveGradientDescent(funObj, w, X, y,\n",
    "                            objectiveParms={}, \n",
    "                            gdParms={}):\n",
    "    # optimality tolerance\n",
    "    optTol = gdParms.get('optTol')\n",
    "    if optTol is None:\n",
    "        optTol = 1e-2\n",
    "    maxEvals = gdParms.get('maxEvals')\n",
    "    if maxEvals is None:\n",
    "        maxEvals = 500\n",
    "    verbose = gdParms.get('verbose')\n",
    "    if verbose is None:\n",
    "        verbose = True\n",
    "    # armijo?\n",
    "    gamma = gdParms.get('gamma')\n",
    "    if gamma is None:\n",
    "        gamma = .5\n",
    "    elif (gamma > .5) or (gamma <= 0):\n",
    "        gamma = 1e-4\n",
    "    # initial objective and gradient value\n",
    "    f,g = funObj(w, X, y, **objectiveParms)\n",
    "    # this took a single function evaluation\n",
    "    funEvals = 1\n",
    "    \n",
    "    # initialize the step size\n",
    "    L0 = gdParms.get('L0')\n",
    "    if L0 is None:\n",
    "        L0 = 1\n",
    "    alpha = 1/L0\n",
    "    \n",
    "    # Gradient Descent loop\n",
    "    while True:\n",
    "        w_new = w - alpha*g\n",
    "        f_new, g_new = funObj(w_new, X, y, **objectiveParms)\n",
    "        funEvals += 1\n",
    "        gg = g.T @ g\n",
    "        while f_new > f - gamma*alpha*gg:\n",
    "            if verbose:\n",
    "                print('Backtracking...')\n",
    "            alpha /= 2\n",
    "            w_new = w - alpha*g\n",
    "            f_new, g_new = funObj(w_new, X, y, **objectiveParms)\n",
    "            funEvals += 1\n",
    "        # Update parameters/function/gradient\n",
    "        w = w_new\n",
    "        f = f_new\n",
    "        g = g_new\n",
    "        # Test terminate conditions\n",
    "        optCond = np.linalg.norm(g, np.inf)\n",
    "        if verbose:\n",
    "            print('%6d %15.5e %15.5e %15.5e' % (funEvals, alpha, f, optCond))\n",
    "        # Reset alpha for next\n",
    "        alpha = 1/L0\n",
    "        if optCond < optTol:\n",
    "            if verbose:\n",
    "                print('Problem solved up to optimality tolerance')\n",
    "            break\n",
    "        if funEvals >= maxEvals:\n",
    "            if verbose:\n",
    "                print('At maximum number of function evaluations')\n",
    "            break\n",
    "    return (w, f)"
   ]
  },
  {
   "cell_type": "code",
   "execution_count": 31,
   "metadata": {
    "collapsed": true
   },
   "outputs": [],
   "source": [
    "LR_adap = LogisticRegressor(objectiveParms={'lam':1},\n",
    "                            gdParms={'L0':1},\n",
    "                            gd=adaptiveGradientDescent)"
   ]
  },
  {
   "cell_type": "code",
   "execution_count": 32,
   "metadata": {
    "collapsed": false,
    "scrolled": true
   },
   "outputs": [
    {
     "name": "stdout",
     "output_type": "stream",
     "text": [
      "Backtracking...\n",
      "Backtracking...\n",
      "Backtracking...\n",
      "Backtracking...\n",
      "Backtracking...\n",
      "Backtracking...\n",
      "Backtracking...\n",
      "     9     7.81250e-03     2.10238e+02     2.79458e+01\n",
      "Backtracking...\n",
      "Backtracking...\n",
      "Backtracking...\n",
      "Backtracking...\n",
      "Backtracking...\n",
      "Backtracking...\n",
      "    16     1.56250e-02     1.96459e+02     9.19908e+00\n",
      "Backtracking...\n",
      "Backtracking...\n",
      "Backtracking...\n",
      "Backtracking...\n",
      "Backtracking...\n",
      "    22     3.12500e-02     1.93979e+02     1.04218e+00\n",
      "Backtracking...\n",
      "Backtracking...\n",
      "Backtracking...\n",
      "Backtracking...\n",
      "Backtracking...\n",
      "    28     3.12500e-02     1.93941e+02     3.90035e-01\n",
      "Backtracking...\n",
      "Backtracking...\n",
      "Backtracking...\n",
      "Backtracking...\n",
      "Backtracking...\n",
      "Backtracking...\n",
      "    35     1.56250e-02     1.93939e+02     1.64189e-01\n",
      "Backtracking...\n",
      "Backtracking...\n",
      "Backtracking...\n",
      "Backtracking...\n",
      "Backtracking...\n",
      "    41     3.12500e-02     1.93938e+02     6.00926e-02\n",
      "Backtracking...\n",
      "Backtracking...\n",
      "Backtracking...\n",
      "Backtracking...\n",
      "Backtracking...\n",
      "    47     3.12500e-02     1.93938e+02     2.90791e-02\n",
      "Backtracking...\n",
      "Backtracking...\n",
      "Backtracking...\n",
      "Backtracking...\n",
      "Backtracking...\n",
      "Backtracking...\n",
      "    54     1.56250e-02     1.93938e+02     9.66441e-03\n",
      "Problem solved up to optimality tolerance\n",
      "total elapsed time:        0.006755 s\n"
     ]
    }
   ],
   "source": [
    "LR_adap.fit(X, y)"
   ]
  },
  {
   "cell_type": "code",
   "execution_count": 33,
   "metadata": {
    "collapsed": false
   },
   "outputs": [
    {
     "data": {
      "image/png": "[encoded data removed]",
      "text/plain": [
       "<matplotlib.figure.Figure at 0x10cbaaa90>"
      ]
     },
     "metadata": {},
     "output_type": "display_data"
    }
   ],
   "source": [
    "binaryClassifier2DPlot(LR_adap)"
   ]
  },
  {
   "cell_type": "markdown",
   "metadata": {},
   "source": [
    "## Backtracking line-search\n",
    "\n",
    "Checks against the Armijo condition\n",
    "$$\n",
    "f(x^{t+1}) \\leq f(x^t) - \\alpha\\gamma \\|\\nabla f(x^t)\\|_2^2, \\quad \\gamma \\in (0, 1/2]\n",
    "$$\n",
    "See Wikipedia for a more detailed discussion on the more technical [Wolfe conditions](https://en.wikipedia.org/wiki/Wolfe_conditions) (of which the Armijo rule is a special case)."
   ]
  },
  {
   "cell_type": "markdown",
   "metadata": {},
   "source": [
    "Since this version was implemented above in `adaptiveGradientDescent` the only step required for this section is to choose `gamma` and fit the model."
   ]
  },
  {
   "cell_type": "code",
   "execution_count": null,
   "metadata": {
    "collapsed": true
   },
   "outputs": [],
   "source": [
    "LR_armijo = LogisticRegressor(objectiveParms={'lam':1},\n",
    "                              gdParms={'L0':1,'gamma':1e-4},\n",
    "                              gd=adaptiveGradientDescent)"
   ]
  },
  {
   "cell_type": "code",
   "execution_count": null,
   "metadata": {
    "collapsed": false
   },
   "outputs": [],
   "source": [
    "LR_armijo.fit(X,y)"
   ]
  },
  {
   "cell_type": "code",
   "execution_count": null,
   "metadata": {
    "collapsed": false
   },
   "outputs": [],
   "source": [
    "binaryClassifier2DPlot(LR_armijo)"
   ]
  },
  {
   "cell_type": "markdown",
   "metadata": {},
   "source": [
    "## Comparison of the three"
   ]
  },
  {
   "cell_type": "code",
   "execution_count": 34,
   "metadata": {
    "collapsed": false
   },
   "outputs": [
    {
     "name": "stdout",
     "output_type": "stream",
     "text": [
      "100 loops, best of 3: 3.24 ms per loop\n",
      "100 loops, best of 3: 3.5 ms per loop\n",
      "100 loops, best of 3: 4.83 ms per loop\n"
     ]
    }
   ],
   "source": [
    "LR_Lip = LogisticRegressor(objectiveParms=objectiveParms_Lip, \n",
    "                           gdParms={'alpha':1/L_logist,'verbose':False})\n",
    "LR_adap = LogisticRegressor(objectiveParms={'lam':1},\n",
    "                            gdParms={'L0':1,'verbose':False},\n",
    "                            gd=adaptiveGradientDescent)\n",
    "LR_armijo = LogisticRegressor(objectiveParms={'lam':1},\n",
    "                              gdParms={'L0':1,'gamma':1e-4,'verbose':False},\n",
    "                              gd=adaptiveGradientDescent)\n",
    "%timeit LR_Lip.fit(X,y)\n",
    "%timeit LR_adap.fit(X,y)\n",
    "%timeit LR_armijo.fit(X,y)"
   ]
  },
  {
   "cell_type": "markdown",
   "metadata": {},
   "source": [
    "## On a larger data set"
   ]
  },
  {
   "cell_type": "code",
   "execution_count": 52,
   "metadata": {
    "collapsed": true
   },
   "outputs": [],
   "source": [
    "import pandas as pd\n",
    "import requests"
   ]
  },
  {
   "cell_type": "code",
   "execution_count": 53,
   "metadata": {
    "collapsed": false
   },
   "outputs": [
    {
     "name": "stdout",
     "output_type": "stream",
     "text": [
      "NAME: \tNational Health and Nutrition Survey (NHANES3.DAT)\n",
      "SIZE:\t17,030 observations, 16 variables\n",
      "\n",
      "SOURCE:\tHosmer and Lemeshow (2000) Applied Logistic Regression: Second \n",
      "\tEdition.  These data are copyrighted by John Wiley & Sons Inc. and must \n",
      "\tbe acknowledged and used accordingly.\n",
      "\n",
      "\n",
      "DESCRIPTIVE ABSTRACT:\n",
      "\n",
      "These data are described in Table 6.3 page 215 in the source text.\n",
      "\n",
      "\n",
      "LIST OF VARIABLES:\n",
      "\n",
      "Variable  Description               Codes/Values           Name\n",
      "___________________________________________________________________\n",
      "\n",
      "1         Respondent Identification  \t                   SEQN\n",
      "          Number    \n",
      "\n",
      "2         Pseudo-PSU                1,2                    SDPPSU6\n",
      "\n",
      "3         Pseudo-stratum            01 - 49                SDPSTRA6     \n",
      "\n",
      "4         Statistical weight        225.93 - 139744.9      WTPFHX6\n",
      "\n",
      "5         Age                       years                  HSAGEIR\n",
      "\n",
      "6         Sex                       0 = Female, 1 = Male   HSSEX\n",
      "\n",
      "7         Race                      1 = White              DMARACER\n",
      "                                    2 = Black \n",
      "\t\t\t\t    3 = Other \n",
      "\n",
      "8         Body Weight               pounds                 BMPWTLBS\n",
      "\n",
      "9         Standing Height           inches                 BMPHTIN\n",
      "\n",
      "10        Average Systolic BP       mm Hg                  PEPMNK1R\n",
      "\n",
      "11        Average Diastolic BP      mm Hg                  PEPMNK5R\n",
      "\n",
      "12        Has respondent smoked     1 = Yes, 2 = No        HAR1\n",
      "          > 100 cigarettes in life \n",
      "\n",
      "13        Does repondent smoke      1 = Yes, 2 = No        HAR3\n",
      "          cigarettes now?\n",
      "\n",
      "14        Smoking                   1 = if HAR1 = 2        SMOKE\n",
      "                                    2 = if HAR1=1 & HAR3=2\n",
      "                                    3 = if HAR1=1 & HAR3=1\n",
      "\n",
      "15        Serum Cholesterol         mg/100ml               TCP\n",
      "\n",
      "16        High Blood Pressure       0 if PEPMNK1R <= 140   HBP\n",
      "                                    1 if PEPMNK1R > 140\n",
      "______________________________________________________________________\n",
      "\n"
     ]
    }
   ],
   "source": [
    "descr = requests.get('https://www.umass.edu/statdata/statdata/data/nhanes3.txt')\n",
    "print(descr.text)"
   ]
  },
  {
   "cell_type": "code",
   "execution_count": 40,
   "metadata": {
    "collapsed": false
   },
   "outputs": [
    {
     "name": "stderr",
     "output_type": "stream",
     "text": [
      "/Users/berkas/anaconda/lib/python3.5/site-packages/ipykernel/__main__.py:1: ParserWarning: Falling back to the 'python' engine because the 'c' engine does not support regex separators (separators > 1 char and different from '\\s+' are interpreted as regex); you can avoid this warning by specifying engine='python'.\n",
      "  if __name__ == '__main__':\n",
      "/Users/berkas/anaconda/lib/python3.5/site-packages/pandas/io/parsers.py:1961: FutureWarning: split() requires a non-empty pattern match.\n",
      "  yield pat.split(line.strip())\n",
      "/Users/berkas/anaconda/lib/python3.5/site-packages/pandas/io/parsers.py:1963: FutureWarning: split() requires a non-empty pattern match.\n",
      "  yield pat.split(line.strip())\n"
     ]
    }
   ],
   "source": [
    "smoking = pd.read_csv(filepath_or_buffer='https://www.umass.edu/statdata/statdata/data/nhanes3.dat', sep=' *', header=None, na_values='.')"
   ]
  },
  {
   "cell_type": "code",
   "execution_count": 43,
   "metadata": {
    "collapsed": false
   },
   "outputs": [
    {
     "name": "stdout",
     "output_type": "stream",
     "text": [
      "smoking.shape = (17031, 16)\n"
     ]
    },
    {
     "data": {
      "text/html": [
       "<div>\n",
       "<table border=\"1\" class=\"dataframe\">\n",
       "  <thead>\n",
       "    <tr style=\"text-align: right;\">\n",
       "      <th></th>\n",
       "      <th>0</th>\n",
       "      <th>1</th>\n",
       "      <th>2</th>\n",
       "      <th>3</th>\n",
       "      <th>4</th>\n",
       "      <th>5</th>\n",
       "      <th>6</th>\n",
       "      <th>7</th>\n",
       "      <th>8</th>\n",
       "      <th>9</th>\n",
       "      <th>10</th>\n",
       "      <th>11</th>\n",
       "      <th>12</th>\n",
       "      <th>13</th>\n",
       "      <th>14</th>\n",
       "      <th>15</th>\n",
       "    </tr>\n",
       "  </thead>\n",
       "  <tbody>\n",
       "    <tr>\n",
       "      <th>0</th>\n",
       "      <td>3.0</td>\n",
       "      <td>1.0</td>\n",
       "      <td>44.0</td>\n",
       "      <td>1735.14</td>\n",
       "      <td>21.0</td>\n",
       "      <td>1.0</td>\n",
       "      <td>1.0</td>\n",
       "      <td>179.5</td>\n",
       "      <td>70.4</td>\n",
       "      <td>120.0</td>\n",
       "      <td>67.0</td>\n",
       "      <td>2.0</td>\n",
       "      <td>NaN</td>\n",
       "      <td>1.0</td>\n",
       "      <td>268.0</td>\n",
       "      <td>0</td>\n",
       "    </tr>\n",
       "    <tr>\n",
       "      <th>1</th>\n",
       "      <td>4.0</td>\n",
       "      <td>1.0</td>\n",
       "      <td>43.0</td>\n",
       "      <td>1725.01</td>\n",
       "      <td>32.0</td>\n",
       "      <td>0.0</td>\n",
       "      <td>1.0</td>\n",
       "      <td>135.6</td>\n",
       "      <td>63.9</td>\n",
       "      <td>126.0</td>\n",
       "      <td>86.0</td>\n",
       "      <td>2.0</td>\n",
       "      <td>NaN</td>\n",
       "      <td>1.0</td>\n",
       "      <td>160.0</td>\n",
       "      <td>0</td>\n",
       "    </tr>\n",
       "    <tr>\n",
       "      <th>2</th>\n",
       "      <td>9.0</td>\n",
       "      <td>2.0</td>\n",
       "      <td>43.0</td>\n",
       "      <td>19451.83</td>\n",
       "      <td>48.0</td>\n",
       "      <td>0.0</td>\n",
       "      <td>1.0</td>\n",
       "      <td>149.7</td>\n",
       "      <td>61.8</td>\n",
       "      <td>131.0</td>\n",
       "      <td>73.0</td>\n",
       "      <td>1.0</td>\n",
       "      <td>2.0</td>\n",
       "      <td>2.0</td>\n",
       "      <td>236.0</td>\n",
       "      <td>0</td>\n",
       "    </tr>\n",
       "    <tr>\n",
       "      <th>3</th>\n",
       "      <td>10.0</td>\n",
       "      <td>1.0</td>\n",
       "      <td>6.0</td>\n",
       "      <td>27769.56</td>\n",
       "      <td>35.0</td>\n",
       "      <td>1.0</td>\n",
       "      <td>1.0</td>\n",
       "      <td>203.5</td>\n",
       "      <td>69.8</td>\n",
       "      <td>130.0</td>\n",
       "      <td>82.0</td>\n",
       "      <td>2.0</td>\n",
       "      <td>NaN</td>\n",
       "      <td>1.0</td>\n",
       "      <td>225.0</td>\n",
       "      <td>0</td>\n",
       "    </tr>\n",
       "    <tr>\n",
       "      <th>4</th>\n",
       "      <td>11.0</td>\n",
       "      <td>2.0</td>\n",
       "      <td>40.0</td>\n",
       "      <td>1245.52</td>\n",
       "      <td>48.0</td>\n",
       "      <td>1.0</td>\n",
       "      <td>1.0</td>\n",
       "      <td>155.3</td>\n",
       "      <td>66.2</td>\n",
       "      <td>120.0</td>\n",
       "      <td>70.0</td>\n",
       "      <td>1.0</td>\n",
       "      <td>2.0</td>\n",
       "      <td>2.0</td>\n",
       "      <td>260.0</td>\n",
       "      <td>0</td>\n",
       "    </tr>\n",
       "  </tbody>\n",
       "</table>\n",
       "</div>"
      ],
      "text/plain": [
       "     0    1     2         3     4    5    6      7     8      9     10   11  \\\n",
       "0   3.0  1.0  44.0   1735.14  21.0  1.0  1.0  179.5  70.4  120.0  67.0  2.0   \n",
       "1   4.0  1.0  43.0   1725.01  32.0  0.0  1.0  135.6  63.9  126.0  86.0  2.0   \n",
       "2   9.0  2.0  43.0  19451.83  48.0  0.0  1.0  149.7  61.8  131.0  73.0  1.0   \n",
       "3  10.0  1.0   6.0  27769.56  35.0  1.0  1.0  203.5  69.8  130.0  82.0  2.0   \n",
       "4  11.0  2.0  40.0   1245.52  48.0  1.0  1.0  155.3  66.2  120.0  70.0  1.0   \n",
       "\n",
       "    12   13     14  15  \n",
       "0  NaN  1.0  268.0   0  \n",
       "1  NaN  1.0  160.0   0  \n",
       "2  2.0  2.0  236.0   0  \n",
       "3  NaN  1.0  225.0   0  \n",
       "4  2.0  2.0  260.0   0  "
      ]
     },
     "execution_count": 43,
     "metadata": {},
     "output_type": "execute_result"
    }
   ],
   "source": [
    "print('smoking.shape = {}'.format(smoking.shape))\n",
    "smoking.head()"
   ]
  },
  {
   "cell_type": "code",
   "execution_count": 54,
   "metadata": {
    "collapsed": false
   },
   "outputs": [
    {
     "data": {
      "text/html": [
       "<div>\n",
       "<table border=\"1\" class=\"dataframe\">\n",
       "  <thead>\n",
       "    <tr style=\"text-align: right;\">\n",
       "      <th></th>\n",
       "      <th>0</th>\n",
       "      <th>1</th>\n",
       "      <th>2</th>\n",
       "      <th>3</th>\n",
       "      <th>4</th>\n",
       "      <th>5</th>\n",
       "      <th>6</th>\n",
       "      <th>7</th>\n",
       "      <th>8</th>\n",
       "      <th>9</th>\n",
       "      <th>10</th>\n",
       "      <th>11</th>\n",
       "      <th>12</th>\n",
       "      <th>13</th>\n",
       "      <th>14</th>\n",
       "      <th>15</th>\n",
       "    </tr>\n",
       "  </thead>\n",
       "  <tbody>\n",
       "    <tr>\n",
       "      <th>17026</th>\n",
       "      <td>53589.0</td>\n",
       "      <td>2.0</td>\n",
       "      <td>8.0</td>\n",
       "      <td>4667.32</td>\n",
       "      <td>81.0</td>\n",
       "      <td>0.0</td>\n",
       "      <td>1.0</td>\n",
       "      <td>190.2</td>\n",
       "      <td>61.8</td>\n",
       "      <td>129.0</td>\n",
       "      <td>72.0</td>\n",
       "      <td>1.0</td>\n",
       "      <td>2.0</td>\n",
       "      <td>2.0</td>\n",
       "      <td>168.0</td>\n",
       "      <td>0</td>\n",
       "    </tr>\n",
       "    <tr>\n",
       "      <th>17027</th>\n",
       "      <td>53593.0</td>\n",
       "      <td>2.0</td>\n",
       "      <td>17.0</td>\n",
       "      <td>18911.40</td>\n",
       "      <td>23.0</td>\n",
       "      <td>1.0</td>\n",
       "      <td>1.0</td>\n",
       "      <td>172.7</td>\n",
       "      <td>76.2</td>\n",
       "      <td>123.0</td>\n",
       "      <td>83.0</td>\n",
       "      <td>2.0</td>\n",
       "      <td>NaN</td>\n",
       "      <td>1.0</td>\n",
       "      <td>188.0</td>\n",
       "      <td>0</td>\n",
       "    </tr>\n",
       "    <tr>\n",
       "      <th>17028</th>\n",
       "      <td>53594.0</td>\n",
       "      <td>2.0</td>\n",
       "      <td>11.0</td>\n",
       "      <td>9323.23</td>\n",
       "      <td>26.0</td>\n",
       "      <td>0.0</td>\n",
       "      <td>1.0</td>\n",
       "      <td>234.9</td>\n",
       "      <td>67.1</td>\n",
       "      <td>124.0</td>\n",
       "      <td>83.0</td>\n",
       "      <td>2.0</td>\n",
       "      <td>NaN</td>\n",
       "      <td>1.0</td>\n",
       "      <td>137.0</td>\n",
       "      <td>0</td>\n",
       "    </tr>\n",
       "    <tr>\n",
       "      <th>17029</th>\n",
       "      <td>53616.0</td>\n",
       "      <td>2.0</td>\n",
       "      <td>21.0</td>\n",
       "      <td>2341.16</td>\n",
       "      <td>85.0</td>\n",
       "      <td>1.0</td>\n",
       "      <td>1.0</td>\n",
       "      <td>189.1</td>\n",
       "      <td>68.0</td>\n",
       "      <td>157.0</td>\n",
       "      <td>94.0</td>\n",
       "      <td>2.0</td>\n",
       "      <td>NaN</td>\n",
       "      <td>1.0</td>\n",
       "      <td>285.0</td>\n",
       "      <td>1</td>\n",
       "    </tr>\n",
       "    <tr>\n",
       "      <th>17030</th>\n",
       "      <td>NaN</td>\n",
       "      <td>NaN</td>\n",
       "      <td>NaN</td>\n",
       "      <td>NaN</td>\n",
       "      <td>NaN</td>\n",
       "      <td>NaN</td>\n",
       "      <td>NaN</td>\n",
       "      <td>NaN</td>\n",
       "      <td>NaN</td>\n",
       "      <td>NaN</td>\n",
       "      <td>NaN</td>\n",
       "      <td>NaN</td>\n",
       "      <td>NaN</td>\n",
       "      <td>NaN</td>\n",
       "      <td>NaN</td>\n",
       "      <td>0</td>\n",
       "    </tr>\n",
       "  </tbody>\n",
       "</table>\n",
       "</div>"
      ],
      "text/plain": [
       "            0    1     2         3     4    5    6      7     8      9     10  \\\n",
       "17026  53589.0  2.0   8.0   4667.32  81.0  0.0  1.0  190.2  61.8  129.0  72.0   \n",
       "17027  53593.0  2.0  17.0  18911.40  23.0  1.0  1.0  172.7  76.2  123.0  83.0   \n",
       "17028  53594.0  2.0  11.0   9323.23  26.0  0.0  1.0  234.9  67.1  124.0  83.0   \n",
       "17029  53616.0  2.0  21.0   2341.16  85.0  1.0  1.0  189.1  68.0  157.0  94.0   \n",
       "17030      NaN  NaN   NaN       NaN   NaN  NaN  NaN    NaN   NaN    NaN   NaN   \n",
       "\n",
       "        11   12   13     14  15  \n",
       "17026  1.0  2.0  2.0  168.0   0  \n",
       "17027  2.0  NaN  1.0  188.0   0  \n",
       "17028  2.0  NaN  1.0  137.0   0  \n",
       "17029  2.0  NaN  1.0  285.0   1  \n",
       "17030  NaN  NaN  NaN    NaN   0  "
      ]
     },
     "execution_count": 54,
     "metadata": {},
     "output_type": "execute_result"
    }
   ],
   "source": [
    "smoking.tail()"
   ]
  },
  {
   "cell_type": "markdown",
   "metadata": {},
   "source": [
    "# Coordinate optimization\n",
    "\n",
    "In this case, we must assume that our function $f(w; X,y)$ is the sum of a smooth function and a separable function\n",
    "$$\n",
    "f(w; X,y) = g(w; X,y) + \\sum_{j=1}^d h_j(w_i; X,y)\n",
    "$$\n",
    "Then at each iteration $t$ select an index $j_t$ and update that index via \n",
    "$$\n",
    "x^{t+1}_{j_t} = x^t_{j_t} + \\gamma_t \\quad\\iff \\quad x^{t+1} = x^t + \\gamma_t e_{j_t}\n",
    "$$\n",
    "for some constant $\\gamma_t$ and where $e_{j_t}$ is the $j_t$-th unit vector.\n",
    "\n",
    "In the case of logistic regression, one of the key tools here is that this allows us to track updates via \n",
    "$$\n",
    "Xw^{t+1} = Xw^t + \\gamma_t X e_{j_t} = Xw^t + \\gamma_t x_{j_t}\n",
    "$$\n",
    "so that it is only necessary to keep track of the index $j_t$ that is selected and the update constant $\\gamma_t$ — no more than one expensive matrix multiplication is required [to compute $Xw^0$]. But how does one go about choosing $j_t$ on iteration $t$? We'll mention two ways. \n",
    "### Prepare larger data set"
   ]
  },
  {
   "cell_type": "markdown",
   "metadata": {},
   "source": [
    "### Lipschitz and Uniform Sampling\n",
    "\n",
    "In the first selection method that we'll discuss, $j_t$ is chosen uniformly at random on each iteration from $[d] := \\{1, 2, \\ldots, d\\}$ – *i.e.*, $j_t \\sim \\mathrm{Unif}([d])$ and $j_t$ chosen according to $P(j_t = k) = L_k/Z$ for $k \\in [d]$, where $L_k$ denotes the $k$th coordinate-wise Lipschitz constant and $Z$ a normalizing factor so that $Z^{-1}\\sum_k L_k = 1$ gives a pmf on $[d]$."
   ]
  },
  {
   "cell_type": "code",
   "execution_count": null,
   "metadata": {
    "collapsed": true
   },
   "outputs": [],
   "source": [
    "def weightedIndexSample(weights):\n",
    "    \"\"\"\n",
    "    weightedIndexSample returns a random integer in {1, 2, ..., weights.size}\n",
    "    according to the probability mass function induced by weights\n",
    "    \"\"\"\n",
    "    return np.random.choice(range(weights.size), p=weights/weights.sum())"
   ]
  },
  {
   "cell_type": "code",
   "execution_count": null,
   "metadata": {
    "collapsed": true
   },
   "outputs": [],
   "source": [
    "def uniformIndexSample(v):\n",
    "    \"\"\"\n",
    "    uniformIndexSample returns a random integer in {1, 2, ..., v.size}\n",
    "    uniformly at random. \n",
    "    \"\"\"\n",
    "    return np.random.choice(range(v.size))"
   ]
  },
  {
   "cell_type": "code",
   "execution_count": null,
   "metadata": {
    "collapsed": false
   },
   "outputs": [],
   "source": [
    "def lipschitzLogisticLipschitz(X, lam=0):\n",
    "    \"\"\"\n",
    "    lipschitzLogisticLipschitz returns a vector of the coordinate-wise\n",
    "    Lipschitz constants for the logistic function given data X and \n",
    "    regularizer lam. (i.e., each L_j, j in [d] satisfies the Lipschitz\n",
    "    continuity inequality for coordinate j)\n",
    "    \"\"\"\n",
    "    return .25 * (X**2).sum(axis=0) + lam\n",
    "def uniformLogisticLipschitz(X, lam=0):\n",
    "    \"\"\"\n",
    "    uniformLogisticLipschitz returns the uniform coordinate-wise Lipschitz \n",
    "    constant for the logistic function given data X and regularizer lam \n",
    "    (i.e., the smallest Lipschitz constant for which the Lipschitz continuity \n",
    "    inequality is satisfied for each coordinate)\n",
    "    \"\"\"\n",
    "    return np.max(lipschitzLogisticLipschitz(X, lam))\n"
   ]
  },
  {
   "cell_type": "code",
   "execution_count": null,
   "metadata": {
    "collapsed": false
   },
   "outputs": [],
   "source": [
    "def randomizedCoordinateDescent(funObj, w, X, y, \n",
    "                                objectiveParms={}, \n",
    "                                gdParms={}):\n",
    "    \"\"\"\n",
    "    randomizedCoordinateDescent performs randomized coordinate \n",
    "    descent on the convex function funObj to find the optimal \n",
    "    parameter vector w given labeled training data [X, y]. \n",
    "    \"\"\"\n",
    "    # progress tolerance\n",
    "    progTol = gdParms.get('progTol')\n",
    "    if progTol is None:\n",
    "        progTol = 1e-4\n",
    "    # maximum number of passes through the data\n",
    "    maxPasses = gdParms.get('maxPasses')\n",
    "    if maxPasses is None:\n",
    "        maxPasses = 500\n",
    "    # whether to print output along the way\n",
    "    verbose = gdParms.get('verbose')\n",
    "    if verbose is None:\n",
    "        verbose = True\n",
    "    # Which Lipschitz method to use?\n",
    "    # default: uniformLogisticLipschitz\n",
    "    lipschitzMethod = gdParms.get('lipschitzMethod')\n",
    "    if lipschitzMethod is None:\n",
    "        L = uniformLogisticLipschitz(X, **objectiveParms)\n",
    "    else:\n",
    "        L = lipschitzMethod(X, **objectiveParms)\n",
    "    # How to choose the coordinate/index jt on iteration t\n",
    "    # default: weighted index sampling\n",
    "    # default: if L is a uniform Lipschitz constant, then \n",
    "    #          uniform index sampling is performed.\n",
    "    coordSample = gdParms.get('coordSample')\n",
    "    if coordSample is None:\n",
    "        coordSample = weightedIndexSample\n",
    "    if isinstance(L, float):\n",
    "        unif = np.ones(w.shape).ravel()\n",
    "    \n",
    "    # For fast mulitiplication\n",
    "    Xw = X @ w\n",
    "    # For tracking progress\n",
    "    w_old = w.copy()\n",
    "    \n",
    "    for t in range(maxPasses*d):\n",
    "        # Choose index and Lipschitz coefficient\n",
    "        if isinstance(L, float):\n",
    "            Lt = L\n",
    "            j = coordSample(unif)\n",
    "        else:\n",
    "            j = coordSample(L)\n",
    "            Lt = L[j]\n",
    "        # Compute objective value and partial derivative g_j\n",
    "        f, g_j = funObj(w, Xw, y, j, **objectiveParms)\n",
    "        # Variable update\n",
    "        Xw -= g_j*np.atleast_2d(X[:,j]).T/Lt\n",
    "        w[j] = w[j] - g_j/Lt\n",
    "        # Check for lack of progress after each pass\n",
    "        if np.mod(t,d) == 0:\n",
    "            change = np.linalg.norm(w-w_old,2)*np.sqrt(d)\n",
    "            print('Passes = %d, function = %.4e, change = %15.4e' % (t/d, f, change))\n",
    "            if change < progTol:\n",
    "                print('Parameters changed by less than progTol on pass %d.' % t)\n",
    "                break\n",
    "            w_old = w\n",
    "    return (w, f)\n",
    "    \n",
    "    \n",
    "def coordinateObjective(w,Xw,y,j,lam):\n",
    "        \"\"\"\n",
    "        coordinateObjective computes the negative log-likelihood of the MAP estimate\n",
    "        and the jth gradient for the logistic function using the matrix-product Xw,\n",
    "        the labels y, an index j and regularizer lam\n",
    "        \"\"\"\n",
    "        yXw = y*Xw\n",
    "        invsigmoid = 1+np.exp(-yXw)\n",
    "        nll = np.sum(np.log(invsigmoid)) + .5*lam*np.linalg.norm(w,2)\n",
    "        g_j = -X[:,j].T @ (y*(1-1/invsigmoid)) + lam*w[j, 0]\n",
    "        return (nll, g_j)"
   ]
  },
  {
   "cell_type": "code",
   "execution_count": null,
   "metadata": {
    "collapsed": false
   },
   "outputs": [],
   "source": [
    "LR_cooLipLip = LogisticRegressor(objectiveParms={'lam':1},\n",
    "                              gdParms={'coordSample':weightedIndexSample,\n",
    "                                       'lipschitzMethod': lipschitzLogisticLipschitz},\n",
    "                              objective=coordinateObjective,\n",
    "                              gd=randomizedCoordinateDescent)\n",
    "LR_cooUnifLip = LogisticRegressor(objectiveParms={'lam':1},\n",
    "                               gdParms={'coordSample':uniformIndexSample,\n",
    "                                        'lipschitzMethod': lipschitzLogisticLipschitz},\n",
    "                               objective=coordinateObjective,\n",
    "                               gd=randomizedCoordinateDescent)"
   ]
  },
  {
   "cell_type": "code",
   "execution_count": null,
   "metadata": {
    "collapsed": false
   },
   "outputs": [],
   "source": [
    "LR_cooLipUnif = LogisticRegressor(objectiveParms={'lam':1},\n",
    "                              gdParms={'coordSample':weightedIndexSample,\n",
    "                                       'lipschitzMethod': uniformLogisticLipschitz},\n",
    "                              objective=coordinateObjective,\n",
    "                              gd=randomizedCoordinateDescent)\n",
    "LR_cooUnifUnif = LogisticRegressor(objectiveParms={'lam':1},\n",
    "                               gdParms={'coordSample':uniformIndexSample,\n",
    "                                        'lipschitzMethod': uniformLogisticLipschitz},\n",
    "                               objective=coordinateObjective,\n",
    "                               gd=randomizedCoordinateDescent)"
   ]
  },
  {
   "cell_type": "code",
   "execution_count": null,
   "metadata": {
    "collapsed": false
   },
   "outputs": [],
   "source": [
    "LR_cooLipLip.fit(X,y)\n",
    "LR_cooUnifLip.fit(X,y)\n",
    "LR_cooLipUnif.fit(X,y)\n",
    "LR_cooUnifUnif.fit(X,y)"
   ]
  },
  {
   "cell_type": "code",
   "execution_count": null,
   "metadata": {
    "collapsed": false
   },
   "outputs": [],
   "source": [
    "binaryClassifier2DPlot(LR_cooLipLip)"
   ]
  },
  {
   "cell_type": "code",
   "execution_count": null,
   "metadata": {
    "collapsed": false
   },
   "outputs": [],
   "source": [
    "binaryClassifier2DPlot(LR_cooUnifLip)"
   ]
  },
  {
   "cell_type": "code",
   "execution_count": null,
   "metadata": {
    "collapsed": false
   },
   "outputs": [],
   "source": [
    "binaryClassifier2DPlot(LR_cooLipUnif)"
   ]
  },
  {
   "cell_type": "code",
   "execution_count": null,
   "metadata": {
    "collapsed": false
   },
   "outputs": [],
   "source": [
    "binaryClassifier2DPlot(LR_cooUnifUnif)"
   ]
  },
  {
   "cell_type": "markdown",
   "metadata": {},
   "source": [
    "note that where uniform sampling is used ---\n",
    "$\\forall j \\in [d], \\,\\, p(j) =\n",
    "d^{-1}$ --- we achieve the guaranteed progress bound\n",
    "$$\n",
    "  \\E (f(x^{t+1})) \\leq f(x^t) - \\frac{1}{2dL} \\|\\nabla f(x^t)\\|^2\n",
    "$$\n",
    "where $[d] := \\{1, \\ldots, d\\}$. Correspondingly, for Lipschitz sampling, the\n",
    "pmf is given by\n",
    "$$\n",
    "\\forall j \\in [d],\\quad p(j) = \\frac{L_j}{\\sum_{j \\in [d]} L_j} =: \\frac{L_j}{d \\overline{L}}\n",
    "$$\n",
    "where $d\\overline{L}$ is the normalizing constant for the pmf, with\n",
    "$\\overline{L}$ the arithmetic mean of the coordinate-wise Lipschitz constants\n",
    "$L_j$. Hence, the guaranteed progress bound for Lipschitz sampling is\n",
    "$$\n",
    "\\E f(x^{t+1}) \\leq \\E \\big( f(x^t) - \\frac{1}{2L} |\\nabla_{j_t} f(x^t)|^2\\big) %\n",
    "= \\sum_{j=1}^d \\frac{L_{j_t}}{d\\overline{L}} \\big( f(x^t) - \\frac{1}{2L} |\\nabla_j f(x^t)|^2 \\big)\n",
    "$$\n",
    "$$\n",
    "= f(x^t) - \\frac{1}{2d L} \\sum_{j\\in d} \\frac{L_{j_t}}{\\overline{L}} |\\nabla_{j_t} f(x^t)|^2\n",
    "$$\n",
    "In particular, by comparing the two equations above, uniform sampling is on average preferred to Lipschitz sampling if"
   ]
  },
  {
   "cell_type": "markdown",
   "metadata": {},
   "source": [
    "$$\n",
    "\\ip{\\mathbf{1}, |\\nabla_{j_t} f(x^t)|^2} = \\|\\nabla f(x^t)\\|^2 > \\sum_{j_t\\in [d]} \\frac{L_{j_t}}{\\overline{L}}\n",
    "|\\nabla_{j_t} f(x^t)|^2 = \\ip{\\frac{L_{j_t}}{\\overline{L}}, |\\nabla_{j_t}\n",
    "  f(x^t)|^2}.\n",
    "$$\n",
    "Firstly, by the Cauchy-Schwarz inequality, this certainly occurs if\n",
    "$\\|L_{j_t}\\|_2 < \\overline{L}$. Moreover, as an example, perhaps\n",
    "Lipschitz sampling is sub-optimal on its second pass through the data, where\n",
    "the gradient on the highly-preferred indices is already quite small. This would\n",
    "cause the two vectors to be closer to orthogonal, thereby being more likely to\n",
    "satisfy the above inequality. Note: more generally, it is desirable to have a\n",
    "sampling scheme $p(j_t)$ which is well-aligned with the squared modulus of the $j_t$-gradient vector\n",
    "$\\big(|\\nabla_{j_t} f(x^t)|^2 \\big)$."
   ]
  },
  {
   "cell_type": "markdown",
   "metadata": {},
   "source": [
    "# Further reading\n",
    "\n",
    "## Stochastic Gradient Descent\n",
    "\n",
    "### Stochastic Average Gradient\n",
    "\n",
    "### SVRG\n",
    "\n",
    "## Regularization\n",
    "### $L^2$ regularization\n",
    "\n",
    "### $L^1$ regularization\n",
    "\n",
    "Robust linear regression is an excellent way of demonstrating the difference between optimizing the $L^1$ norm and optimizing the $L^2$ norm. \n",
    "\n",
    "Also *cf.* Compressed Sensing; the $\\ell^1$ norm is *sparsity promoting*. That is, under certain conditions, the solution to the constrained $\\ell^1$ minimization problem \n",
    "$$\n",
    "\\hat x := \\argmin \\|x\\|_1 \\quad \\text{s.t.}\\quad \\|Ax - y\\|_2^2 \\leq \\eta\n",
    "$$\n",
    "is unique and $s$-sparse if elements of $A$ come from a certain distribution and $m \\geq C s \\log (N/s)$ for a known [and small] constant $C$.\n",
    "## Constrained Optimization\n",
    "### Projected Gradient\n",
    "\n",
    "### Proximal Gradient\n",
    "\n",
    "### Newton's method\n",
    "\n",
    "From a second-order Taylor expansion, one sees \n",
    "$$\n",
    "f(w^*) = f(w^j) + \\nabla f(w^j) p^j + \\frac{1}{2} (p^j)^T \\nabla^2 f(w^j) p_j + O (\\|p^j\\|^3)\n",
    "$$\n",
    "for an unknown vector $p_j$. Since $\\nabla^2 f(w^j)$ is PSD\n",
    "\n",
    "### References: \n",
    "1. Boyd & Vandenberghe's [Convex Optimization](https://web.stanford.edu/~boyd/cvxbook/bv_cvxbook.pdf)\n",
    "2. Bertsekas's Convex Optimization Algorithms\n",
    "3. [Ascher & Greif](http://gw2jh3xr2c.search.serialssolutions.com/?sid=sersol&SS_jc=TC0001261310&title=A%20first%20course%20in%20numerical%20methods) (pg. 261–265)"
   ]
  }
 ],
 "metadata": {
  "kernelspec": {
   "display_name": "Python 3",
   "language": "python",
   "name": "python3"
  },
  "language_info": {
   "codemirror_mode": {
    "name": "ipython",
    "version": 3
   },
   "file_extension": ".py",
   "mimetype": "text/x-python",
   "name": "python",
   "nbconvert_exporter": "python",
   "pygments_lexer": "ipython3",
   "version": "3.5.2"
  },
  "toc": {
   "nav_menu": {
    "height": "336px",
    "width": "252px"
   },
   "navigate_menu": true,
   "number_sections": true,
   "sideBar": true,
   "threshold": 4,
   "toc_cell": true,
   "toc_section_display": "block",
   "toc_window_display": false
  }
 },
 "nbformat": 4,
 "nbformat_minor": 1
}
